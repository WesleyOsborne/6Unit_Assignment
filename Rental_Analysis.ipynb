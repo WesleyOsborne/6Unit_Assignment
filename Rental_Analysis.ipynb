{
 "cells": [
  {
   "cell_type": "code",
   "execution_count": 5,
   "id": "8b7fbc1c-598f-40a7-a2d0-77e7d8e3ae89",
   "metadata": {},
   "outputs": [],
   "source": [
    "# Imports\n",
    "import panel as pn\n",
    "pn.extension('plotly')\n",
    "import plotly.express as px\n",
    "import pandas as pd\n",
    "import matplotlib.pyplot as plt\n",
    "import os\n",
    "from pathlib import Path\n",
    "from dotenv import load_dotenv\n",
    "import numpy as np\n",
    "import hvplot.pandas"
   ]
  },
  {
   "cell_type": "code",
   "execution_count": 6,
   "id": "1de51aa0-5393-4b02-a143-26326b211ddb",
   "metadata": {},
   "outputs": [
    {
     "data": {
      "text/plain": [
       "True"
      ]
     },
     "execution_count": 6,
     "metadata": {},
     "output_type": "execute_result"
    }
   ],
   "source": [
    "# Read the Mapbox API Key\n",
    "load_dotenv()\n"
   ]
  },
  {
   "cell_type": "code",
   "execution_count": 7,
   "id": "4e8fa5ac-5f29-4a2c-bc76-02c0f5ab03a4",
   "metadata": {},
   "outputs": [
    {
     "data": {
      "text/plain": [
       "str"
      ]
     },
     "execution_count": 7,
     "metadata": {},
     "output_type": "execute_result"
    }
   ],
   "source": [
    "MapBox_Key=os.getenv(\"MapBox_Key\")\n",
    "type(MapBox_Key)"
   ]
  },
  {
   "cell_type": "code",
   "execution_count": 8,
   "id": "34aaa51c-9bea-480d-8180-35da76ada177",
   "metadata": {},
   "outputs": [
    {
     "data": {
      "text/html": [
       "<div>\n",
       "<style scoped>\n",
       "    .dataframe tbody tr th:only-of-type {\n",
       "        vertical-align: middle;\n",
       "    }\n",
       "\n",
       "    .dataframe tbody tr th {\n",
       "        vertical-align: top;\n",
       "    }\n",
       "\n",
       "    .dataframe thead th {\n",
       "        text-align: right;\n",
       "    }\n",
       "</style>\n",
       "<table border=\"1\" class=\"dataframe\">\n",
       "  <thead>\n",
       "    <tr style=\"text-align: right;\">\n",
       "      <th></th>\n",
       "      <th>neighbourhood</th>\n",
       "      <th>single_detached_house</th>\n",
       "      <th>apartment_five_storeys_plus</th>\n",
       "      <th>movable_dwelling</th>\n",
       "      <th>semi_detached_house</th>\n",
       "      <th>row_house</th>\n",
       "      <th>duplex</th>\n",
       "      <th>apartment_five_storeys_less</th>\n",
       "      <th>other_house</th>\n",
       "      <th>average_house_value</th>\n",
       "      <th>shelter_costs_owned</th>\n",
       "      <th>shelter_costs_rented</th>\n",
       "    </tr>\n",
       "    <tr>\n",
       "      <th>year</th>\n",
       "      <th></th>\n",
       "      <th></th>\n",
       "      <th></th>\n",
       "      <th></th>\n",
       "      <th></th>\n",
       "      <th></th>\n",
       "      <th></th>\n",
       "      <th></th>\n",
       "      <th></th>\n",
       "      <th></th>\n",
       "      <th></th>\n",
       "      <th></th>\n",
       "    </tr>\n",
       "  </thead>\n",
       "  <tbody>\n",
       "    <tr>\n",
       "      <th>2001</th>\n",
       "      <td>Agincourt North</td>\n",
       "      <td>3715</td>\n",
       "      <td>1480</td>\n",
       "      <td>0</td>\n",
       "      <td>1055</td>\n",
       "      <td>1295</td>\n",
       "      <td>195</td>\n",
       "      <td>185</td>\n",
       "      <td>5</td>\n",
       "      <td>200388</td>\n",
       "      <td>810</td>\n",
       "      <td>870</td>\n",
       "    </tr>\n",
       "    <tr>\n",
       "      <th>2001</th>\n",
       "      <td>Agincourt South-Malvern West</td>\n",
       "      <td>3250</td>\n",
       "      <td>1835</td>\n",
       "      <td>0</td>\n",
       "      <td>545</td>\n",
       "      <td>455</td>\n",
       "      <td>105</td>\n",
       "      <td>425</td>\n",
       "      <td>0</td>\n",
       "      <td>203047</td>\n",
       "      <td>806</td>\n",
       "      <td>892</td>\n",
       "    </tr>\n",
       "    <tr>\n",
       "      <th>2001</th>\n",
       "      <td>Alderwood</td>\n",
       "      <td>3175</td>\n",
       "      <td>315</td>\n",
       "      <td>0</td>\n",
       "      <td>470</td>\n",
       "      <td>50</td>\n",
       "      <td>185</td>\n",
       "      <td>370</td>\n",
       "      <td>0</td>\n",
       "      <td>259998</td>\n",
       "      <td>817</td>\n",
       "      <td>924</td>\n",
       "    </tr>\n",
       "    <tr>\n",
       "      <th>2001</th>\n",
       "      <td>Annex</td>\n",
       "      <td>1060</td>\n",
       "      <td>6090</td>\n",
       "      <td>5</td>\n",
       "      <td>1980</td>\n",
       "      <td>605</td>\n",
       "      <td>275</td>\n",
       "      <td>3710</td>\n",
       "      <td>165</td>\n",
       "      <td>453850</td>\n",
       "      <td>1027</td>\n",
       "      <td>1378</td>\n",
       "    </tr>\n",
       "    <tr>\n",
       "      <th>2001</th>\n",
       "      <td>Banbury-Don Mills</td>\n",
       "      <td>3615</td>\n",
       "      <td>4465</td>\n",
       "      <td>0</td>\n",
       "      <td>240</td>\n",
       "      <td>380</td>\n",
       "      <td>15</td>\n",
       "      <td>1360</td>\n",
       "      <td>0</td>\n",
       "      <td>371864</td>\n",
       "      <td>1007</td>\n",
       "      <td>1163</td>\n",
       "    </tr>\n",
       "  </tbody>\n",
       "</table>\n",
       "</div>"
      ],
      "text/plain": [
       "                     neighbourhood  single_detached_house  \\\n",
       "year                                                        \n",
       "2001               Agincourt North                   3715   \n",
       "2001  Agincourt South-Malvern West                   3250   \n",
       "2001                     Alderwood                   3175   \n",
       "2001                         Annex                   1060   \n",
       "2001             Banbury-Don Mills                   3615   \n",
       "\n",
       "      apartment_five_storeys_plus  movable_dwelling  semi_detached_house  \\\n",
       "year                                                                       \n",
       "2001                         1480                 0                 1055   \n",
       "2001                         1835                 0                  545   \n",
       "2001                          315                 0                  470   \n",
       "2001                         6090                 5                 1980   \n",
       "2001                         4465                 0                  240   \n",
       "\n",
       "      row_house  duplex  apartment_five_storeys_less  other_house  \\\n",
       "year                                                                \n",
       "2001       1295     195                          185            5   \n",
       "2001        455     105                          425            0   \n",
       "2001         50     185                          370            0   \n",
       "2001        605     275                         3710          165   \n",
       "2001        380      15                         1360            0   \n",
       "\n",
       "      average_house_value  shelter_costs_owned  shelter_costs_rented  \n",
       "year                                                                  \n",
       "2001               200388                  810                   870  \n",
       "2001               203047                  806                   892  \n",
       "2001               259998                  817                   924  \n",
       "2001               453850                 1027                  1378  \n",
       "2001               371864                 1007                  1163  "
      ]
     },
     "execution_count": 8,
     "metadata": {},
     "output_type": "execute_result"
    }
   ],
   "source": [
    "Census_Data = pd.read_csv('census_data.csv', index_col = \"year\")\n",
    "Census_Data.head()"
   ]
  },
  {
   "cell_type": "code",
   "execution_count": 9,
   "id": "d6198ff5-091d-458c-aec3-9f46e3e8e888",
   "metadata": {},
   "outputs": [
    {
     "data": {
      "text/html": [
       "<div>\n",
       "<style scoped>\n",
       "    .dataframe tbody tr th:only-of-type {\n",
       "        vertical-align: middle;\n",
       "    }\n",
       "\n",
       "    .dataframe tbody tr th {\n",
       "        vertical-align: top;\n",
       "    }\n",
       "\n",
       "    .dataframe thead th {\n",
       "        text-align: right;\n",
       "    }\n",
       "</style>\n",
       "<table border=\"1\" class=\"dataframe\">\n",
       "  <thead>\n",
       "    <tr style=\"text-align: right;\">\n",
       "      <th></th>\n",
       "      <th>single_detached_house</th>\n",
       "      <th>apartment_five_storeys_plus</th>\n",
       "      <th>movable_dwelling</th>\n",
       "      <th>semi_detached_house</th>\n",
       "      <th>row_house</th>\n",
       "      <th>duplex</th>\n",
       "      <th>apartment_five_storeys_less</th>\n",
       "      <th>other_house</th>\n",
       "      <th>average_house_value</th>\n",
       "      <th>shelter_costs_owned</th>\n",
       "      <th>shelter_costs_rented</th>\n",
       "    </tr>\n",
       "    <tr>\n",
       "      <th>year</th>\n",
       "      <th></th>\n",
       "      <th></th>\n",
       "      <th></th>\n",
       "      <th></th>\n",
       "      <th></th>\n",
       "      <th></th>\n",
       "      <th></th>\n",
       "      <th></th>\n",
       "      <th></th>\n",
       "      <th></th>\n",
       "      <th></th>\n",
       "    </tr>\n",
       "  </thead>\n",
       "  <tbody>\n",
       "    <tr>\n",
       "      <th>2001</th>\n",
       "      <td>300930</td>\n",
       "      <td>355015</td>\n",
       "      <td>75</td>\n",
       "      <td>90995</td>\n",
       "      <td>52355</td>\n",
       "      <td>23785</td>\n",
       "      <td>116900</td>\n",
       "      <td>3040</td>\n",
       "      <td>40583604</td>\n",
       "      <td>118563</td>\n",
       "      <td>152031</td>\n",
       "    </tr>\n",
       "    <tr>\n",
       "      <th>2006</th>\n",
       "      <td>266860</td>\n",
       "      <td>379400</td>\n",
       "      <td>165</td>\n",
       "      <td>69430</td>\n",
       "      <td>54690</td>\n",
       "      <td>44095</td>\n",
       "      <td>162850</td>\n",
       "      <td>1335</td>\n",
       "      <td>59368353</td>\n",
       "      <td>184352</td>\n",
       "      <td>129558</td>\n",
       "    </tr>\n",
       "    <tr>\n",
       "      <th>2011</th>\n",
       "      <td>274940</td>\n",
       "      <td>429220</td>\n",
       "      <td>100</td>\n",
       "      <td>72480</td>\n",
       "      <td>60355</td>\n",
       "      <td>44750</td>\n",
       "      <td>163895</td>\n",
       "      <td>2165</td>\n",
       "      <td>74259461</td>\n",
       "      <td>202750</td>\n",
       "      <td>142771</td>\n",
       "    </tr>\n",
       "    <tr>\n",
       "      <th>2016</th>\n",
       "      <td>269680</td>\n",
       "      <td>493270</td>\n",
       "      <td>95</td>\n",
       "      <td>71200</td>\n",
       "      <td>61565</td>\n",
       "      <td>48585</td>\n",
       "      <td>165575</td>\n",
       "      <td>2845</td>\n",
       "      <td>92969566</td>\n",
       "      <td>246584</td>\n",
       "      <td>175885</td>\n",
       "    </tr>\n",
       "  </tbody>\n",
       "</table>\n",
       "</div>"
      ],
      "text/plain": [
       "      single_detached_house  apartment_five_storeys_plus  movable_dwelling  \\\n",
       "year                                                                         \n",
       "2001                 300930                       355015                75   \n",
       "2006                 266860                       379400               165   \n",
       "2011                 274940                       429220               100   \n",
       "2016                 269680                       493270                95   \n",
       "\n",
       "      semi_detached_house  row_house  duplex  apartment_five_storeys_less  \\\n",
       "year                                                                        \n",
       "2001                90995      52355   23785                       116900   \n",
       "2006                69430      54690   44095                       162850   \n",
       "2011                72480      60355   44750                       163895   \n",
       "2016                71200      61565   48585                       165575   \n",
       "\n",
       "      other_house  average_house_value  shelter_costs_owned  \\\n",
       "year                                                          \n",
       "2001         3040             40583604               118563   \n",
       "2006         1335             59368353               184352   \n",
       "2011         2165             74259461               202750   \n",
       "2016         2845             92969566               246584   \n",
       "\n",
       "      shelter_costs_rented  \n",
       "year                        \n",
       "2001                152031  \n",
       "2006                129558  \n",
       "2011                142771  \n",
       "2016                175885  "
      ]
     },
     "execution_count": 9,
     "metadata": {},
     "output_type": "execute_result"
    }
   ],
   "source": [
    "# Dwelling Types Per Year\n",
    "#Calculate the sum number of dwelling types units per year\n",
    "Dwelling_Units = Census_Data.groupby('year').sum()\n",
    "Dwelling_Units"
   ]
  },
  {
   "cell_type": "code",
   "execution_count": 10,
   "id": "06721f65-8efd-4b58-b747-a1de2f5d1891",
   "metadata": {},
   "outputs": [],
   "source": [
    "Dwelling_Units.to_csv(\"Sum_Dwelling_Units\")"
   ]
  },
  {
   "cell_type": "code",
   "execution_count": 11,
   "id": "eaf31322-fdd7-47af-b9ec-5a4a4f632828",
   "metadata": {},
   "outputs": [],
   "source": [
    "# Drop Average house Value, and Shelter costs\n",
    "Dwelling_Unit=Dwelling_Units.drop([\"average_house_value\", 'shelter_costs_owned', 'shelter_costs_rented'], axis=1)"
   ]
  },
  {
   "cell_type": "code",
   "execution_count": 12,
   "id": "80ba6d68-b5c3-4d65-ac1b-329310e24b1c",
   "metadata": {},
   "outputs": [
    {
     "data": {},
     "metadata": {},
     "output_type": "display_data"
    },
    {
     "data": {
      "application/vnd.holoviews_exec.v0+json": "",
      "text/html": [
       "<div id='1002'>\n",
       "\n",
       "\n",
       "\n",
       "\n",
       "\n",
       "  <div class=\"bk-root\" id=\"a15d35a4-674c-4df5-accb-8c9bcfe394e0\" data-root-id=\"1002\"></div>\n",
       "</div>\n",
       "<script type=\"application/javascript\">(function(root) {\n",
       "  function embed_document(root) {\n",
       "    var docs_json = {\"d19e6754-d7b7-4853-b920-0fedec6fafad\":{\"defs\":[],\"roots\":{\"references\":[{\"attributes\":{\"children\":[{\"id\":\"1003\"},{\"id\":\"1007\"},{\"id\":\"1079\"},{\"id\":\"1080\"}],\"margin\":[0,0,0,0],\"name\":\"Row01590\"},\"id\":\"1002\",\"type\":\"Row\"},{\"attributes\":{\"below\":[{\"id\":\"1016\"}],\"center\":[{\"id\":\"1018\"},{\"id\":\"1022\"}],\"frame_height\":300,\"frame_width\":800,\"height\":null,\"left\":[{\"id\":\"1019\"}],\"margin\":[5,5,5,5],\"min_border_bottom\":10,\"min_border_left\":10,\"min_border_right\":10,\"min_border_top\":10,\"renderers\":[{\"id\":\"1043\"}],\"sizing_mode\":\"fixed\",\"title\":{\"id\":\"1008\"},\"toolbar\":{\"id\":\"1029\"},\"width\":null,\"x_range\":{\"id\":\"1004\"},\"x_scale\":{\"id\":\"1012\"},\"y_range\":{\"id\":\"1005\"},\"y_scale\":{\"id\":\"1014\"}},\"id\":\"1007\",\"subtype\":\"Figure\",\"type\":\"Plot\"},{\"attributes\":{\"data\":{\"Variable\":[\"single_detached_house\",\"apartment_five_storeys_plus\",\"movable_dwelling\",\"semi_detached_house\",\"row_house\",\"duplex\",\"apartment_five_storeys_less\",\"other_house\"],\"index\":[\"0\",\"0\",\"0\",\"0\",\"0\",\"0\",\"0\",\"0\"],\"value\":[300930,355015,75,90995,52355,23785,116900,3040],\"xoffsets\":[[\"0\",\"single_detached_house\"],[\"0\",\"apartment_five_storeys_plus\"],[\"0\",\"movable_dwelling\"],[\"0\",\"semi_detached_house\"],[\"0\",\"row_house\"],[\"0\",\"duplex\"],[\"0\",\"apartment_five_storeys_less\"],[\"0\",\"other_house\"]]},\"selected\":{\"id\":\"1038\"},\"selection_policy\":{\"id\":\"1068\"}},\"id\":\"1037\",\"type\":\"ColumnDataSource\"},{\"attributes\":{\"callback\":null,\"renderers\":[{\"id\":\"1043\"}],\"tags\":[\"hv_created\"],\"tooltips\":[[\"index\",\"@{index}\"],[\"Variable\",\"@{Variable}\"],[\"value\",\"@{value}\"]]},\"id\":\"1006\",\"type\":\"HoverTool\"},{\"attributes\":{\"margin\":[5,5,5,5],\"name\":\"VSpacer01604\",\"sizing_mode\":\"stretch_height\"},\"id\":\"1086\",\"type\":\"Spacer\"},{\"attributes\":{},\"id\":\"1068\",\"type\":\"UnionRenderers\"},{\"attributes\":{\"bottom_units\":\"screen\",\"fill_alpha\":0.5,\"fill_color\":\"lightgrey\",\"left_units\":\"screen\",\"level\":\"overlay\",\"line_alpha\":1.0,\"line_color\":\"black\",\"line_dash\":[4,4],\"line_width\":2,\"right_units\":\"screen\",\"syncable\":false,\"top_units\":\"screen\"},\"id\":\"1028\",\"type\":\"BoxAnnotation\"},{\"attributes\":{\"source\":{\"id\":\"1037\"}},\"id\":\"1044\",\"type\":\"CDSView\"},{\"attributes\":{\"factors\":[[\"0\",\"other_house\"],[\"0\",\"apartment_five_storeys_less\"],[\"0\",\"duplex\"],[\"0\",\"row_house\"],[\"0\",\"semi_detached_house\"],[\"0\",\"movable_dwelling\"],[\"0\",\"apartment_five_storeys_plus\"],[\"0\",\"single_detached_house\"]],\"tags\":[[[\"index\",\"index\",null],[\"Variable\",\"Variable\",null]]]},\"id\":\"1004\",\"type\":\"FactorRange\"},{\"attributes\":{},\"id\":\"1049\",\"type\":\"CategoricalTickFormatter\"},{\"attributes\":{\"text\":\"Dwelling Types\",\"text_color\":\"black\",\"text_font_size\":\"12pt\"},\"id\":\"1008\",\"type\":\"Title\"},{\"attributes\":{\"format\":\"%.0f\"},\"id\":\"1046\",\"type\":\"PrintfTickFormatter\"},{\"attributes\":{\"fill_alpha\":{\"value\":0.1},\"fill_color\":{\"field\":\"Variable\",\"transform\":{\"id\":\"1036\"}},\"line_alpha\":{\"value\":0.1},\"top\":{\"field\":\"value\"},\"width\":{\"value\":0.8},\"x\":{\"field\":\"xoffsets\"}},\"id\":\"1041\",\"type\":\"VBar\"},{\"attributes\":{},\"id\":\"1017\",\"type\":\"CategoricalTicker\"},{\"attributes\":{\"children\":[{\"id\":\"1084\"},{\"id\":\"1085\"}],\"margin\":[0,0,0,0],\"min_width\":290,\"name\":\"Column01600\",\"width\":290},\"id\":\"1083\",\"type\":\"Column\"},{\"attributes\":{\"margin\":[5,5,5,5],\"name\":\"HSpacer01607\",\"sizing_mode\":\"stretch_width\"},\"id\":\"1079\",\"type\":\"Spacer\"},{\"attributes\":{},\"id\":\"1024\",\"type\":\"PanTool\"},{\"attributes\":{\"margin\":[5,5,5,5],\"name\":\"VSpacer01603\",\"sizing_mode\":\"stretch_height\"},\"id\":\"1081\",\"type\":\"Spacer\"},{\"attributes\":{\"axis\":{\"id\":\"1016\"},\"grid_line_color\":null,\"ticker\":null},\"id\":\"1018\",\"type\":\"Grid\"},{\"attributes\":{},\"id\":\"1051\",\"type\":\"AllLabels\"},{\"attributes\":{\"axis\":{\"id\":\"1019\"},\"dimension\":1,\"grid_line_color\":null,\"ticker\":null},\"id\":\"1022\",\"type\":\"Grid\"},{\"attributes\":{},\"id\":\"1014\",\"type\":\"LinearScale\"},{\"attributes\":{},\"id\":\"1048\",\"type\":\"AllLabels\"},{\"attributes\":{\"axis_label\":\"\",\"formatter\":{\"id\":\"1046\"},\"major_label_policy\":{\"id\":\"1051\"},\"ticker\":{\"id\":\"1020\"}},\"id\":\"1019\",\"type\":\"LinearAxis\"},{\"attributes\":{},\"id\":\"1025\",\"type\":\"WheelZoomTool\"},{\"attributes\":{},\"id\":\"1038\",\"type\":\"Selection\"},{\"attributes\":{\"factors\":[\"single_detached_house\",\"apartment_five_storeys_plus\",\"movable_dwelling\",\"semi_detached_house\",\"row_house\",\"duplex\",\"apartment_five_storeys_less\",\"other_house\"],\"palette\":[\"#30a2da\",\"#fc4f30\",\"#e5ae38\",\"#6d904f\",\"#8b8b8b\",\"#17becf\",\"#9467bd\",\"#d62728\"]},\"id\":\"1036\",\"type\":\"CategoricalColorMapper\"},{\"attributes\":{\"axis_label\":\"\",\"formatter\":{\"id\":\"1049\"},\"major_label_orientation\":1.5707963267948966,\"major_label_policy\":{\"id\":\"1048\"},\"ticker\":{\"id\":\"1017\"}},\"id\":\"1016\",\"type\":\"CategoricalAxis\"},{\"attributes\":{\"active_multi\":null,\"tools\":[{\"id\":\"1006\"},{\"id\":\"1023\"},{\"id\":\"1024\"},{\"id\":\"1025\"},{\"id\":\"1026\"},{\"id\":\"1027\"}]},\"id\":\"1029\",\"type\":\"Toolbar\"},{\"attributes\":{\"children\":[{\"id\":\"1083\"}],\"css_classes\":[\"panel-widget-box\"],\"margin\":[5,5,5,5],\"name\":\"WidgetBox01591\"},\"id\":\"1082\",\"type\":\"Column\"},{\"attributes\":{},\"id\":\"1020\",\"type\":\"BasicTicker\"},{\"attributes\":{\"fill_alpha\":{\"value\":0.2},\"fill_color\":{\"field\":\"Variable\",\"transform\":{\"id\":\"1036\"}},\"line_alpha\":{\"value\":0.2},\"top\":{\"field\":\"value\"},\"width\":{\"value\":0.8},\"x\":{\"field\":\"xoffsets\"}},\"id\":\"1042\",\"type\":\"VBar\"},{\"attributes\":{},\"id\":\"1023\",\"type\":\"SaveTool\"},{\"attributes\":{\"end\":390509.0,\"reset_end\":390509.0,\"reset_start\":0.0,\"tags\":[[[\"value\",\"value\",null]]]},\"id\":\"1005\",\"type\":\"Range1d\"},{\"attributes\":{\"overlay\":{\"id\":\"1028\"}},\"id\":\"1026\",\"type\":\"BoxZoomTool\"},{\"attributes\":{},\"id\":\"1012\",\"type\":\"CategoricalScale\"},{\"attributes\":{},\"id\":\"1027\",\"type\":\"ResetTool\"},{\"attributes\":{\"client_comm_id\":\"d9aa4ddb20874c7f910f895389040f17\",\"comm_id\":\"660e53c56bb3425a980217f786fa8fc4\",\"plot_id\":\"1002\"},\"id\":\"1115\",\"type\":\"panel.models.comm_manager.CommManager\"},{\"attributes\":{\"end\":3,\"js_property_callbacks\":{\"change:value\":[{\"id\":\"1096\"}]},\"margin\":[0,20,20,20],\"min_width\":250,\"show_value\":false,\"start\":0,\"tooltips\":false,\"value\":0,\"width\":250},\"id\":\"1085\",\"type\":\"Slider\"},{\"attributes\":{\"args\":{\"bidirectional\":false,\"properties\":{},\"source\":{\"id\":\"1085\"},\"target\":{\"id\":\"1084\"}},\"code\":\"try { \\n    var labels = ['year: <b>2001</b>', 'year: <b>2006</b>', 'year: <b>2011</b>', 'year: <b>2016</b>']\\n    target.text = labels[source.value]\\n     } catch(err) { console.log(err) }\",\"tags\":[140490276892976]},\"id\":\"1096\",\"type\":\"CustomJS\"},{\"attributes\":{\"margin\":[20,0,0,20],\"name\":\"\",\"style\":{\"white-space\":\"nowrap\"},\"text\":\"year: <b>2001</b>\",\"width\":250},\"id\":\"1084\",\"type\":\"Div\"},{\"attributes\":{\"fill_color\":{\"field\":\"Variable\",\"transform\":{\"id\":\"1036\"}},\"top\":{\"field\":\"value\"},\"width\":{\"value\":0.8},\"x\":{\"field\":\"xoffsets\"}},\"id\":\"1040\",\"type\":\"VBar\"},{\"attributes\":{\"children\":[{\"id\":\"1081\"},{\"id\":\"1082\"},{\"id\":\"1086\"}],\"margin\":[0,0,0,0],\"name\":\"Column01605\"},\"id\":\"1080\",\"type\":\"Column\"},{\"attributes\":{\"margin\":[5,5,5,5],\"name\":\"HSpacer01606\",\"sizing_mode\":\"stretch_width\"},\"id\":\"1003\",\"type\":\"Spacer\"},{\"attributes\":{\"bottom\":{\"value\":0},\"fill_alpha\":{\"value\":1.0},\"fill_color\":{\"field\":\"Variable\",\"transform\":{\"id\":\"1036\"}},\"hatch_alpha\":{\"value\":1.0},\"hatch_color\":{\"value\":\"black\"},\"hatch_scale\":{\"value\":12.0},\"hatch_weight\":{\"value\":1.0},\"line_alpha\":{\"value\":1.0},\"line_cap\":{\"value\":\"butt\"},\"line_color\":{\"value\":\"black\"},\"line_dash\":{\"value\":[]},\"line_dash_offset\":{\"value\":0},\"line_join\":{\"value\":\"bevel\"},\"line_width\":{\"value\":1},\"top\":{\"field\":\"value\"},\"width\":{\"value\":0.8},\"x\":{\"field\":\"xoffsets\"}},\"id\":\"1045\",\"type\":\"VBar\"},{\"attributes\":{\"data_source\":{\"id\":\"1037\"},\"glyph\":{\"id\":\"1040\"},\"hover_glyph\":null,\"muted_glyph\":{\"id\":\"1042\"},\"nonselection_glyph\":{\"id\":\"1041\"},\"selection_glyph\":{\"id\":\"1045\"},\"view\":{\"id\":\"1044\"}},\"id\":\"1043\",\"type\":\"GlyphRenderer\"}],\"root_ids\":[\"1002\",\"1115\"]},\"title\":\"Bokeh Application\",\"version\":\"2.3.2\"}};\n",
       "    var render_items = [{\"docid\":\"d19e6754-d7b7-4853-b920-0fedec6fafad\",\"root_ids\":[\"1002\"],\"roots\":{\"1002\":\"a15d35a4-674c-4df5-accb-8c9bcfe394e0\"}}];\n",
       "    root.Bokeh.embed.embed_items_notebook(docs_json, render_items);\n",
       "  }\n",
       "  if (root.Bokeh !== undefined && root.Bokeh.Panel !== undefined && root['Plotly'] !== undefined ) {\n",
       "    embed_document(root);\n",
       "  } else {\n",
       "    var attempts = 0;\n",
       "    var timer = setInterval(function(root) {\n",
       "      if (root.Bokeh !== undefined && root.Bokeh.Panel !== undefined && root['Plotly'] !== undefined) {\n",
       "        clearInterval(timer);\n",
       "        embed_document(root);\n",
       "      } else if (document.readyState == \"complete\") {\n",
       "        attempts++;\n",
       "        if (attempts > 100) {\n",
       "          clearInterval(timer);\n",
       "          console.log(\"Bokeh: ERROR: Unable to run BokehJS code because BokehJS library is missing\");\n",
       "        }\n",
       "      }\n",
       "    }, 10, root)\n",
       "  }\n",
       "})(window);</script>"
      ],
      "text/plain": [
       ":DynamicMap   [year]\n",
       "   :Bars   [index,Variable]   (value)"
      ]
     },
     "execution_count": 12,
     "metadata": {
      "application/vnd.holoviews_exec.v0+json": {
       "id": "1002"
      }
     },
     "output_type": "execute_result"
    }
   ],
   "source": [
    "# Create a Bar plot per year to show the number of dwelling types\n",
    "Dwelling_Unit.hvplot.bar(title=\"Dwelling Types\", groupby=\"year\", x=\"index\", rot=90, frame_width=800, frame_height=300).opts(yformatter=\"%.0f\")"
   ]
  },
  {
   "cell_type": "code",
   "execution_count": 13,
   "id": "d42e4cea-b6d2-421c-b6a9-5db93c0243b2",
   "metadata": {},
   "outputs": [
    {
     "data": {
      "text/html": [
       "<div>\n",
       "<style scoped>\n",
       "    .dataframe tbody tr th:only-of-type {\n",
       "        vertical-align: middle;\n",
       "    }\n",
       "\n",
       "    .dataframe tbody tr th {\n",
       "        vertical-align: top;\n",
       "    }\n",
       "\n",
       "    .dataframe thead th {\n",
       "        text-align: right;\n",
       "    }\n",
       "</style>\n",
       "<table border=\"1\" class=\"dataframe\">\n",
       "  <thead>\n",
       "    <tr style=\"text-align: right;\">\n",
       "      <th></th>\n",
       "      <th>single_detached_house</th>\n",
       "      <th>apartment_five_storeys_plus</th>\n",
       "      <th>movable_dwelling</th>\n",
       "      <th>semi_detached_house</th>\n",
       "      <th>row_house</th>\n",
       "      <th>duplex</th>\n",
       "      <th>apartment_five_storeys_less</th>\n",
       "      <th>other_house</th>\n",
       "      <th>average_house_value</th>\n",
       "      <th>shelter_costs_owned</th>\n",
       "      <th>shelter_costs_rented</th>\n",
       "    </tr>\n",
       "    <tr>\n",
       "      <th>year</th>\n",
       "      <th></th>\n",
       "      <th></th>\n",
       "      <th></th>\n",
       "      <th></th>\n",
       "      <th></th>\n",
       "      <th></th>\n",
       "      <th></th>\n",
       "      <th></th>\n",
       "      <th></th>\n",
       "      <th></th>\n",
       "      <th></th>\n",
       "    </tr>\n",
       "  </thead>\n",
       "  <tbody>\n",
       "    <tr>\n",
       "      <th>2001</th>\n",
       "      <td>2149.500000</td>\n",
       "      <td>2535.821429</td>\n",
       "      <td>0.535714</td>\n",
       "      <td>649.964286</td>\n",
       "      <td>373.964286</td>\n",
       "      <td>169.892857</td>\n",
       "      <td>835.000000</td>\n",
       "      <td>21.714286</td>\n",
       "      <td>289882.885714</td>\n",
       "      <td>846.878571</td>\n",
       "      <td>1085.935714</td>\n",
       "    </tr>\n",
       "    <tr>\n",
       "      <th>2006</th>\n",
       "      <td>1906.142857</td>\n",
       "      <td>2710.000000</td>\n",
       "      <td>1.178571</td>\n",
       "      <td>495.928571</td>\n",
       "      <td>390.642857</td>\n",
       "      <td>314.964286</td>\n",
       "      <td>1163.214286</td>\n",
       "      <td>9.535714</td>\n",
       "      <td>424059.664286</td>\n",
       "      <td>1316.800000</td>\n",
       "      <td>925.414286</td>\n",
       "    </tr>\n",
       "    <tr>\n",
       "      <th>2011</th>\n",
       "      <td>1963.857143</td>\n",
       "      <td>3065.857143</td>\n",
       "      <td>0.714286</td>\n",
       "      <td>517.714286</td>\n",
       "      <td>431.107143</td>\n",
       "      <td>319.642857</td>\n",
       "      <td>1170.678571</td>\n",
       "      <td>15.464286</td>\n",
       "      <td>530424.721429</td>\n",
       "      <td>1448.214286</td>\n",
       "      <td>1019.792857</td>\n",
       "    </tr>\n",
       "    <tr>\n",
       "      <th>2016</th>\n",
       "      <td>1926.285714</td>\n",
       "      <td>3523.357143</td>\n",
       "      <td>0.678571</td>\n",
       "      <td>508.571429</td>\n",
       "      <td>439.750000</td>\n",
       "      <td>347.035714</td>\n",
       "      <td>1182.678571</td>\n",
       "      <td>20.321429</td>\n",
       "      <td>664068.328571</td>\n",
       "      <td>1761.314286</td>\n",
       "      <td>1256.321429</td>\n",
       "    </tr>\n",
       "  </tbody>\n",
       "</table>\n",
       "</div>"
      ],
      "text/plain": [
       "      single_detached_house  apartment_five_storeys_plus  movable_dwelling  \\\n",
       "year                                                                         \n",
       "2001            2149.500000                  2535.821429          0.535714   \n",
       "2006            1906.142857                  2710.000000          1.178571   \n",
       "2011            1963.857143                  3065.857143          0.714286   \n",
       "2016            1926.285714                  3523.357143          0.678571   \n",
       "\n",
       "      semi_detached_house   row_house      duplex  \\\n",
       "year                                                \n",
       "2001           649.964286  373.964286  169.892857   \n",
       "2006           495.928571  390.642857  314.964286   \n",
       "2011           517.714286  431.107143  319.642857   \n",
       "2016           508.571429  439.750000  347.035714   \n",
       "\n",
       "      apartment_five_storeys_less  other_house  average_house_value  \\\n",
       "year                                                                  \n",
       "2001                   835.000000    21.714286        289882.885714   \n",
       "2006                  1163.214286     9.535714        424059.664286   \n",
       "2011                  1170.678571    15.464286        530424.721429   \n",
       "2016                  1182.678571    20.321429        664068.328571   \n",
       "\n",
       "      shelter_costs_owned  shelter_costs_rented  \n",
       "year                                             \n",
       "2001           846.878571           1085.935714  \n",
       "2006          1316.800000            925.414286  \n",
       "2011          1448.214286           1019.792857  \n",
       "2016          1761.314286           1256.321429  "
      ]
     },
     "execution_count": 13,
     "metadata": {},
     "output_type": "execute_result"
    }
   ],
   "source": [
    "# Calculate the average monthly shelter costs for owned and rented dwellings\n",
    "Census_Data_Mean = Census_Data.groupby('year').mean()\n",
    "Census_Data_Mean"
   ]
  },
  {
   "cell_type": "code",
   "execution_count": 14,
   "id": "8b0737db-7d56-4eb5-b701-7c921af93fb1",
   "metadata": {},
   "outputs": [
    {
     "data": {
      "text/html": [
       "<div>\n",
       "<style scoped>\n",
       "    .dataframe tbody tr th:only-of-type {\n",
       "        vertical-align: middle;\n",
       "    }\n",
       "\n",
       "    .dataframe tbody tr th {\n",
       "        vertical-align: top;\n",
       "    }\n",
       "\n",
       "    .dataframe thead th {\n",
       "        text-align: right;\n",
       "    }\n",
       "</style>\n",
       "<table border=\"1\" class=\"dataframe\">\n",
       "  <thead>\n",
       "    <tr style=\"text-align: right;\">\n",
       "      <th></th>\n",
       "      <th>shelter_costs_owned</th>\n",
       "      <th>shelter_costs_rented</th>\n",
       "    </tr>\n",
       "    <tr>\n",
       "      <th>year</th>\n",
       "      <th></th>\n",
       "      <th></th>\n",
       "    </tr>\n",
       "  </thead>\n",
       "  <tbody>\n",
       "    <tr>\n",
       "      <th>2001</th>\n",
       "      <td>846.878571</td>\n",
       "      <td>1085.935714</td>\n",
       "    </tr>\n",
       "    <tr>\n",
       "      <th>2006</th>\n",
       "      <td>1316.800000</td>\n",
       "      <td>925.414286</td>\n",
       "    </tr>\n",
       "    <tr>\n",
       "      <th>2011</th>\n",
       "      <td>1448.214286</td>\n",
       "      <td>1019.792857</td>\n",
       "    </tr>\n",
       "    <tr>\n",
       "      <th>2016</th>\n",
       "      <td>1761.314286</td>\n",
       "      <td>1256.321429</td>\n",
       "    </tr>\n",
       "  </tbody>\n",
       "</table>\n",
       "</div>"
      ],
      "text/plain": [
       "      shelter_costs_owned  shelter_costs_rented\n",
       "year                                           \n",
       "2001           846.878571           1085.935714\n",
       "2006          1316.800000            925.414286\n",
       "2011          1448.214286           1019.792857\n",
       "2016          1761.314286           1256.321429"
      ]
     },
     "execution_count": 14,
     "metadata": {},
     "output_type": "execute_result"
    }
   ],
   "source": [
    "Shelter_Cost = Census_Data_Mean.drop([\"average_house_value\", \"single_detached_house\", \"apartment_five_storeys_plus\", \"movable_dwelling\",\n",
    "                                 \"semi_detached_house\", \"row_house\", \"duplex\", \"apartment_five_storeys_less\", \"other_house\"], axis=1)\n",
    "Shelter_Cost"
   ]
  },
  {
   "cell_type": "code",
   "execution_count": 15,
   "id": "4eef3379-f6e9-48e7-976f-b79d4da04af1",
   "metadata": {},
   "outputs": [
    {
     "data": {
      "text/plain": [
       "<AxesSubplot:title={'center':'Average Monthly Shelter Cost for Owned Dwellings in Toronto'}, xlabel='Year', ylabel='Avg Monthly Shelter Costs'>"
      ]
     },
     "execution_count": 15,
     "metadata": {},
     "output_type": "execute_result"
    },
    {
     "data": {
      "image/png": "[encoded data removed]",
      "text/plain": [
       "<Figure size 432x288 with 1 Axes>"
      ]
     },
     "metadata": {
      "needs_background": "light"
     },
     "output_type": "display_data"
    }
   ],
   "source": [
    "# Create line chart for the yearly shelter costs for owned dwelling\n",
    "Shelter_Cost_Owned = Shelter_Cost[\"shelter_costs_owned\"]\n",
    "Shelter_Cost_Owned.plot.line(title=\"Average Monthly Shelter Cost for Owned Dwellings in Toronto\", xlabel=\"Year\", ylabel=\"Avg Monthly Shelter Costs\")"
   ]
  },
  {
   "cell_type": "code",
   "execution_count": 16,
   "id": "5bf00681-8a25-423c-9183-fc8ab7d525db",
   "metadata": {},
   "outputs": [
    {
     "data": {
      "text/plain": [
       "<AxesSubplot:title={'center':'Average Monthly Shelter Cost for Rented Dwellings in Toronto'}, xlabel='Year', ylabel='Avg Monthly Shelter Costs'>"
      ]
     },
     "execution_count": 16,
     "metadata": {},
     "output_type": "execute_result"
    },
    {
     "data": {
      "image/png": "[encoded data removed]",
      "text/plain": [
       "<Figure size 432x288 with 1 Axes>"
      ]
     },
     "metadata": {
      "needs_background": "light"
     },
     "output_type": "display_data"
    }
   ],
   "source": [
    "Shelter_Cost_Rented = Shelter_Cost[\"shelter_costs_rented\"]\n",
    "Shelter_Cost_Rented.plot.line(title=\"Average Monthly Shelter Cost for Rented Dwellings in Toronto\", xlabel=\"Year\", ylabel=\"Avg Monthly Shelter Costs\", color = \"Red\")"
   ]
  },
  {
   "cell_type": "code",
   "execution_count": 17,
   "id": "8e14a872-b0e5-4468-9dfa-82a1c323aa06",
   "metadata": {},
   "outputs": [
    {
     "data": {
      "text/plain": [
       "year\n",
       "2001    289882.885714\n",
       "2006    424059.664286\n",
       "2011    530424.721429\n",
       "2016    664068.328571\n",
       "Name: average_house_value, dtype: float64"
      ]
     },
     "execution_count": 17,
     "metadata": {},
     "output_type": "execute_result"
    }
   ],
   "source": [
    "# Average House Value per Year\n",
    "Average_House_Value = Census_Data_Mean[\"average_house_value\"]\n",
    "Average_House_Value"
   ]
  },
  {
   "cell_type": "code",
   "execution_count": 18,
   "id": "1834f3c9-c53d-474d-9aab-421548664e9b",
   "metadata": {},
   "outputs": [
    {
     "data": {
      "text/plain": [
       "<AxesSubplot:title={'center':'Average House Value in Toronto'}, xlabel='Year', ylabel='Avg. House Value'>"
      ]
     },
     "execution_count": 18,
     "metadata": {},
     "output_type": "execute_result"
    },
    {
     "data": {
      "image/png": "[encoded data removed]",
      "text/plain": [
       "<Figure size 432x288 with 1 Axes>"
      ]
     },
     "metadata": {
      "needs_background": "light"
     },
     "output_type": "display_data"
    }
   ],
   "source": [
    "Average_House_Value.plot.line(title=\"Average House Value in Toronto\", xlabel=\"Year\", ylabel='Avg. House Value', color=\"orange\")"
   ]
  },
  {
   "cell_type": "code",
   "execution_count": 19,
   "id": "b1007dbc-e30e-43b5-9d0b-a847b9d4d82d",
   "metadata": {},
   "outputs": [
    {
     "data": {
      "text/html": [
       "<div>\n",
       "<style scoped>\n",
       "    .dataframe tbody tr th:only-of-type {\n",
       "        vertical-align: middle;\n",
       "    }\n",
       "\n",
       "    .dataframe tbody tr th {\n",
       "        vertical-align: top;\n",
       "    }\n",
       "\n",
       "    .dataframe thead th {\n",
       "        text-align: right;\n",
       "    }\n",
       "</style>\n",
       "<table border=\"1\" class=\"dataframe\">\n",
       "  <thead>\n",
       "    <tr style=\"text-align: right;\">\n",
       "      <th></th>\n",
       "      <th>year</th>\n",
       "      <th>neighbourhood</th>\n",
       "      <th>average_house_value</th>\n",
       "    </tr>\n",
       "  </thead>\n",
       "  <tbody>\n",
       "    <tr>\n",
       "      <th>0</th>\n",
       "      <td>2001</td>\n",
       "      <td>Agincourt North</td>\n",
       "      <td>200388</td>\n",
       "    </tr>\n",
       "    <tr>\n",
       "      <th>1</th>\n",
       "      <td>2001</td>\n",
       "      <td>Agincourt South-Malvern West</td>\n",
       "      <td>203047</td>\n",
       "    </tr>\n",
       "    <tr>\n",
       "      <th>2</th>\n",
       "      <td>2001</td>\n",
       "      <td>Alderwood</td>\n",
       "      <td>259998</td>\n",
       "    </tr>\n",
       "    <tr>\n",
       "      <th>3</th>\n",
       "      <td>2001</td>\n",
       "      <td>Annex</td>\n",
       "      <td>453850</td>\n",
       "    </tr>\n",
       "    <tr>\n",
       "      <th>4</th>\n",
       "      <td>2001</td>\n",
       "      <td>Banbury-Don Mills</td>\n",
       "      <td>371864</td>\n",
       "    </tr>\n",
       "    <tr>\n",
       "      <th>...</th>\n",
       "      <td>...</td>\n",
       "      <td>...</td>\n",
       "      <td>...</td>\n",
       "    </tr>\n",
       "    <tr>\n",
       "      <th>555</th>\n",
       "      <td>2016</td>\n",
       "      <td>Wychwood</td>\n",
       "      <td>787760</td>\n",
       "    </tr>\n",
       "    <tr>\n",
       "      <th>556</th>\n",
       "      <td>2016</td>\n",
       "      <td>Yonge-Eglinton</td>\n",
       "      <td>1127052</td>\n",
       "    </tr>\n",
       "    <tr>\n",
       "      <th>557</th>\n",
       "      <td>2016</td>\n",
       "      <td>Yonge-St.Clair</td>\n",
       "      <td>1131888</td>\n",
       "    </tr>\n",
       "    <tr>\n",
       "      <th>558</th>\n",
       "      <td>2016</td>\n",
       "      <td>York University Heights</td>\n",
       "      <td>425769</td>\n",
       "    </tr>\n",
       "    <tr>\n",
       "      <th>559</th>\n",
       "      <td>2016</td>\n",
       "      <td>Yorkdale-Glen Park</td>\n",
       "      <td>599698</td>\n",
       "    </tr>\n",
       "  </tbody>\n",
       "</table>\n",
       "<p>560 rows × 3 columns</p>\n",
       "</div>"
      ],
      "text/plain": [
       "     year                 neighbourhood  average_house_value\n",
       "0    2001               Agincourt North               200388\n",
       "1    2001  Agincourt South-Malvern West               203047\n",
       "2    2001                     Alderwood               259998\n",
       "3    2001                         Annex               453850\n",
       "4    2001             Banbury-Don Mills               371864\n",
       "..    ...                           ...                  ...\n",
       "555  2016                      Wychwood               787760\n",
       "556  2016                Yonge-Eglinton              1127052\n",
       "557  2016                Yonge-St.Clair              1131888\n",
       "558  2016       York University Heights               425769\n",
       "559  2016            Yorkdale-Glen Park               599698\n",
       "\n",
       "[560 rows x 3 columns]"
      ]
     },
     "execution_count": 19,
     "metadata": {},
     "output_type": "execute_result"
    }
   ],
   "source": [
    "# Average House Value by Neighbourhood\n",
    "Neighbourhood_House_Value = Census_Data.drop([\"shelter_costs_owned\", \"shelter_costs_rented\", \"single_detached_house\", \"apartment_five_storeys_plus\", \"movable_dwelling\",\n",
    "                                 \"semi_detached_house\", \"row_house\", \"duplex\", \"apartment_five_storeys_less\", \"other_house\"], axis=1)\n",
    "Neighbourhood_House_Value.reset_index()"
   ]
  },
  {
   "cell_type": "code",
   "execution_count": 20,
   "id": "f157b7cf-9648-4442-a5db-3fb963aa3ccc",
   "metadata": {},
   "outputs": [
    {
     "data": {
      "text/html": [
       "<div>\n",
       "<style scoped>\n",
       "    .dataframe tbody tr th:only-of-type {\n",
       "        vertical-align: middle;\n",
       "    }\n",
       "\n",
       "    .dataframe tbody tr th {\n",
       "        vertical-align: top;\n",
       "    }\n",
       "\n",
       "    .dataframe thead th {\n",
       "        text-align: right;\n",
       "    }\n",
       "</style>\n",
       "<table border=\"1\" class=\"dataframe\">\n",
       "  <thead>\n",
       "    <tr style=\"text-align: right;\">\n",
       "      <th></th>\n",
       "      <th>year</th>\n",
       "      <th>neighbourhood</th>\n",
       "      <th>average_house_value</th>\n",
       "    </tr>\n",
       "  </thead>\n",
       "  <tbody>\n",
       "    <tr>\n",
       "      <th>0</th>\n",
       "      <td>2001</td>\n",
       "      <td>Agincourt North</td>\n",
       "      <td>200388</td>\n",
       "    </tr>\n",
       "    <tr>\n",
       "      <th>1</th>\n",
       "      <td>2001</td>\n",
       "      <td>Agincourt South-Malvern West</td>\n",
       "      <td>203047</td>\n",
       "    </tr>\n",
       "    <tr>\n",
       "      <th>2</th>\n",
       "      <td>2001</td>\n",
       "      <td>Alderwood</td>\n",
       "      <td>259998</td>\n",
       "    </tr>\n",
       "    <tr>\n",
       "      <th>3</th>\n",
       "      <td>2001</td>\n",
       "      <td>Annex</td>\n",
       "      <td>453850</td>\n",
       "    </tr>\n",
       "    <tr>\n",
       "      <th>4</th>\n",
       "      <td>2001</td>\n",
       "      <td>Banbury-Don Mills</td>\n",
       "      <td>371864</td>\n",
       "    </tr>\n",
       "  </tbody>\n",
       "</table>\n",
       "</div>"
      ],
      "text/plain": [
       "   year                 neighbourhood  average_house_value\n",
       "0  2001               Agincourt North               200388\n",
       "1  2001  Agincourt South-Malvern West               203047\n",
       "2  2001                     Alderwood               259998\n",
       "3  2001                         Annex               453850\n",
       "4  2001             Banbury-Don Mills               371864"
      ]
     },
     "execution_count": 20,
     "metadata": {},
     "output_type": "execute_result"
    }
   ],
   "source": [
    "Neighbourhood_Ann_House_Value = Census_Data.groupby([Census_Data.index, \"neighbourhood\"]).mean()\n",
    "Avg_House_Value = Neighbourhood_Ann_House_Value[\"average_house_value\"]\n",
    "Avg_House_Value_df=pd.DataFrame(Avg_House_Value).reset_index()\n",
    "Avg_House_Value_df.head()"
   ]
  },
  {
   "cell_type": "code",
   "execution_count": 21,
   "id": "e0bb60f1-5bde-4f56-b474-d04e22ed7e79",
   "metadata": {},
   "outputs": [
    {
     "data": {},
     "metadata": {},
     "output_type": "display_data"
    },
    {
     "data": {
      "application/vnd.holoviews_exec.v0+json": "",
      "text/html": [
       "<div id='1161'>\n",
       "\n",
       "\n",
       "\n",
       "\n",
       "\n",
       "  <div class=\"bk-root\" id=\"0045012c-f664-4373-9098-8ed842718d5b\" data-root-id=\"1161\"></div>\n",
       "</div>\n",
       "<script type=\"application/javascript\">(function(root) {\n",
       "  function embed_document(root) {\n",
       "    var docs_json = {\"a7fb13fc-6667-460f-bf34-37ad9220c218\":{\"defs\":[],\"roots\":{\"references\":[{\"attributes\":{\"axis\":{\"id\":\"1179\"},\"dimension\":1,\"grid_line_color\":null,\"ticker\":null},\"id\":\"1182\",\"type\":\"Grid\"},{\"attributes\":{\"source\":{\"id\":\"1196\"}},\"id\":\"1203\",\"type\":\"CDSView\"},{\"attributes\":{\"children\":[{\"id\":\"1162\"},{\"id\":\"1166\"},{\"id\":\"1238\"},{\"id\":\"1239\"}],\"margin\":[0,0,0,0],\"name\":\"Row02083\"},\"id\":\"1161\",\"type\":\"Row\"},{\"attributes\":{},\"id\":\"1184\",\"type\":\"PanTool\"},{\"attributes\":{},\"id\":\"1227\",\"type\":\"UnionRenderers\"},{\"attributes\":{},\"id\":\"1185\",\"type\":\"WheelZoomTool\"},{\"attributes\":{\"active_multi\":null,\"tools\":[{\"id\":\"1165\"},{\"id\":\"1183\"},{\"id\":\"1184\"},{\"id\":\"1185\"},{\"id\":\"1186\"},{\"id\":\"1187\"}]},\"id\":\"1189\",\"type\":\"Toolbar\"},{\"attributes\":{},\"id\":\"1183\",\"type\":\"SaveTool\"},{\"attributes\":{\"children\":[{\"id\":\"1242\"}],\"css_classes\":[\"panel-widget-box\"],\"margin\":[5,5,5,5],\"name\":\"WidgetBox02084\"},\"id\":\"1241\",\"type\":\"Column\"},{\"attributes\":{\"overlay\":{\"id\":\"1188\"}},\"id\":\"1186\",\"type\":\"BoxZoomTool\"},{\"attributes\":{},\"id\":\"1187\",\"type\":\"ResetTool\"},{\"attributes\":{\"line_alpha\":0.1,\"line_color\":\"#30a2da\",\"line_width\":2,\"x\":{\"field\":\"year\"},\"y\":{\"field\":\"average_house_value\"}},\"id\":\"1200\",\"type\":\"Line\"},{\"attributes\":{\"client_comm_id\":\"a68275f73c9043f38e178dc1921482bc\",\"comm_id\":\"20f404235b6c4becb6423cee1990a5c0\",\"plot_id\":\"1161\"},\"id\":\"1271\",\"type\":\"panel.models.comm_manager.CommManager\"},{\"attributes\":{\"line_color\":\"#30a2da\",\"line_width\":2,\"x\":{\"field\":\"year\"},\"y\":{\"field\":\"average_house_value\"}},\"id\":\"1199\",\"type\":\"Line\"},{\"attributes\":{\"margin\":[5,5,5,5],\"name\":\"HSpacer02092\",\"sizing_mode\":\"stretch_width\"},\"id\":\"1162\",\"type\":\"Spacer\"},{\"attributes\":{},\"id\":\"1207\",\"type\":\"AllLabels\"},{\"attributes\":{},\"id\":\"1197\",\"type\":\"Selection\"},{\"attributes\":{\"format\":\"%.0f\"},\"id\":\"1205\",\"type\":\"PrintfTickFormatter\"},{\"attributes\":{\"line_color\":\"#30a2da\",\"line_width\":2,\"x\":{\"field\":\"year\"},\"y\":{\"field\":\"average_house_value\"}},\"id\":\"1204\",\"type\":\"Line\"},{\"attributes\":{\"children\":[{\"id\":\"1240\"},{\"id\":\"1241\"},{\"id\":\"1243\"}],\"margin\":[0,0,0,0],\"name\":\"Column02091\"},\"id\":\"1239\",\"type\":\"Column\"},{\"attributes\":{},\"id\":\"1208\",\"type\":\"BasicTickFormatter\"},{\"attributes\":{\"callback\":null,\"renderers\":[{\"id\":\"1202\"}],\"tags\":[\"hv_created\"],\"tooltips\":[[\"year\",\"@{year}\"],[\"average_house_value\",\"@{average_house_value}\"]]},\"id\":\"1165\",\"type\":\"HoverTool\"},{\"attributes\":{\"margin\":[5,5,5,5],\"name\":\"HSpacer02093\",\"sizing_mode\":\"stretch_width\"},\"id\":\"1238\",\"type\":\"Spacer\"},{\"attributes\":{},\"id\":\"1210\",\"type\":\"AllLabels\"},{\"attributes\":{\"bottom_units\":\"screen\",\"fill_alpha\":0.5,\"fill_color\":\"lightgrey\",\"left_units\":\"screen\",\"level\":\"overlay\",\"line_alpha\":1.0,\"line_color\":\"black\",\"line_dash\":[4,4],\"line_width\":2,\"right_units\":\"screen\",\"syncable\":false,\"top_units\":\"screen\"},\"id\":\"1188\",\"type\":\"BoxAnnotation\"},{\"attributes\":{\"text\":\"neighbourhood: Agincourt North\",\"text_color\":\"black\",\"text_font_size\":\"12pt\"},\"id\":\"1167\",\"type\":\"Title\"},{\"attributes\":{\"end\":2016.0,\"reset_end\":2016.0,\"reset_start\":2001.0,\"start\":2001.0,\"tags\":[[[\"year\",\"year\",null]]]},\"id\":\"1163\",\"type\":\"Range1d\"},{\"attributes\":{},\"id\":\"1171\",\"type\":\"LinearScale\"},{\"attributes\":{\"end\":484917.3,\"reset_end\":484917.3,\"reset_start\":174521.7,\"start\":174521.7,\"tags\":[[[\"average_house_value\",\"average_house_value\",null]]]},\"id\":\"1164\",\"type\":\"Range1d\"},{\"attributes\":{\"margin\":[5,5,5,5],\"name\":\"VSpacer02090\",\"sizing_mode\":\"stretch_height\"},\"id\":\"1243\",\"type\":\"Spacer\"},{\"attributes\":{},\"id\":\"1180\",\"type\":\"BasicTicker\"},{\"attributes\":{\"below\":[{\"id\":\"1175\"}],\"center\":[{\"id\":\"1178\"},{\"id\":\"1182\"}],\"height\":300,\"left\":[{\"id\":\"1179\"}],\"margin\":[5,5,5,5],\"min_border_bottom\":10,\"min_border_left\":10,\"min_border_right\":10,\"min_border_top\":10,\"renderers\":[{\"id\":\"1202\"}],\"sizing_mode\":\"fixed\",\"title\":{\"id\":\"1167\"},\"toolbar\":{\"id\":\"1189\"},\"width\":700,\"x_range\":{\"id\":\"1163\"},\"x_scale\":{\"id\":\"1171\"},\"y_range\":{\"id\":\"1164\"},\"y_scale\":{\"id\":\"1173\"}},\"id\":\"1166\",\"subtype\":\"Figure\",\"type\":\"Plot\"},{\"attributes\":{\"line_alpha\":0.2,\"line_color\":\"#30a2da\",\"line_width\":2,\"x\":{\"field\":\"year\"},\"y\":{\"field\":\"average_house_value\"}},\"id\":\"1201\",\"type\":\"Line\"},{\"attributes\":{},\"id\":\"1176\",\"type\":\"BasicTicker\"},{\"attributes\":{\"margin\":[20,20,20,20],\"min_width\":250,\"options\":[\"Agincourt North\",\"Agincourt South-Malvern West\",\"Alderwood\",\"Annex\",\"Banbury-Don Mills\",\"Bathurst Manor\",\"Bay Street Corridor\",\"Bayview Village\",\"Bayview Woods-Steeles\",\"Bedford Park-Nortown\",\"Beechborough-Greenbrook\",\"Bendale\",\"Birchcliffe-Cliffside\",\"Black Creek\",\"Blake-Jones\",\"Briar Hill-Belgravia\",\"Bridle Path-Sunnybrook-York Mills\",\"Broadview North\",\"Brookhaven-Amesbury\",\"Cabbagetown-South St.James Town\",\"Caledonia-Fairbank\",\"Casa Loma\",\"Centennial Scarborough\",\"Church-Yonge Corridor\",\"Clairlea-Birchmount\",\"Clanton Park\",\"Cliffcrest\",\"Corso Italia-Davenport\",\"Danforth\",\"Danforth-East York\",\"Don Valley Village\",\"Dorset Park\",\"Dovercourt-Wallace Emerson-Juncti\",\"Downsview-Roding-CFB\",\"Dufferin Grove\",\"East End-Danforth\",\"Edenbridge-Humber Valley\",\"Eglinton East\",\"Elms-Old Rexdale\",\"Englemount-Lawrence\",\"Eringate-Centennial-West Deane\",\"Etobicoke West Mall\",\"Flemingdon Park\",\"Forest Hill North\",\"Forest Hill South\",\"Glenfield-Jane Heights\",\"Greenwood-Coxwell\",\"Guildwood\",\"Henry Farm\",\"High Park North\",\"High Park-Swansea\",\"Highland Creek\",\"Hillcrest Village\",\"Humber Heights-Westmount\",\"Humber Summit\",\"Humbermede\",\"Humewood-Cedarvale\",\"Ionview\",\"Islington-City Centre West\",\"Junction Area\",\"Keelesdale-Eglinton West\",\"Kennedy Park\",\"Kensington-Chinatown\",\"Kingsview Village-The Westway\",\"Kingsway South\",\"L'Amoreaux\",\"Lambton Baby Point\",\"Lansing-Westgate\",\"Lawrence Park North\",\"Lawrence Park South\",\"Leaside-Bennington\",\"Little Portugal\",\"Long Branch\",\"Malvern\",\"Maple Leaf\",\"Markland Wood\",\"Milliken\",\"Mimico\",\"Morningside\",\"Moss Park\",\"Mount Dennis\",\"Mount Olive-Silverstone-Jamestown\",\"Mount Pleasant East\",\"Mount Pleasant West\",\"New Toronto\",\"Newtonbrook East\",\"Newtonbrook West\",\"Niagara\",\"North Riverdale\",\"North St.James Town\",\"O'Connor-Parkview\",\"Oakridge\",\"Oakwood Village\",\"Old East York\",\"Palmerston-Little Italy\",\"Parkwoods-Donalda\",\"Pelmo Park-Humberlea\",\"Playter Estates-Danforth\",\"Pleasant View\",\"Princess-Rosethorn\",\"Regent Park\",\"Rexdale-Kipling\",\"Rockcliffe-Smythe\",\"Roncesvalles\",\"Rosedale-Moore Park\",\"Rouge\",\"Runnymede-Bloor West Village\",\"Rustic\",\"Scarborough Village\",\"South Parkdale\",\"South Riverdale\",\"St.Andrew-Windfields\",\"Steeles\",\"Stonegate-Queensway\",\"Tam O'Shanter-Sullivan\",\"Taylor-Massey\",\"The Beaches\",\"Thistletown-Beaumond Heights\",\"Thorncliffe Park\",\"Trinity-Bellwoods\",\"University\",\"Victoria Village\",\"Waterfront Communities-The Island\",\"West Hill\",\"West Humber-Clairville\",\"Westminster-Branson\",\"Weston\",\"Weston-Pellam Park\",\"Wexford/Maryvale\",\"Willowdale East\",\"Willowdale West\",\"Willowridge-Martingrove-Richview\",\"Woburn\",\"Woodbine Corridor\",\"Woodbine-Lumsden\",\"Wychwood\",\"Yonge-Eglinton\",\"Yonge-St.Clair\",\"York University Heights\",\"Yorkdale-Glen Park\"],\"title\":\"neighbourhood\",\"value\":\"Agincourt North\",\"width\":250},\"id\":\"1242\",\"type\":\"Select\"},{\"attributes\":{\"data\":{\"average_house_value\":[200388,293140,366667,459051],\"year\":[2001,2006,2011,2016]},\"selected\":{\"id\":\"1197\"},\"selection_policy\":{\"id\":\"1227\"}},\"id\":\"1196\",\"type\":\"ColumnDataSource\"},{\"attributes\":{},\"id\":\"1173\",\"type\":\"LinearScale\"},{\"attributes\":{\"axis\":{\"id\":\"1175\"},\"grid_line_color\":null,\"ticker\":null},\"id\":\"1178\",\"type\":\"Grid\"},{\"attributes\":{\"margin\":[5,5,5,5],\"name\":\"VSpacer02089\",\"sizing_mode\":\"stretch_height\"},\"id\":\"1240\",\"type\":\"Spacer\"},{\"attributes\":{\"data_source\":{\"id\":\"1196\"},\"glyph\":{\"id\":\"1199\"},\"hover_glyph\":null,\"muted_glyph\":{\"id\":\"1201\"},\"nonselection_glyph\":{\"id\":\"1200\"},\"selection_glyph\":{\"id\":\"1204\"},\"view\":{\"id\":\"1203\"}},\"id\":\"1202\",\"type\":\"GlyphRenderer\"},{\"attributes\":{\"axis_label\":\"average_house_value\",\"formatter\":{\"id\":\"1205\"},\"major_label_policy\":{\"id\":\"1210\"},\"ticker\":{\"id\":\"1180\"}},\"id\":\"1179\",\"type\":\"LinearAxis\"},{\"attributes\":{\"axis_label\":\"year\",\"formatter\":{\"id\":\"1208\"},\"major_label_orientation\":1.5707963267948966,\"major_label_policy\":{\"id\":\"1207\"},\"ticker\":{\"id\":\"1176\"}},\"id\":\"1175\",\"type\":\"LinearAxis\"}],\"root_ids\":[\"1161\",\"1271\"]},\"title\":\"Bokeh Application\",\"version\":\"2.3.2\"}};\n",
       "    var render_items = [{\"docid\":\"a7fb13fc-6667-460f-bf34-37ad9220c218\",\"root_ids\":[\"1161\"],\"roots\":{\"1161\":\"0045012c-f664-4373-9098-8ed842718d5b\"}}];\n",
       "    root.Bokeh.embed.embed_items_notebook(docs_json, render_items);\n",
       "  }\n",
       "  if (root.Bokeh !== undefined && root.Bokeh.Panel !== undefined && root['Plotly'] !== undefined ) {\n",
       "    embed_document(root);\n",
       "  } else {\n",
       "    var attempts = 0;\n",
       "    var timer = setInterval(function(root) {\n",
       "      if (root.Bokeh !== undefined && root.Bokeh.Panel !== undefined && root['Plotly'] !== undefined) {\n",
       "        clearInterval(timer);\n",
       "        embed_document(root);\n",
       "      } else if (document.readyState == \"complete\") {\n",
       "        attempts++;\n",
       "        if (attempts > 100) {\n",
       "          clearInterval(timer);\n",
       "          console.log(\"Bokeh: ERROR: Unable to run BokehJS code because BokehJS library is missing\");\n",
       "        }\n",
       "      }\n",
       "    }, 10, root)\n",
       "  }\n",
       "})(window);</script>"
      ],
      "text/plain": [
       ":DynamicMap   [neighbourhood]\n",
       "   :Curve   [year]   (average_house_value)"
      ]
     },
     "execution_count": 21,
     "metadata": {
      "application/vnd.holoviews_exec.v0+json": {
       "id": "1161"
      }
     },
     "output_type": "execute_result"
    }
   ],
   "source": [
    "Avg_House_Value_df.hvplot.line(x=\"year\", y=\"average_house_value\", groupby = \"neighbourhood\", rot=90).opts(yformatter=\"%.0f\")"
   ]
  },
  {
   "cell_type": "code",
   "execution_count": 22,
   "id": "4c6ddf7a-6d46-4f16-a45e-a069a2143275",
   "metadata": {},
   "outputs": [
    {
     "data": {
      "text/html": [
       "<div>\n",
       "<style scoped>\n",
       "    .dataframe tbody tr th:only-of-type {\n",
       "        vertical-align: middle;\n",
       "    }\n",
       "\n",
       "    .dataframe tbody tr th {\n",
       "        vertical-align: top;\n",
       "    }\n",
       "\n",
       "    .dataframe thead th {\n",
       "        text-align: right;\n",
       "    }\n",
       "</style>\n",
       "<table border=\"1\" class=\"dataframe\">\n",
       "  <thead>\n",
       "    <tr style=\"text-align: right;\">\n",
       "      <th></th>\n",
       "      <th>year</th>\n",
       "      <th>neighbourhood</th>\n",
       "      <th>single_detached_house</th>\n",
       "      <th>apartment_five_storeys_plus</th>\n",
       "      <th>movable_dwelling</th>\n",
       "      <th>semi_detached_house</th>\n",
       "      <th>row_house</th>\n",
       "      <th>duplex</th>\n",
       "      <th>apartment_five_storeys_less</th>\n",
       "      <th>other_house</th>\n",
       "      <th>average_house_value</th>\n",
       "      <th>shelter_costs_owned</th>\n",
       "      <th>shelter_costs_rented</th>\n",
       "    </tr>\n",
       "  </thead>\n",
       "  <tbody>\n",
       "    <tr>\n",
       "      <th>0</th>\n",
       "      <td>2001</td>\n",
       "      <td>Agincourt North</td>\n",
       "      <td>3715</td>\n",
       "      <td>1480</td>\n",
       "      <td>0</td>\n",
       "      <td>1055</td>\n",
       "      <td>1295</td>\n",
       "      <td>195</td>\n",
       "      <td>185</td>\n",
       "      <td>5</td>\n",
       "      <td>200388</td>\n",
       "      <td>810</td>\n",
       "      <td>870</td>\n",
       "    </tr>\n",
       "    <tr>\n",
       "      <th>1</th>\n",
       "      <td>2001</td>\n",
       "      <td>Agincourt South-Malvern West</td>\n",
       "      <td>3250</td>\n",
       "      <td>1835</td>\n",
       "      <td>0</td>\n",
       "      <td>545</td>\n",
       "      <td>455</td>\n",
       "      <td>105</td>\n",
       "      <td>425</td>\n",
       "      <td>0</td>\n",
       "      <td>203047</td>\n",
       "      <td>806</td>\n",
       "      <td>892</td>\n",
       "    </tr>\n",
       "    <tr>\n",
       "      <th>2</th>\n",
       "      <td>2001</td>\n",
       "      <td>Alderwood</td>\n",
       "      <td>3175</td>\n",
       "      <td>315</td>\n",
       "      <td>0</td>\n",
       "      <td>470</td>\n",
       "      <td>50</td>\n",
       "      <td>185</td>\n",
       "      <td>370</td>\n",
       "      <td>0</td>\n",
       "      <td>259998</td>\n",
       "      <td>817</td>\n",
       "      <td>924</td>\n",
       "    </tr>\n",
       "    <tr>\n",
       "      <th>3</th>\n",
       "      <td>2001</td>\n",
       "      <td>Annex</td>\n",
       "      <td>1060</td>\n",
       "      <td>6090</td>\n",
       "      <td>5</td>\n",
       "      <td>1980</td>\n",
       "      <td>605</td>\n",
       "      <td>275</td>\n",
       "      <td>3710</td>\n",
       "      <td>165</td>\n",
       "      <td>453850</td>\n",
       "      <td>1027</td>\n",
       "      <td>1378</td>\n",
       "    </tr>\n",
       "    <tr>\n",
       "      <th>4</th>\n",
       "      <td>2001</td>\n",
       "      <td>Banbury-Don Mills</td>\n",
       "      <td>3615</td>\n",
       "      <td>4465</td>\n",
       "      <td>0</td>\n",
       "      <td>240</td>\n",
       "      <td>380</td>\n",
       "      <td>15</td>\n",
       "      <td>1360</td>\n",
       "      <td>0</td>\n",
       "      <td>371864</td>\n",
       "      <td>1007</td>\n",
       "      <td>1163</td>\n",
       "    </tr>\n",
       "    <tr>\n",
       "      <th>...</th>\n",
       "      <td>...</td>\n",
       "      <td>...</td>\n",
       "      <td>...</td>\n",
       "      <td>...</td>\n",
       "      <td>...</td>\n",
       "      <td>...</td>\n",
       "      <td>...</td>\n",
       "      <td>...</td>\n",
       "      <td>...</td>\n",
       "      <td>...</td>\n",
       "      <td>...</td>\n",
       "      <td>...</td>\n",
       "      <td>...</td>\n",
       "    </tr>\n",
       "    <tr>\n",
       "      <th>555</th>\n",
       "      <td>2016</td>\n",
       "      <td>Wychwood</td>\n",
       "      <td>920</td>\n",
       "      <td>1295</td>\n",
       "      <td>0</td>\n",
       "      <td>880</td>\n",
       "      <td>290</td>\n",
       "      <td>395</td>\n",
       "      <td>2080</td>\n",
       "      <td>35</td>\n",
       "      <td>787760</td>\n",
       "      <td>1864</td>\n",
       "      <td>1146</td>\n",
       "    </tr>\n",
       "    <tr>\n",
       "      <th>556</th>\n",
       "      <td>2016</td>\n",
       "      <td>Yonge-Eglinton</td>\n",
       "      <td>1400</td>\n",
       "      <td>1995</td>\n",
       "      <td>0</td>\n",
       "      <td>465</td>\n",
       "      <td>60</td>\n",
       "      <td>310</td>\n",
       "      <td>1445</td>\n",
       "      <td>0</td>\n",
       "      <td>1127052</td>\n",
       "      <td>2398</td>\n",
       "      <td>1535</td>\n",
       "    </tr>\n",
       "    <tr>\n",
       "      <th>557</th>\n",
       "      <td>2016</td>\n",
       "      <td>Yonge-St.Clair</td>\n",
       "      <td>520</td>\n",
       "      <td>4315</td>\n",
       "      <td>0</td>\n",
       "      <td>450</td>\n",
       "      <td>220</td>\n",
       "      <td>130</td>\n",
       "      <td>1370</td>\n",
       "      <td>0</td>\n",
       "      <td>1131888</td>\n",
       "      <td>2192</td>\n",
       "      <td>1619</td>\n",
       "    </tr>\n",
       "    <tr>\n",
       "      <th>558</th>\n",
       "      <td>2016</td>\n",
       "      <td>York University Heights</td>\n",
       "      <td>1235</td>\n",
       "      <td>5505</td>\n",
       "      <td>0</td>\n",
       "      <td>1360</td>\n",
       "      <td>775</td>\n",
       "      <td>280</td>\n",
       "      <td>995</td>\n",
       "      <td>0</td>\n",
       "      <td>425769</td>\n",
       "      <td>1444</td>\n",
       "      <td>1122</td>\n",
       "    </tr>\n",
       "    <tr>\n",
       "      <th>559</th>\n",
       "      <td>2016</td>\n",
       "      <td>Yorkdale-Glen Park</td>\n",
       "      <td>2165</td>\n",
       "      <td>1185</td>\n",
       "      <td>0</td>\n",
       "      <td>80</td>\n",
       "      <td>600</td>\n",
       "      <td>465</td>\n",
       "      <td>830</td>\n",
       "      <td>5</td>\n",
       "      <td>599698</td>\n",
       "      <td>1451</td>\n",
       "      <td>1128</td>\n",
       "    </tr>\n",
       "  </tbody>\n",
       "</table>\n",
       "<p>560 rows × 13 columns</p>\n",
       "</div>"
      ],
      "text/plain": [
       "     year                 neighbourhood  single_detached_house  \\\n",
       "0    2001               Agincourt North                   3715   \n",
       "1    2001  Agincourt South-Malvern West                   3250   \n",
       "2    2001                     Alderwood                   3175   \n",
       "3    2001                         Annex                   1060   \n",
       "4    2001             Banbury-Don Mills                   3615   \n",
       "..    ...                           ...                    ...   \n",
       "555  2016                      Wychwood                    920   \n",
       "556  2016                Yonge-Eglinton                   1400   \n",
       "557  2016                Yonge-St.Clair                    520   \n",
       "558  2016       York University Heights                   1235   \n",
       "559  2016            Yorkdale-Glen Park                   2165   \n",
       "\n",
       "     apartment_five_storeys_plus  movable_dwelling  semi_detached_house  \\\n",
       "0                           1480                 0                 1055   \n",
       "1                           1835                 0                  545   \n",
       "2                            315                 0                  470   \n",
       "3                           6090                 5                 1980   \n",
       "4                           4465                 0                  240   \n",
       "..                           ...               ...                  ...   \n",
       "555                         1295                 0                  880   \n",
       "556                         1995                 0                  465   \n",
       "557                         4315                 0                  450   \n",
       "558                         5505                 0                 1360   \n",
       "559                         1185                 0                   80   \n",
       "\n",
       "     row_house  duplex  apartment_five_storeys_less  other_house  \\\n",
       "0         1295     195                          185            5   \n",
       "1          455     105                          425            0   \n",
       "2           50     185                          370            0   \n",
       "3          605     275                         3710          165   \n",
       "4          380      15                         1360            0   \n",
       "..         ...     ...                          ...          ...   \n",
       "555        290     395                         2080           35   \n",
       "556         60     310                         1445            0   \n",
       "557        220     130                         1370            0   \n",
       "558        775     280                          995            0   \n",
       "559        600     465                          830            5   \n",
       "\n",
       "     average_house_value  shelter_costs_owned  shelter_costs_rented  \n",
       "0                 200388                  810                   870  \n",
       "1                 203047                  806                   892  \n",
       "2                 259998                  817                   924  \n",
       "3                 453850                 1027                  1378  \n",
       "4                 371864                 1007                  1163  \n",
       "..                   ...                  ...                   ...  \n",
       "555               787760                 1864                  1146  \n",
       "556              1127052                 2398                  1535  \n",
       "557              1131888                 2192                  1619  \n",
       "558               425769                 1444                  1122  \n",
       "559               599698                 1451                  1128  \n",
       "\n",
       "[560 rows x 13 columns]"
      ]
     },
     "execution_count": 22,
     "metadata": {},
     "output_type": "execute_result"
    }
   ],
   "source": [
    "# Number of Dwelling Types per Year \n",
    "# Fetch the data of all dwelling types per year\n",
    "Census_Data.reset_index()"
   ]
  },
  {
   "cell_type": "code",
   "execution_count": 23,
   "id": "b06096a0-9cda-4ba5-af58-e64281648fe4",
   "metadata": {},
   "outputs": [],
   "source": [
    "# Drop Average house value, and shelter costs\n",
    "Census_Dwellings_Data = Census_Data.drop([\"average_house_value\", \"shelter_costs_owned\", \"shelter_costs_rented\"], axis=1)"
   ]
  },
  {
   "cell_type": "code",
   "execution_count": 24,
   "id": "ce02bc04-99dc-4378-800d-6e600e99f241",
   "metadata": {},
   "outputs": [
    {
     "data": {},
     "metadata": {},
     "output_type": "display_data"
    },
    {
     "data": {
      "application/vnd.holoviews_exec.v0+json": "",
      "text/html": [
       "<div id='1317'>\n",
       "\n",
       "\n",
       "\n",
       "\n",
       "\n",
       "  <div class=\"bk-root\" id=\"909ccadd-187d-46b8-beb1-1e81f35a5ce9\" data-root-id=\"1317\"></div>\n",
       "</div>\n",
       "<script type=\"application/javascript\">(function(root) {\n",
       "  function embed_document(root) {\n",
       "    var docs_json = {\"c2e24f35-7974-4ed4-a02a-0754b9d7ed56\":{\"defs\":[],\"roots\":{\"references\":[{\"attributes\":{\"end\":4086.5,\"reset_end\":4086.5,\"reset_start\":0.0,\"tags\":[[[\"value\",\"value\",null]]]},\"id\":\"1320\",\"type\":\"Range1d\"},{\"attributes\":{},\"id\":\"1327\",\"type\":\"CategoricalScale\"},{\"attributes\":{\"children\":[{\"id\":\"1398\"}],\"css_classes\":[\"panel-widget-box\"],\"margin\":[5,5,5,5],\"name\":\"WidgetBox02396\"},\"id\":\"1397\",\"type\":\"Column\"},{\"attributes\":{},\"id\":\"1332\",\"type\":\"CategoricalTicker\"},{\"attributes\":{\"data\":{\"Variable\":[\"single_detached_house\",\"single_detached_house\",\"single_detached_house\",\"single_detached_house\",\"apartment_five_storeys_plus\",\"apartment_five_storeys_plus\",\"apartment_five_storeys_plus\",\"apartment_five_storeys_plus\",\"movable_dwelling\",\"movable_dwelling\",\"movable_dwelling\",\"movable_dwelling\",\"semi_detached_house\",\"semi_detached_house\",\"semi_detached_house\",\"semi_detached_house\",\"row_house\",\"row_house\",\"row_house\",\"row_house\",\"duplex\",\"duplex\",\"duplex\",\"duplex\",\"apartment_five_storeys_less\",\"apartment_five_storeys_less\",\"apartment_five_storeys_less\",\"apartment_five_storeys_less\",\"other_house\",\"other_house\",\"other_house\",\"other_house\"],\"value\":[3715,3295,3385,3345,1480,2060,2130,2120,0,0,5,5,1055,775,820,805,1295,1425,1465,1440,195,600,610,645,185,565,705,735,5,0,20,15],\"xoffsets\":[[\"2001\",\"single_detached_house\"],[\"2006\",\"single_detached_house\"],[\"2011\",\"single_detached_house\"],[\"2016\",\"single_detached_house\"],[\"2001\",\"apartment_five_storeys_plus\"],[\"2006\",\"apartment_five_storeys_plus\"],[\"2011\",\"apartment_five_storeys_plus\"],[\"2016\",\"apartment_five_storeys_plus\"],[\"2001\",\"movable_dwelling\"],[\"2006\",\"movable_dwelling\"],[\"2011\",\"movable_dwelling\"],[\"2016\",\"movable_dwelling\"],[\"2001\",\"semi_detached_house\"],[\"2006\",\"semi_detached_house\"],[\"2011\",\"semi_detached_house\"],[\"2016\",\"semi_detached_house\"],[\"2001\",\"row_house\"],[\"2006\",\"row_house\"],[\"2011\",\"row_house\"],[\"2016\",\"row_house\"],[\"2001\",\"duplex\"],[\"2006\",\"duplex\"],[\"2011\",\"duplex\"],[\"2016\",\"duplex\"],[\"2001\",\"apartment_five_storeys_less\"],[\"2006\",\"apartment_five_storeys_less\"],[\"2011\",\"apartment_five_storeys_less\"],[\"2016\",\"apartment_five_storeys_less\"],[\"2001\",\"other_house\"],[\"2006\",\"other_house\"],[\"2011\",\"other_house\"],[\"2016\",\"other_house\"]],\"year\":[\"2001\",\"2006\",\"2011\",\"2016\",\"2001\",\"2006\",\"2011\",\"2016\",\"2001\",\"2006\",\"2011\",\"2016\",\"2001\",\"2006\",\"2011\",\"2016\",\"2001\",\"2006\",\"2011\",\"2016\",\"2001\",\"2006\",\"2011\",\"2016\",\"2001\",\"2006\",\"2011\",\"2016\",\"2001\",\"2006\",\"2011\",\"2016\"]},\"selected\":{\"id\":\"1353\"},\"selection_policy\":{\"id\":\"1383\"}},\"id\":\"1352\",\"type\":\"ColumnDataSource\"},{\"attributes\":{},\"id\":\"1383\",\"type\":\"UnionRenderers\"},{\"attributes\":{},\"id\":\"1342\",\"type\":\"ResetTool\"},{\"attributes\":{\"factors\":[\"single_detached_house\",\"apartment_five_storeys_plus\",\"movable_dwelling\",\"semi_detached_house\",\"row_house\",\"duplex\",\"apartment_five_storeys_less\",\"other_house\"],\"palette\":[\"#30a2da\",\"#fc4f30\",\"#e5ae38\",\"#6d904f\",\"#8b8b8b\",\"#17becf\",\"#9467bd\",\"#d62728\"]},\"id\":\"1351\",\"type\":\"CategoricalColorMapper\"},{\"attributes\":{\"callback\":null,\"renderers\":[{\"id\":\"1358\"}],\"tags\":[\"hv_created\"],\"tooltips\":[[\"year\",\"@{year}\"],[\"Variable\",\"@{Variable}\"],[\"value\",\"@{value}\"]]},\"id\":\"1321\",\"type\":\"HoverTool\"},{\"attributes\":{\"children\":[{\"id\":\"1396\"},{\"id\":\"1397\"},{\"id\":\"1399\"}],\"margin\":[0,0,0,0],\"name\":\"Column02403\"},\"id\":\"1395\",\"type\":\"Column\"},{\"attributes\":{\"axis\":{\"id\":\"1331\"},\"grid_line_color\":null,\"ticker\":null},\"id\":\"1333\",\"type\":\"Grid\"},{\"attributes\":{},\"id\":\"1340\",\"type\":\"WheelZoomTool\"},{\"attributes\":{\"overlay\":{\"id\":\"1343\"}},\"id\":\"1341\",\"type\":\"BoxZoomTool\"},{\"attributes\":{},\"id\":\"1353\",\"type\":\"Selection\"},{\"attributes\":{\"factors\":[[\"2001\",\"other_house\"],[\"2001\",\"apartment_five_storeys_less\"],[\"2001\",\"duplex\"],[\"2001\",\"row_house\"],[\"2001\",\"semi_detached_house\"],[\"2001\",\"movable_dwelling\"],[\"2001\",\"apartment_five_storeys_plus\"],[\"2001\",\"single_detached_house\"],[\"2006\",\"other_house\"],[\"2006\",\"apartment_five_storeys_less\"],[\"2006\",\"duplex\"],[\"2006\",\"row_house\"],[\"2006\",\"semi_detached_house\"],[\"2006\",\"movable_dwelling\"],[\"2006\",\"apartment_five_storeys_plus\"],[\"2006\",\"single_detached_house\"],[\"2011\",\"other_house\"],[\"2011\",\"apartment_five_storeys_less\"],[\"2011\",\"duplex\"],[\"2011\",\"row_house\"],[\"2011\",\"semi_detached_house\"],[\"2011\",\"movable_dwelling\"],[\"2011\",\"apartment_five_storeys_plus\"],[\"2011\",\"single_detached_house\"],[\"2016\",\"other_house\"],[\"2016\",\"apartment_five_storeys_less\"],[\"2016\",\"duplex\"],[\"2016\",\"row_house\"],[\"2016\",\"semi_detached_house\"],[\"2016\",\"movable_dwelling\"],[\"2016\",\"apartment_five_storeys_plus\"],[\"2016\",\"single_detached_house\"]],\"tags\":[[[\"year\",\"year\",null],[\"Variable\",\"Variable\",null]]]},\"id\":\"1319\",\"type\":\"FactorRange\"},{\"attributes\":{},\"id\":\"1363\",\"type\":\"AllLabels\"},{\"attributes\":{\"below\":[{\"id\":\"1331\"}],\"center\":[{\"id\":\"1333\"},{\"id\":\"1337\"}],\"frame_height\":300,\"frame_width\":800,\"height\":null,\"left\":[{\"id\":\"1334\"}],\"margin\":[5,5,5,5],\"min_border_bottom\":10,\"min_border_left\":10,\"min_border_right\":10,\"min_border_top\":10,\"renderers\":[{\"id\":\"1358\"}],\"sizing_mode\":\"fixed\",\"title\":{\"id\":\"1323\"},\"toolbar\":{\"id\":\"1344\"},\"width\":null,\"x_range\":{\"id\":\"1319\"},\"x_scale\":{\"id\":\"1327\"},\"y_range\":{\"id\":\"1320\"},\"y_scale\":{\"id\":\"1329\"}},\"id\":\"1322\",\"subtype\":\"Figure\",\"type\":\"Plot\"},{\"attributes\":{\"axis\":{\"id\":\"1334\"},\"dimension\":1,\"grid_line_color\":null,\"ticker\":null},\"id\":\"1337\",\"type\":\"Grid\"},{\"attributes\":{\"margin\":[5,5,5,5],\"name\":\"VSpacer02401\",\"sizing_mode\":\"stretch_height\"},\"id\":\"1396\",\"type\":\"Spacer\"},{\"attributes\":{\"axis_label\":\"Number of Dwellings\",\"formatter\":{\"id\":\"1361\"},\"major_label_policy\":{\"id\":\"1366\"},\"ticker\":{\"id\":\"1335\"}},\"id\":\"1334\",\"type\":\"LinearAxis\"},{\"attributes\":{\"bottom_units\":\"screen\",\"fill_alpha\":0.5,\"fill_color\":\"lightgrey\",\"left_units\":\"screen\",\"level\":\"overlay\",\"line_alpha\":1.0,\"line_color\":\"black\",\"line_dash\":[4,4],\"line_width\":2,\"right_units\":\"screen\",\"syncable\":false,\"top_units\":\"screen\"},\"id\":\"1343\",\"type\":\"BoxAnnotation\"},{\"attributes\":{},\"id\":\"1329\",\"type\":\"LinearScale\"},{\"attributes\":{},\"id\":\"1339\",\"type\":\"PanTool\"},{\"attributes\":{\"format\":\"%.0f\"},\"id\":\"1361\",\"type\":\"PrintfTickFormatter\"},{\"attributes\":{},\"id\":\"1335\",\"type\":\"BasicTicker\"},{\"attributes\":{\"bottom\":{\"value\":0},\"fill_alpha\":{\"value\":1.0},\"fill_color\":{\"field\":\"Variable\",\"transform\":{\"id\":\"1351\"}},\"hatch_alpha\":{\"value\":1.0},\"hatch_color\":{\"value\":\"black\"},\"hatch_scale\":{\"value\":12.0},\"hatch_weight\":{\"value\":1.0},\"line_alpha\":{\"value\":1.0},\"line_cap\":{\"value\":\"butt\"},\"line_color\":{\"value\":\"black\"},\"line_dash\":{\"value\":[]},\"line_dash_offset\":{\"value\":0},\"line_join\":{\"value\":\"bevel\"},\"line_width\":{\"value\":1},\"top\":{\"field\":\"value\"},\"width\":{\"value\":0.8},\"x\":{\"field\":\"xoffsets\"}},\"id\":\"1360\",\"type\":\"VBar\"},{\"attributes\":{\"margin\":[20,20,20,20],\"min_width\":250,\"options\":[\"Agincourt North\",\"Agincourt South-Malvern West\",\"Alderwood\",\"Annex\",\"Banbury-Don Mills\",\"Bathurst Manor\",\"Bay Street Corridor\",\"Bayview Village\",\"Bayview Woods-Steeles\",\"Bedford Park-Nortown\",\"Beechborough-Greenbrook\",\"Bendale\",\"Birchcliffe-Cliffside\",\"Black Creek\",\"Blake-Jones\",\"Briar Hill-Belgravia\",\"Bridle Path-Sunnybrook-York Mills\",\"Broadview North\",\"Brookhaven-Amesbury\",\"Cabbagetown-South St.James Town\",\"Caledonia-Fairbank\",\"Casa Loma\",\"Centennial Scarborough\",\"Church-Yonge Corridor\",\"Clairlea-Birchmount\",\"Clanton Park\",\"Cliffcrest\",\"Corso Italia-Davenport\",\"Danforth\",\"Danforth-East York\",\"Don Valley Village\",\"Dorset Park\",\"Dovercourt-Wallace Emerson-Juncti\",\"Downsview-Roding-CFB\",\"Dufferin Grove\",\"East End-Danforth\",\"Edenbridge-Humber Valley\",\"Eglinton East\",\"Elms-Old Rexdale\",\"Englemount-Lawrence\",\"Eringate-Centennial-West Deane\",\"Etobicoke West Mall\",\"Flemingdon Park\",\"Forest Hill North\",\"Forest Hill South\",\"Glenfield-Jane Heights\",\"Greenwood-Coxwell\",\"Guildwood\",\"Henry Farm\",\"High Park North\",\"High Park-Swansea\",\"Highland Creek\",\"Hillcrest Village\",\"Humber Heights-Westmount\",\"Humber Summit\",\"Humbermede\",\"Humewood-Cedarvale\",\"Ionview\",\"Islington-City Centre West\",\"Junction Area\",\"Keelesdale-Eglinton West\",\"Kennedy Park\",\"Kensington-Chinatown\",\"Kingsview Village-The Westway\",\"Kingsway South\",\"L'Amoreaux\",\"Lambton Baby Point\",\"Lansing-Westgate\",\"Lawrence Park North\",\"Lawrence Park South\",\"Leaside-Bennington\",\"Little Portugal\",\"Long Branch\",\"Malvern\",\"Maple Leaf\",\"Markland Wood\",\"Milliken\",\"Mimico\",\"Morningside\",\"Moss Park\",\"Mount Dennis\",\"Mount Olive-Silverstone-Jamestown\",\"Mount Pleasant East\",\"Mount Pleasant West\",\"New Toronto\",\"Newtonbrook East\",\"Newtonbrook West\",\"Niagara\",\"North Riverdale\",\"North St.James Town\",\"O'Connor-Parkview\",\"Oakridge\",\"Oakwood Village\",\"Old East York\",\"Palmerston-Little Italy\",\"Parkwoods-Donalda\",\"Pelmo Park-Humberlea\",\"Playter Estates-Danforth\",\"Pleasant View\",\"Princess-Rosethorn\",\"Regent Park\",\"Rexdale-Kipling\",\"Rockcliffe-Smythe\",\"Roncesvalles\",\"Rosedale-Moore Park\",\"Rouge\",\"Runnymede-Bloor West Village\",\"Rustic\",\"Scarborough Village\",\"South Parkdale\",\"South Riverdale\",\"St.Andrew-Windfields\",\"Steeles\",\"Stonegate-Queensway\",\"Tam O'Shanter-Sullivan\",\"Taylor-Massey\",\"The Beaches\",\"Thistletown-Beaumond Heights\",\"Thorncliffe Park\",\"Trinity-Bellwoods\",\"University\",\"Victoria Village\",\"Waterfront Communities-The Island\",\"West Hill\",\"West Humber-Clairville\",\"Westminster-Branson\",\"Weston\",\"Weston-Pellam Park\",\"Wexford/Maryvale\",\"Willowdale East\",\"Willowdale West\",\"Willowridge-Martingrove-Richview\",\"Woburn\",\"Woodbine Corridor\",\"Woodbine-Lumsden\",\"Wychwood\",\"Yonge-Eglinton\",\"Yonge-St.Clair\",\"York University Heights\",\"Yorkdale-Glen Park\"],\"title\":\"neighbourhood\",\"value\":\"Agincourt North\",\"width\":250},\"id\":\"1398\",\"type\":\"Select\"},{\"attributes\":{\"fill_alpha\":{\"value\":0.1},\"fill_color\":{\"field\":\"Variable\",\"transform\":{\"id\":\"1351\"}},\"line_alpha\":{\"value\":0.1},\"top\":{\"field\":\"value\"},\"width\":{\"value\":0.8},\"x\":{\"field\":\"xoffsets\"}},\"id\":\"1356\",\"type\":\"VBar\"},{\"attributes\":{\"text\":\"Number of Dwelling Types per Neighbourhood\",\"text_color\":\"black\",\"text_font_size\":\"12pt\"},\"id\":\"1323\",\"type\":\"Title\"},{\"attributes\":{\"source\":{\"id\":\"1352\"}},\"id\":\"1359\",\"type\":\"CDSView\"},{\"attributes\":{\"active_multi\":null,\"tools\":[{\"id\":\"1321\"},{\"id\":\"1338\"},{\"id\":\"1339\"},{\"id\":\"1340\"},{\"id\":\"1341\"},{\"id\":\"1342\"}]},\"id\":\"1344\",\"type\":\"Toolbar\"},{\"attributes\":{},\"id\":\"1364\",\"type\":\"CategoricalTickFormatter\"},{\"attributes\":{\"margin\":[5,5,5,5],\"name\":\"HSpacer02404\",\"sizing_mode\":\"stretch_width\"},\"id\":\"1318\",\"type\":\"Spacer\"},{\"attributes\":{},\"id\":\"1338\",\"type\":\"SaveTool\"},{\"attributes\":{\"axis_label\":\"Dwelling Types\",\"formatter\":{\"id\":\"1364\"},\"major_label_orientation\":1.5707963267948966,\"major_label_policy\":{\"id\":\"1363\"},\"ticker\":{\"id\":\"1332\"}},\"id\":\"1331\",\"type\":\"CategoricalAxis\"},{\"attributes\":{\"fill_alpha\":{\"value\":0.2},\"fill_color\":{\"field\":\"Variable\",\"transform\":{\"id\":\"1351\"}},\"line_alpha\":{\"value\":0.2},\"top\":{\"field\":\"value\"},\"width\":{\"value\":0.8},\"x\":{\"field\":\"xoffsets\"}},\"id\":\"1357\",\"type\":\"VBar\"},{\"attributes\":{\"client_comm_id\":\"df89da9a23fb45ffafa72631b425e375\",\"comm_id\":\"b59d75b5d82d45a5a79ca6628951765c\",\"plot_id\":\"1317\"},\"id\":\"1427\",\"type\":\"panel.models.comm_manager.CommManager\"},{\"attributes\":{\"margin\":[5,5,5,5],\"name\":\"HSpacer02405\",\"sizing_mode\":\"stretch_width\"},\"id\":\"1394\",\"type\":\"Spacer\"},{\"attributes\":{\"data_source\":{\"id\":\"1352\"},\"glyph\":{\"id\":\"1355\"},\"hover_glyph\":null,\"muted_glyph\":{\"id\":\"1357\"},\"nonselection_glyph\":{\"id\":\"1356\"},\"selection_glyph\":{\"id\":\"1360\"},\"view\":{\"id\":\"1359\"}},\"id\":\"1358\",\"type\":\"GlyphRenderer\"},{\"attributes\":{\"children\":[{\"id\":\"1318\"},{\"id\":\"1322\"},{\"id\":\"1394\"},{\"id\":\"1395\"}],\"margin\":[0,0,0,0],\"name\":\"Row02395\"},\"id\":\"1317\",\"type\":\"Row\"},{\"attributes\":{\"fill_color\":{\"field\":\"Variable\",\"transform\":{\"id\":\"1351\"}},\"top\":{\"field\":\"value\"},\"width\":{\"value\":0.8},\"x\":{\"field\":\"xoffsets\"}},\"id\":\"1355\",\"type\":\"VBar\"},{\"attributes\":{},\"id\":\"1366\",\"type\":\"AllLabels\"},{\"attributes\":{\"margin\":[5,5,5,5],\"name\":\"VSpacer02402\",\"sizing_mode\":\"stretch_height\"},\"id\":\"1399\",\"type\":\"Spacer\"}],\"root_ids\":[\"1317\",\"1427\"]},\"title\":\"Bokeh Application\",\"version\":\"2.3.2\"}};\n",
       "    var render_items = [{\"docid\":\"c2e24f35-7974-4ed4-a02a-0754b9d7ed56\",\"root_ids\":[\"1317\"],\"roots\":{\"1317\":\"909ccadd-187d-46b8-beb1-1e81f35a5ce9\"}}];\n",
       "    root.Bokeh.embed.embed_items_notebook(docs_json, render_items);\n",
       "  }\n",
       "  if (root.Bokeh !== undefined && root.Bokeh.Panel !== undefined && root['Plotly'] !== undefined ) {\n",
       "    embed_document(root);\n",
       "  } else {\n",
       "    var attempts = 0;\n",
       "    var timer = setInterval(function(root) {\n",
       "      if (root.Bokeh !== undefined && root.Bokeh.Panel !== undefined && root['Plotly'] !== undefined) {\n",
       "        clearInterval(timer);\n",
       "        embed_document(root);\n",
       "      } else if (document.readyState == \"complete\") {\n",
       "        attempts++;\n",
       "        if (attempts > 100) {\n",
       "          clearInterval(timer);\n",
       "          console.log(\"Bokeh: ERROR: Unable to run BokehJS code because BokehJS library is missing\");\n",
       "        }\n",
       "      }\n",
       "    }, 10, root)\n",
       "  }\n",
       "})(window);</script>"
      ],
      "text/plain": [
       ":DynamicMap   [neighbourhood]\n",
       "   :Bars   [year,Variable]   (value)"
      ]
     },
     "execution_count": 24,
     "metadata": {
      "application/vnd.holoviews_exec.v0+json": {
       "id": "1317"
      }
     },
     "output_type": "execute_result"
    }
   ],
   "source": [
    "Census_Dwellings_Data.hvplot.bar(title=\"Number of Dwelling Types per Neighbourhood\", ylabel=\"Number of Dwellings\", xlabel= \"Dwelling Types\", groupby=\"neighbourhood\", rot=90, frame_width=800, frame_height=300).opts(yformatter=\"%.0f\")"
   ]
  },
  {
   "cell_type": "code",
   "execution_count": 25,
   "id": "6ff13555-2e47-4656-92fb-9295c7a982d8",
   "metadata": {},
   "outputs": [
    {
     "data": {
      "text/plain": [
       "neighbourhood\n",
       "Bridle Path-Sunnybrook-York Mills    1526485.75\n",
       "Forest Hill South                    1195992.50\n",
       "Lawrence Park South                  1094027.75\n",
       "Rosedale-Moore Park                  1093640.00\n",
       "St.Andrew-Windfields                  999107.00\n",
       "Casa Loma                             981064.25\n",
       "Bedford Park-Nortown                  930415.25\n",
       "Forest Hill North                     851680.50\n",
       "Kingsway South                        843234.25\n",
       "Yonge-St.Clair                        813220.25\n",
       "Name: average_house_value, dtype: float64"
      ]
     },
     "execution_count": 25,
     "metadata": {},
     "output_type": "execute_result"
    }
   ],
   "source": [
    "# The Top 10 Most Expensive Neighbourhoods\n",
    "# Getting the data from the top 10 expensive neighbourhoods\n",
    "\n",
    "Most_Expensive_Neighbourhoods = Census_Data.groupby('neighbourhood').mean()\n",
    "Top_Ten = Most_Expensive_Neighbourhoods['average_house_value'].sort_values(ascending=False).head(10)\n",
    "Top_Ten"
   ]
  },
  {
   "cell_type": "code",
   "execution_count": 26,
   "id": "109ea2c1-9f86-45f4-86a2-ab141d09b8b3",
   "metadata": {},
   "outputs": [
    {
     "data": {},
     "metadata": {},
     "output_type": "display_data"
    },
    {
     "data": {
      "application/vnd.holoviews_exec.v0+json": "",
      "text/html": [
       "<div id='1473'>\n",
       "\n",
       "\n",
       "\n",
       "\n",
       "\n",
       "  <div class=\"bk-root\" id=\"b31082f1-7684-4a98-bf10-d5dfaadea844\" data-root-id=\"1473\"></div>\n",
       "</div>\n",
       "<script type=\"application/javascript\">(function(root) {\n",
       "  function embed_document(root) {\n",
       "    var docs_json = {\"1d1a3420-7eb9-4ca7-acdf-8c71aae9a576\":{\"defs\":[],\"roots\":{\"references\":[{\"attributes\":{\"fill_color\":{\"value\":\"#30a2da\"},\"top\":{\"field\":\"average_house_value\"},\"width\":{\"value\":0.8},\"x\":{\"field\":\"neighbourhood\"}},\"id\":\"1510\",\"type\":\"VBar\"},{\"attributes\":{},\"id\":\"1508\",\"type\":\"Selection\"},{\"attributes\":{\"children\":[{\"id\":\"1474\"},{\"id\":\"1478\"},{\"id\":\"1543\"}],\"margin\":[0,0,0,0],\"name\":\"Row02955\",\"tags\":[\"embedded\"]},\"id\":\"1473\",\"type\":\"Row\"},{\"attributes\":{\"fill_alpha\":{\"value\":0.1},\"fill_color\":{\"value\":\"#30a2da\"},\"line_alpha\":{\"value\":0.1},\"top\":{\"field\":\"average_house_value\"},\"width\":{\"value\":0.8},\"x\":{\"field\":\"neighbourhood\"}},\"id\":\"1511\",\"type\":\"VBar\"},{\"attributes\":{\"data_source\":{\"id\":\"1507\"},\"glyph\":{\"id\":\"1510\"},\"hover_glyph\":null,\"muted_glyph\":{\"id\":\"1512\"},\"nonselection_glyph\":{\"id\":\"1511\"},\"selection_glyph\":{\"id\":\"1515\"},\"view\":{\"id\":\"1514\"}},\"id\":\"1513\",\"type\":\"GlyphRenderer\"},{\"attributes\":{\"source\":{\"id\":\"1507\"}},\"id\":\"1514\",\"type\":\"CDSView\"},{\"attributes\":{\"fill_alpha\":{\"value\":0.2},\"fill_color\":{\"value\":\"#30a2da\"},\"line_alpha\":{\"value\":0.2},\"top\":{\"field\":\"average_house_value\"},\"width\":{\"value\":0.8},\"x\":{\"field\":\"neighbourhood\"}},\"id\":\"1512\",\"type\":\"VBar\"},{\"attributes\":{},\"id\":\"1518\",\"type\":\"AllLabels\"},{\"attributes\":{\"bottom_units\":\"screen\",\"fill_alpha\":0.5,\"fill_color\":\"lightgrey\",\"left_units\":\"screen\",\"level\":\"overlay\",\"line_alpha\":1.0,\"line_color\":\"black\",\"line_dash\":[4,4],\"line_width\":2,\"right_units\":\"screen\",\"syncable\":false,\"top_units\":\"screen\"},\"id\":\"1499\",\"type\":\"BoxAnnotation\"},{\"attributes\":{\"below\":[{\"id\":\"1487\"}],\"center\":[{\"id\":\"1489\"},{\"id\":\"1493\"}],\"frame_height\":200,\"frame_width\":600,\"height\":null,\"left\":[{\"id\":\"1490\"}],\"margin\":[5,5,5,5],\"min_border_bottom\":10,\"min_border_left\":10,\"min_border_right\":10,\"min_border_top\":10,\"renderers\":[{\"id\":\"1513\"}],\"sizing_mode\":\"fixed\",\"title\":{\"id\":\"1479\"},\"toolbar\":{\"id\":\"1500\"},\"width\":null,\"x_range\":{\"id\":\"1475\"},\"x_scale\":{\"id\":\"1483\"},\"y_range\":{\"id\":\"1476\"},\"y_scale\":{\"id\":\"1485\"}},\"id\":\"1478\",\"subtype\":\"Figure\",\"type\":\"Plot\"},{\"attributes\":{\"text\":\"Most Expensive Neighbourhoods in Toronto\",\"text_color\":\"black\",\"text_font_size\":\"12pt\"},\"id\":\"1479\",\"type\":\"Title\"},{\"attributes\":{\"factors\":[\"Bridle Path-Sunnybrook-York Mills\",\"Forest Hill South\",\"Lawrence Park South\",\"Rosedale-Moore Park\",\"St.Andrew-Windfields\",\"Casa Loma\",\"Bedford Park-Nortown\",\"Forest Hill North\",\"Kingsway South\",\"Yonge-St.Clair\"],\"tags\":[[[\"neighbourhood\",\"neighbourhood\",null]]]},\"id\":\"1475\",\"type\":\"FactorRange\"},{\"attributes\":{\"format\":\"%.0f\"},\"id\":\"1516\",\"type\":\"PrintfTickFormatter\"},{\"attributes\":{},\"id\":\"1532\",\"type\":\"UnionRenderers\"},{\"attributes\":{},\"id\":\"1485\",\"type\":\"LinearScale\"},{\"attributes\":{\"axis\":{\"id\":\"1487\"},\"grid_line_color\":null,\"ticker\":null},\"id\":\"1489\",\"type\":\"Grid\"},{\"attributes\":{\"axis_label\":\"neighbourhood\",\"formatter\":{\"id\":\"1519\"},\"major_label_orientation\":1.5707963267948966,\"major_label_policy\":{\"id\":\"1518\"},\"ticker\":{\"id\":\"1488\"}},\"id\":\"1487\",\"type\":\"CategoricalAxis\"},{\"attributes\":{\"axis\":{\"id\":\"1490\"},\"dimension\":1,\"grid_line_color\":null,\"ticker\":null},\"id\":\"1493\",\"type\":\"Grid\"},{\"attributes\":{\"data\":{\"average_house_value\":{\"__ndarray__\":\"AAAAwNVKN0EAAACA2D8yQQAAAMCLsTBBAAAAAAiwMEEAAAAAhn0uQQAAAICQ8C1BAAAAgN5kLEEAAAAAwf0pQQAAAIDEuylBAAAAgEjRKEE=\",\"dtype\":\"float64\",\"order\":\"little\",\"shape\":[10]},\"neighbourhood\":[\"Bridle Path-Sunnybrook-York Mills\",\"Forest Hill South\",\"Lawrence Park South\",\"Rosedale-Moore Park\",\"St.Andrew-Windfields\",\"Casa Loma\",\"Bedford Park-Nortown\",\"Forest Hill North\",\"Kingsway South\",\"Yonge-St.Clair\"]},\"selected\":{\"id\":\"1508\"},\"selection_policy\":{\"id\":\"1532\"}},\"id\":\"1507\",\"type\":\"ColumnDataSource\"},{\"attributes\":{},\"id\":\"1521\",\"type\":\"AllLabels\"},{\"attributes\":{},\"id\":\"1495\",\"type\":\"PanTool\"},{\"attributes\":{},\"id\":\"1488\",\"type\":\"CategoricalTicker\"},{\"attributes\":{\"axis_label\":\"Average House Value\",\"formatter\":{\"id\":\"1516\"},\"major_label_policy\":{\"id\":\"1521\"},\"ticker\":{\"id\":\"1491\"}},\"id\":\"1490\",\"type\":\"LinearAxis\"},{\"attributes\":{\"margin\":[5,5,5,5],\"name\":\"HSpacer02960\",\"sizing_mode\":\"stretch_width\"},\"id\":\"1543\",\"type\":\"Spacer\"},{\"attributes\":{},\"id\":\"1491\",\"type\":\"BasicTicker\"},{\"attributes\":{\"margin\":[5,5,5,5],\"name\":\"HSpacer02959\",\"sizing_mode\":\"stretch_width\"},\"id\":\"1474\",\"type\":\"Spacer\"},{\"attributes\":{},\"id\":\"1496\",\"type\":\"WheelZoomTool\"},{\"attributes\":{},\"id\":\"1483\",\"type\":\"CategoricalScale\"},{\"attributes\":{\"callback\":null,\"renderers\":[{\"id\":\"1513\"}],\"tags\":[\"hv_created\"],\"tooltips\":[[\"neighbourhood\",\"@{neighbourhood}\"],[\"average_house_value\",\"@{average_house_value}\"]]},\"id\":\"1477\",\"type\":\"HoverTool\"},{\"attributes\":{},\"id\":\"1494\",\"type\":\"SaveTool\"},{\"attributes\":{\"overlay\":{\"id\":\"1499\"}},\"id\":\"1497\",\"type\":\"BoxZoomTool\"},{\"attributes\":{},\"id\":\"1498\",\"type\":\"ResetTool\"},{\"attributes\":{\"active_multi\":null,\"tools\":[{\"id\":\"1477\"},{\"id\":\"1494\"},{\"id\":\"1495\"},{\"id\":\"1496\"},{\"id\":\"1497\"},{\"id\":\"1498\"}]},\"id\":\"1500\",\"type\":\"Toolbar\"},{\"attributes\":{\"end\":1597812.3,\"reset_end\":1597812.3,\"reset_start\":0.0,\"tags\":[[[\"average_house_value\",\"average_house_value\",null]]]},\"id\":\"1476\",\"type\":\"Range1d\"},{\"attributes\":{},\"id\":\"1519\",\"type\":\"CategoricalTickFormatter\"},{\"attributes\":{\"bottom\":{\"value\":0},\"fill_alpha\":{\"value\":1.0},\"fill_color\":{\"value\":\"#30a2da\"},\"hatch_alpha\":{\"value\":1.0},\"hatch_color\":{\"value\":\"black\"},\"hatch_scale\":{\"value\":12.0},\"hatch_weight\":{\"value\":1.0},\"line_alpha\":{\"value\":1.0},\"line_cap\":{\"value\":\"butt\"},\"line_color\":{\"value\":\"black\"},\"line_dash\":{\"value\":[]},\"line_dash_offset\":{\"value\":0},\"line_join\":{\"value\":\"bevel\"},\"line_width\":{\"value\":1},\"top\":{\"field\":\"average_house_value\"},\"width\":{\"value\":0.8},\"x\":{\"field\":\"neighbourhood\"}},\"id\":\"1515\",\"type\":\"VBar\"}],\"root_ids\":[\"1473\"]},\"title\":\"Bokeh Application\",\"version\":\"2.3.2\"}};\n",
       "    var render_items = [{\"docid\":\"1d1a3420-7eb9-4ca7-acdf-8c71aae9a576\",\"root_ids\":[\"1473\"],\"roots\":{\"1473\":\"b31082f1-7684-4a98-bf10-d5dfaadea844\"}}];\n",
       "    root.Bokeh.embed.embed_items_notebook(docs_json, render_items);\n",
       "  }\n",
       "  if (root.Bokeh !== undefined && root.Bokeh.Panel !== undefined && root['Plotly'] !== undefined ) {\n",
       "    embed_document(root);\n",
       "  } else {\n",
       "    var attempts = 0;\n",
       "    var timer = setInterval(function(root) {\n",
       "      if (root.Bokeh !== undefined && root.Bokeh.Panel !== undefined && root['Plotly'] !== undefined) {\n",
       "        clearInterval(timer);\n",
       "        embed_document(root);\n",
       "      } else if (document.readyState == \"complete\") {\n",
       "        attempts++;\n",
       "        if (attempts > 100) {\n",
       "          clearInterval(timer);\n",
       "          console.log(\"Bokeh: ERROR: Unable to run BokehJS code because BokehJS library is missing\");\n",
       "        }\n",
       "      }\n",
       "    }, 10, root)\n",
       "  }\n",
       "})(window);</script>"
      ],
      "text/plain": [
       ":Bars   [neighbourhood]   (average_house_value)"
      ]
     },
     "execution_count": 26,
     "metadata": {
      "application/vnd.holoviews_exec.v0+json": {
       "id": "1473"
      }
     },
     "output_type": "execute_result"
    }
   ],
   "source": [
    "Top_Ten.hvplot.bar(rot=90, ylabel= \"Average House Value\", title= \"Most Expensive Neighbourhoods in Toronto\", yformatter=\"%.0f\", frame_width = 600, frame_height = 200)"
   ]
  },
  {
   "cell_type": "code",
   "execution_count": 27,
   "id": "ed991fe8-e777-4a81-a322-5387c0317b90",
   "metadata": {},
   "outputs": [
    {
     "data": {
      "text/html": [
       "<div>\n",
       "<style scoped>\n",
       "    .dataframe tbody tr th:only-of-type {\n",
       "        vertical-align: middle;\n",
       "    }\n",
       "\n",
       "    .dataframe tbody tr th {\n",
       "        vertical-align: top;\n",
       "    }\n",
       "\n",
       "    .dataframe thead th {\n",
       "        text-align: right;\n",
       "    }\n",
       "</style>\n",
       "<table border=\"1\" class=\"dataframe\">\n",
       "  <thead>\n",
       "    <tr style=\"text-align: right;\">\n",
       "      <th></th>\n",
       "      <th>lat</th>\n",
       "      <th>lon</th>\n",
       "    </tr>\n",
       "    <tr>\n",
       "      <th>neighbourhood</th>\n",
       "      <th></th>\n",
       "      <th></th>\n",
       "    </tr>\n",
       "  </thead>\n",
       "  <tbody>\n",
       "    <tr>\n",
       "      <th>Agincourt North</th>\n",
       "      <td>43.805441</td>\n",
       "      <td>-79.266712</td>\n",
       "    </tr>\n",
       "    <tr>\n",
       "      <th>Agincourt South-Malvern West</th>\n",
       "      <td>43.788658</td>\n",
       "      <td>-79.265612</td>\n",
       "    </tr>\n",
       "    <tr>\n",
       "      <th>Alderwood</th>\n",
       "      <td>43.604937</td>\n",
       "      <td>-79.541611</td>\n",
       "    </tr>\n",
       "    <tr>\n",
       "      <th>Annex</th>\n",
       "      <td>43.671585</td>\n",
       "      <td>-79.404001</td>\n",
       "    </tr>\n",
       "    <tr>\n",
       "      <th>Banbury-Don Mills</th>\n",
       "      <td>43.737657</td>\n",
       "      <td>-79.349718</td>\n",
       "    </tr>\n",
       "  </tbody>\n",
       "</table>\n",
       "</div>"
      ],
      "text/plain": [
       "                                    lat        lon\n",
       "neighbourhood                                     \n",
       "Agincourt North               43.805441 -79.266712\n",
       "Agincourt South-Malvern West  43.788658 -79.265612\n",
       "Alderwood                     43.604937 -79.541611\n",
       "Annex                         43.671585 -79.404001\n",
       "Banbury-Don Mills             43.737657 -79.349718"
      ]
     },
     "execution_count": 27,
     "metadata": {},
     "output_type": "execute_result"
    }
   ],
   "source": [
    "# Neighbourhood Map\n",
    "Neighbourhood_Locations = pd.read_csv('coordinates.csv')\n",
    "Neighbourhood_Locations= Neighbourhood_Locations.groupby('neighbourhood').mean()\n",
    "Neighbourhood_Locations.head()"
   ]
  },
  {
   "cell_type": "code",
   "execution_count": 28,
   "id": "f9cf2d98-4d5d-4fa2-b906-10510cd46bed",
   "metadata": {},
   "outputs": [
    {
     "data": {
      "text/html": [
       "<div>\n",
       "<style scoped>\n",
       "    .dataframe tbody tr th:only-of-type {\n",
       "        vertical-align: middle;\n",
       "    }\n",
       "\n",
       "    .dataframe tbody tr th {\n",
       "        vertical-align: top;\n",
       "    }\n",
       "\n",
       "    .dataframe thead th {\n",
       "        text-align: right;\n",
       "    }\n",
       "</style>\n",
       "<table border=\"1\" class=\"dataframe\">\n",
       "  <thead>\n",
       "    <tr style=\"text-align: right;\">\n",
       "      <th></th>\n",
       "      <th>single_detached_house</th>\n",
       "      <th>apartment_five_storeys_plus</th>\n",
       "      <th>movable_dwelling</th>\n",
       "      <th>semi_detached_house</th>\n",
       "      <th>row_house</th>\n",
       "      <th>duplex</th>\n",
       "      <th>apartment_five_storeys_less</th>\n",
       "      <th>other_house</th>\n",
       "      <th>average_house_value</th>\n",
       "      <th>shelter_costs_owned</th>\n",
       "      <th>shelter_costs_rented</th>\n",
       "    </tr>\n",
       "    <tr>\n",
       "      <th>neighbourhood</th>\n",
       "      <th></th>\n",
       "      <th></th>\n",
       "      <th></th>\n",
       "      <th></th>\n",
       "      <th></th>\n",
       "      <th></th>\n",
       "      <th></th>\n",
       "      <th></th>\n",
       "      <th></th>\n",
       "      <th></th>\n",
       "      <th></th>\n",
       "    </tr>\n",
       "  </thead>\n",
       "  <tbody>\n",
       "    <tr>\n",
       "      <th>Agincourt North</th>\n",
       "      <td>3435.00</td>\n",
       "      <td>1947.50</td>\n",
       "      <td>2.50</td>\n",
       "      <td>863.75</td>\n",
       "      <td>1406.25</td>\n",
       "      <td>512.50</td>\n",
       "      <td>547.50</td>\n",
       "      <td>10.00</td>\n",
       "      <td>329811.50</td>\n",
       "      <td>1109.00</td>\n",
       "      <td>983.50</td>\n",
       "    </tr>\n",
       "    <tr>\n",
       "      <th>Agincourt South-Malvern West</th>\n",
       "      <td>2897.50</td>\n",
       "      <td>2180.00</td>\n",
       "      <td>1.25</td>\n",
       "      <td>375.00</td>\n",
       "      <td>456.25</td>\n",
       "      <td>523.75</td>\n",
       "      <td>628.75</td>\n",
       "      <td>32.50</td>\n",
       "      <td>334189.00</td>\n",
       "      <td>1131.25</td>\n",
       "      <td>985.00</td>\n",
       "    </tr>\n",
       "    <tr>\n",
       "      <th>Alderwood</th>\n",
       "      <td>2903.75</td>\n",
       "      <td>302.50</td>\n",
       "      <td>1.25</td>\n",
       "      <td>503.75</td>\n",
       "      <td>76.25</td>\n",
       "      <td>302.50</td>\n",
       "      <td>502.50</td>\n",
       "      <td>1.25</td>\n",
       "      <td>427922.50</td>\n",
       "      <td>1166.75</td>\n",
       "      <td>1003.25</td>\n",
       "    </tr>\n",
       "    <tr>\n",
       "      <th>Annex</th>\n",
       "      <td>751.25</td>\n",
       "      <td>7235.00</td>\n",
       "      <td>1.25</td>\n",
       "      <td>1375.00</td>\n",
       "      <td>613.75</td>\n",
       "      <td>355.00</td>\n",
       "      <td>4605.00</td>\n",
       "      <td>83.75</td>\n",
       "      <td>746977.00</td>\n",
       "      <td>1692.75</td>\n",
       "      <td>1315.25</td>\n",
       "    </tr>\n",
       "    <tr>\n",
       "      <th>Banbury-Don Mills</th>\n",
       "      <td>3572.50</td>\n",
       "      <td>5388.75</td>\n",
       "      <td>1.25</td>\n",
       "      <td>273.75</td>\n",
       "      <td>626.25</td>\n",
       "      <td>32.50</td>\n",
       "      <td>1340.00</td>\n",
       "      <td>0.00</td>\n",
       "      <td>612039.00</td>\n",
       "      <td>1463.50</td>\n",
       "      <td>1242.75</td>\n",
       "    </tr>\n",
       "    <tr>\n",
       "      <th>...</th>\n",
       "      <td>...</td>\n",
       "      <td>...</td>\n",
       "      <td>...</td>\n",
       "      <td>...</td>\n",
       "      <td>...</td>\n",
       "      <td>...</td>\n",
       "      <td>...</td>\n",
       "      <td>...</td>\n",
       "      <td>...</td>\n",
       "      <td>...</td>\n",
       "      <td>...</td>\n",
       "    </tr>\n",
       "    <tr>\n",
       "      <th>Wychwood</th>\n",
       "      <td>1056.25</td>\n",
       "      <td>1236.25</td>\n",
       "      <td>0.00</td>\n",
       "      <td>992.50</td>\n",
       "      <td>298.75</td>\n",
       "      <td>325.00</td>\n",
       "      <td>1878.75</td>\n",
       "      <td>17.50</td>\n",
       "      <td>565976.50</td>\n",
       "      <td>1390.75</td>\n",
       "      <td>1017.25</td>\n",
       "    </tr>\n",
       "    <tr>\n",
       "      <th>Yonge-Eglinton</th>\n",
       "      <td>1468.75</td>\n",
       "      <td>1638.75</td>\n",
       "      <td>0.00</td>\n",
       "      <td>470.00</td>\n",
       "      <td>33.75</td>\n",
       "      <td>328.75</td>\n",
       "      <td>1385.00</td>\n",
       "      <td>6.25</td>\n",
       "      <td>809745.75</td>\n",
       "      <td>1799.50</td>\n",
       "      <td>1347.75</td>\n",
       "    </tr>\n",
       "    <tr>\n",
       "      <th>Yonge-St.Clair</th>\n",
       "      <td>565.00</td>\n",
       "      <td>3948.75</td>\n",
       "      <td>0.00</td>\n",
       "      <td>425.00</td>\n",
       "      <td>212.50</td>\n",
       "      <td>172.50</td>\n",
       "      <td>1308.75</td>\n",
       "      <td>6.25</td>\n",
       "      <td>813220.25</td>\n",
       "      <td>1680.75</td>\n",
       "      <td>1369.00</td>\n",
       "    </tr>\n",
       "    <tr>\n",
       "      <th>York University Heights</th>\n",
       "      <td>1355.00</td>\n",
       "      <td>5165.00</td>\n",
       "      <td>1.25</td>\n",
       "      <td>1316.25</td>\n",
       "      <td>662.50</td>\n",
       "      <td>188.75</td>\n",
       "      <td>1085.00</td>\n",
       "      <td>33.75</td>\n",
       "      <td>305899.50</td>\n",
       "      <td>1116.75</td>\n",
       "      <td>937.50</td>\n",
       "    </tr>\n",
       "    <tr>\n",
       "      <th>Yorkdale-Glen Park</th>\n",
       "      <td>2286.25</td>\n",
       "      <td>1347.50</td>\n",
       "      <td>0.00</td>\n",
       "      <td>73.75</td>\n",
       "      <td>450.00</td>\n",
       "      <td>377.50</td>\n",
       "      <td>722.50</td>\n",
       "      <td>7.50</td>\n",
       "      <td>430861.25</td>\n",
       "      <td>1122.50</td>\n",
       "      <td>942.50</td>\n",
       "    </tr>\n",
       "  </tbody>\n",
       "</table>\n",
       "<p>140 rows × 11 columns</p>\n",
       "</div>"
      ],
      "text/plain": [
       "                              single_detached_house  \\\n",
       "neighbourhood                                         \n",
       "Agincourt North                             3435.00   \n",
       "Agincourt South-Malvern West                2897.50   \n",
       "Alderwood                                   2903.75   \n",
       "Annex                                        751.25   \n",
       "Banbury-Don Mills                           3572.50   \n",
       "...                                             ...   \n",
       "Wychwood                                    1056.25   \n",
       "Yonge-Eglinton                              1468.75   \n",
       "Yonge-St.Clair                               565.00   \n",
       "York University Heights                     1355.00   \n",
       "Yorkdale-Glen Park                          2286.25   \n",
       "\n",
       "                              apartment_five_storeys_plus  movable_dwelling  \\\n",
       "neighbourhood                                                                 \n",
       "Agincourt North                                   1947.50              2.50   \n",
       "Agincourt South-Malvern West                      2180.00              1.25   \n",
       "Alderwood                                          302.50              1.25   \n",
       "Annex                                             7235.00              1.25   \n",
       "Banbury-Don Mills                                 5388.75              1.25   \n",
       "...                                                   ...               ...   \n",
       "Wychwood                                          1236.25              0.00   \n",
       "Yonge-Eglinton                                    1638.75              0.00   \n",
       "Yonge-St.Clair                                    3948.75              0.00   \n",
       "York University Heights                           5165.00              1.25   \n",
       "Yorkdale-Glen Park                                1347.50              0.00   \n",
       "\n",
       "                              semi_detached_house  row_house  duplex  \\\n",
       "neighbourhood                                                          \n",
       "Agincourt North                            863.75    1406.25  512.50   \n",
       "Agincourt South-Malvern West               375.00     456.25  523.75   \n",
       "Alderwood                                  503.75      76.25  302.50   \n",
       "Annex                                     1375.00     613.75  355.00   \n",
       "Banbury-Don Mills                          273.75     626.25   32.50   \n",
       "...                                           ...        ...     ...   \n",
       "Wychwood                                   992.50     298.75  325.00   \n",
       "Yonge-Eglinton                             470.00      33.75  328.75   \n",
       "Yonge-St.Clair                             425.00     212.50  172.50   \n",
       "York University Heights                   1316.25     662.50  188.75   \n",
       "Yorkdale-Glen Park                          73.75     450.00  377.50   \n",
       "\n",
       "                              apartment_five_storeys_less  other_house  \\\n",
       "neighbourhood                                                            \n",
       "Agincourt North                                    547.50        10.00   \n",
       "Agincourt South-Malvern West                       628.75        32.50   \n",
       "Alderwood                                          502.50         1.25   \n",
       "Annex                                             4605.00        83.75   \n",
       "Banbury-Don Mills                                 1340.00         0.00   \n",
       "...                                                   ...          ...   \n",
       "Wychwood                                          1878.75        17.50   \n",
       "Yonge-Eglinton                                    1385.00         6.25   \n",
       "Yonge-St.Clair                                    1308.75         6.25   \n",
       "York University Heights                           1085.00        33.75   \n",
       "Yorkdale-Glen Park                                 722.50         7.50   \n",
       "\n",
       "                              average_house_value  shelter_costs_owned  \\\n",
       "neighbourhood                                                            \n",
       "Agincourt North                         329811.50              1109.00   \n",
       "Agincourt South-Malvern West            334189.00              1131.25   \n",
       "Alderwood                               427922.50              1166.75   \n",
       "Annex                                   746977.00              1692.75   \n",
       "Banbury-Don Mills                       612039.00              1463.50   \n",
       "...                                           ...                  ...   \n",
       "Wychwood                                565976.50              1390.75   \n",
       "Yonge-Eglinton                          809745.75              1799.50   \n",
       "Yonge-St.Clair                          813220.25              1680.75   \n",
       "York University Heights                 305899.50              1116.75   \n",
       "Yorkdale-Glen Park                      430861.25              1122.50   \n",
       "\n",
       "                              shelter_costs_rented  \n",
       "neighbourhood                                       \n",
       "Agincourt North                             983.50  \n",
       "Agincourt South-Malvern West                985.00  \n",
       "Alderwood                                  1003.25  \n",
       "Annex                                      1315.25  \n",
       "Banbury-Don Mills                          1242.75  \n",
       "...                                            ...  \n",
       "Wychwood                                   1017.25  \n",
       "Yonge-Eglinton                             1347.75  \n",
       "Yonge-St.Clair                             1369.00  \n",
       "York University Heights                     937.50  \n",
       "Yorkdale-Glen Park                          942.50  \n",
       "\n",
       "[140 rows x 11 columns]"
      ]
     },
     "execution_count": 28,
     "metadata": {},
     "output_type": "execute_result"
    }
   ],
   "source": [
    "Dwellings_Mean = Census_Data.groupby('neighbourhood').mean()\n",
    "Dwellings_Mean"
   ]
  },
  {
   "cell_type": "code",
   "execution_count": 30,
   "id": "33f3ffb0-961c-4d54-ace9-a8c1ec758deb",
   "metadata": {},
   "outputs": [
    {
     "data": {
      "text/html": [
       "<div>\n",
       "<style scoped>\n",
       "    .dataframe tbody tr th:only-of-type {\n",
       "        vertical-align: middle;\n",
       "    }\n",
       "\n",
       "    .dataframe tbody tr th {\n",
       "        vertical-align: top;\n",
       "    }\n",
       "\n",
       "    .dataframe thead th {\n",
       "        text-align: right;\n",
       "    }\n",
       "</style>\n",
       "<table border=\"1\" class=\"dataframe\">\n",
       "  <thead>\n",
       "    <tr style=\"text-align: right;\">\n",
       "      <th></th>\n",
       "      <th>lat</th>\n",
       "      <th>lon</th>\n",
       "      <th>single_detached_house</th>\n",
       "      <th>apartment_five_storeys_plus</th>\n",
       "      <th>movable_dwelling</th>\n",
       "      <th>semi_detached_house</th>\n",
       "      <th>row_house</th>\n",
       "      <th>duplex</th>\n",
       "      <th>apartment_five_storeys_less</th>\n",
       "      <th>other_house</th>\n",
       "      <th>average_house_value</th>\n",
       "      <th>shelter_costs_owned</th>\n",
       "      <th>shelter_costs_rented</th>\n",
       "    </tr>\n",
       "    <tr>\n",
       "      <th>neighbourhood</th>\n",
       "      <th></th>\n",
       "      <th></th>\n",
       "      <th></th>\n",
       "      <th></th>\n",
       "      <th></th>\n",
       "      <th></th>\n",
       "      <th></th>\n",
       "      <th></th>\n",
       "      <th></th>\n",
       "      <th></th>\n",
       "      <th></th>\n",
       "      <th></th>\n",
       "      <th></th>\n",
       "    </tr>\n",
       "  </thead>\n",
       "  <tbody>\n",
       "    <tr>\n",
       "      <th>Agincourt North</th>\n",
       "      <td>43.805441</td>\n",
       "      <td>-79.266712</td>\n",
       "      <td>3435.00</td>\n",
       "      <td>1947.50</td>\n",
       "      <td>2.50</td>\n",
       "      <td>863.75</td>\n",
       "      <td>1406.25</td>\n",
       "      <td>512.50</td>\n",
       "      <td>547.50</td>\n",
       "      <td>10.00</td>\n",
       "      <td>329811.5</td>\n",
       "      <td>1109.00</td>\n",
       "      <td>983.50</td>\n",
       "    </tr>\n",
       "    <tr>\n",
       "      <th>Agincourt South-Malvern West</th>\n",
       "      <td>43.788658</td>\n",
       "      <td>-79.265612</td>\n",
       "      <td>2897.50</td>\n",
       "      <td>2180.00</td>\n",
       "      <td>1.25</td>\n",
       "      <td>375.00</td>\n",
       "      <td>456.25</td>\n",
       "      <td>523.75</td>\n",
       "      <td>628.75</td>\n",
       "      <td>32.50</td>\n",
       "      <td>334189.0</td>\n",
       "      <td>1131.25</td>\n",
       "      <td>985.00</td>\n",
       "    </tr>\n",
       "    <tr>\n",
       "      <th>Alderwood</th>\n",
       "      <td>43.604937</td>\n",
       "      <td>-79.541611</td>\n",
       "      <td>2903.75</td>\n",
       "      <td>302.50</td>\n",
       "      <td>1.25</td>\n",
       "      <td>503.75</td>\n",
       "      <td>76.25</td>\n",
       "      <td>302.50</td>\n",
       "      <td>502.50</td>\n",
       "      <td>1.25</td>\n",
       "      <td>427922.5</td>\n",
       "      <td>1166.75</td>\n",
       "      <td>1003.25</td>\n",
       "    </tr>\n",
       "    <tr>\n",
       "      <th>Annex</th>\n",
       "      <td>43.671585</td>\n",
       "      <td>-79.404001</td>\n",
       "      <td>751.25</td>\n",
       "      <td>7235.00</td>\n",
       "      <td>1.25</td>\n",
       "      <td>1375.00</td>\n",
       "      <td>613.75</td>\n",
       "      <td>355.00</td>\n",
       "      <td>4605.00</td>\n",
       "      <td>83.75</td>\n",
       "      <td>746977.0</td>\n",
       "      <td>1692.75</td>\n",
       "      <td>1315.25</td>\n",
       "    </tr>\n",
       "    <tr>\n",
       "      <th>Banbury-Don Mills</th>\n",
       "      <td>43.737657</td>\n",
       "      <td>-79.349718</td>\n",
       "      <td>3572.50</td>\n",
       "      <td>5388.75</td>\n",
       "      <td>1.25</td>\n",
       "      <td>273.75</td>\n",
       "      <td>626.25</td>\n",
       "      <td>32.50</td>\n",
       "      <td>1340.00</td>\n",
       "      <td>0.00</td>\n",
       "      <td>612039.0</td>\n",
       "      <td>1463.50</td>\n",
       "      <td>1242.75</td>\n",
       "    </tr>\n",
       "  </tbody>\n",
       "</table>\n",
       "</div>"
      ],
      "text/plain": [
       "                                    lat        lon  single_detached_house  \\\n",
       "neighbourhood                                                               \n",
       "Agincourt North               43.805441 -79.266712                3435.00   \n",
       "Agincourt South-Malvern West  43.788658 -79.265612                2897.50   \n",
       "Alderwood                     43.604937 -79.541611                2903.75   \n",
       "Annex                         43.671585 -79.404001                 751.25   \n",
       "Banbury-Don Mills             43.737657 -79.349718                3572.50   \n",
       "\n",
       "                              apartment_five_storeys_plus  movable_dwelling  \\\n",
       "neighbourhood                                                                 \n",
       "Agincourt North                                   1947.50              2.50   \n",
       "Agincourt South-Malvern West                      2180.00              1.25   \n",
       "Alderwood                                          302.50              1.25   \n",
       "Annex                                             7235.00              1.25   \n",
       "Banbury-Don Mills                                 5388.75              1.25   \n",
       "\n",
       "                              semi_detached_house  row_house  duplex  \\\n",
       "neighbourhood                                                          \n",
       "Agincourt North                            863.75    1406.25  512.50   \n",
       "Agincourt South-Malvern West               375.00     456.25  523.75   \n",
       "Alderwood                                  503.75      76.25  302.50   \n",
       "Annex                                     1375.00     613.75  355.00   \n",
       "Banbury-Don Mills                          273.75     626.25   32.50   \n",
       "\n",
       "                              apartment_five_storeys_less  other_house  \\\n",
       "neighbourhood                                                            \n",
       "Agincourt North                                    547.50        10.00   \n",
       "Agincourt South-Malvern West                       628.75        32.50   \n",
       "Alderwood                                          502.50         1.25   \n",
       "Annex                                             4605.00        83.75   \n",
       "Banbury-Don Mills                                 1340.00         0.00   \n",
       "\n",
       "                              average_house_value  shelter_costs_owned  \\\n",
       "neighbourhood                                                            \n",
       "Agincourt North                          329811.5              1109.00   \n",
       "Agincourt South-Malvern West             334189.0              1131.25   \n",
       "Alderwood                                427922.5              1166.75   \n",
       "Annex                                    746977.0              1692.75   \n",
       "Banbury-Don Mills                        612039.0              1463.50   \n",
       "\n",
       "                              shelter_costs_rented  \n",
       "neighbourhood                                       \n",
       "Agincourt North                             983.50  \n",
       "Agincourt South-Malvern West                985.00  \n",
       "Alderwood                                  1003.25  \n",
       "Annex                                      1315.25  \n",
       "Banbury-Don Mills                          1242.75  "
      ]
     },
     "execution_count": 30,
     "metadata": {},
     "output_type": "execute_result"
    }
   ],
   "source": [
    "# Join the Locations and values\n",
    "Locations_And_Values = pd.concat([Neighbourhood_Locations, Dwellings_Mean], axis=\"columns\", join=\"inner\")\n",
    "Locations_And_Values.head()"
   ]
  },
  {
   "cell_type": "code",
   "execution_count": 32,
   "id": "09b6db57-e826-4dce-a005-4ef486408b14",
   "metadata": {},
   "outputs": [],
   "source": [
    "Locations_And_Values=Locations_And_Values.reset_index()"
   ]
  },
  {
   "cell_type": "code",
   "execution_count": 39,
   "id": "4f27c82a-6f6b-4a55-83b4-551fb33f1b60",
   "metadata": {},
   "outputs": [
    {
     "data": {
      "application/vnd.plotly.v1+json": {
       "config": {
        "plotlyServerURL": "https://plot.ly"
       },
       "data": [
        {
         "hovertemplate": "neighbourhood=Agincourt North<br>average_house_value=%{marker.size}<br>lat=%{lat}<br>lon=%{lon}<extra></extra>",
         "lat": [
          43.80544058
         ],
         "legendgroup": "Agincourt North",
         "lon": [
          -79.26671217
         ],
         "marker": {
          "color": "#636efa",
          "size": [
           329811.5
          ],
          "sizemode": "area",
          "sizeref": 3816.214375
         },
         "mode": "markers",
         "name": "Agincourt North",
         "showlegend": true,
         "subplot": "mapbox",
         "type": "scattermapbox"
        },
        {
         "hovertemplate": "neighbourhood=Agincourt South-Malvern West<br>average_house_value=%{marker.size}<br>lat=%{lat}<br>lon=%{lon}<extra></extra>",
         "lat": [
          43.78865755
         ],
         "legendgroup": "Agincourt South-Malvern West",
         "lon": [
          -79.2656118
         ],
         "marker": {
          "color": "#EF553B",
          "size": [
           334189
          ],
          "sizemode": "area",
          "sizeref": 3816.214375
         },
         "mode": "markers",
         "name": "Agincourt South-Malvern West",
         "showlegend": true,
         "subplot": "mapbox",
         "type": "scattermapbox"
        },
        {
         "hovertemplate": "neighbourhood=Alderwood<br>average_house_value=%{marker.size}<br>lat=%{lat}<br>lon=%{lon}<extra></extra>",
         "lat": [
          43.6049369
         ],
         "legendgroup": "Alderwood",
         "lon": [
          -79.54161093
         ],
         "marker": {
          "color": "#00cc96",
          "size": [
           427922.5
          ],
          "sizemode": "area",
          "sizeref": 3816.214375
         },
         "mode": "markers",
         "name": "Alderwood",
         "showlegend": true,
         "subplot": "mapbox",
         "type": "scattermapbox"
        },
        {
         "hovertemplate": "neighbourhood=Annex<br>average_house_value=%{marker.size}<br>lat=%{lat}<br>lon=%{lon}<extra></extra>",
         "lat": [
          43.67158544
         ],
         "legendgroup": "Annex",
         "lon": [
          -79.40400062
         ],
         "marker": {
          "color": "#ab63fa",
          "size": [
           746977
          ],
          "sizemode": "area",
          "sizeref": 3816.214375
         },
         "mode": "markers",
         "name": "Annex",
         "showlegend": true,
         "subplot": "mapbox",
         "type": "scattermapbox"
        },
        {
         "hovertemplate": "neighbourhood=Banbury-Don Mills<br>average_house_value=%{marker.size}<br>lat=%{lat}<br>lon=%{lon}<extra></extra>",
         "lat": [
          43.737657
         ],
         "legendgroup": "Banbury-Don Mills",
         "lon": [
          -79.34971798
         ],
         "marker": {
          "color": "#FFA15A",
          "size": [
           612039
          ],
          "sizemode": "area",
          "sizeref": 3816.214375
         },
         "mode": "markers",
         "name": "Banbury-Don Mills",
         "showlegend": true,
         "subplot": "mapbox",
         "type": "scattermapbox"
        },
        {
         "hovertemplate": "neighbourhood=Bathurst Manor<br>average_house_value=%{marker.size}<br>lat=%{lat}<br>lon=%{lon}<extra></extra>",
         "lat": [
          43.76481331
         ],
         "legendgroup": "Bathurst Manor",
         "lon": [
          -79.45605516
         ],
         "marker": {
          "color": "#19d3f3",
          "size": [
           501576.75
          ],
          "sizemode": "area",
          "sizeref": 3816.214375
         },
         "mode": "markers",
         "name": "Bathurst Manor",
         "showlegend": true,
         "subplot": "mapbox",
         "type": "scattermapbox"
        },
        {
         "hovertemplate": "neighbourhood=Bay Street Corridor<br>average_house_value=%{marker.size}<br>lat=%{lat}<br>lon=%{lon}<extra></extra>",
         "lat": [
          43.65751135
         ],
         "legendgroup": "Bay Street Corridor",
         "lon": [
          -79.38572125
         ],
         "marker": {
          "color": "#FF6692",
          "size": [
           423653.5
          ],
          "sizemode": "area",
          "sizeref": 3816.214375
         },
         "mode": "markers",
         "name": "Bay Street Corridor",
         "showlegend": true,
         "subplot": "mapbox",
         "type": "scattermapbox"
        },
        {
         "hovertemplate": "neighbourhood=Bayview Village<br>average_house_value=%{marker.size}<br>lat=%{lat}<br>lon=%{lon}<extra></extra>",
         "lat": [
          43.77636052
         ],
         "legendgroup": "Bayview Village",
         "lon": [
          -79.37711686
         ],
         "marker": {
          "color": "#B6E880",
          "size": [
           539258.75
          ],
          "sizemode": "area",
          "sizeref": 3816.214375
         },
         "mode": "markers",
         "name": "Bayview Village",
         "showlegend": true,
         "subplot": "mapbox",
         "type": "scattermapbox"
        },
        {
         "hovertemplate": "neighbourhood=Bayview Woods-Steeles<br>average_house_value=%{marker.size}<br>lat=%{lat}<br>lon=%{lon}<extra></extra>",
         "lat": [
          43.79680187
         ],
         "legendgroup": "Bayview Woods-Steeles",
         "lon": [
          -79.38211795
         ],
         "marker": {
          "color": "#FF97FF",
          "size": [
           565413.5
          ],
          "sizemode": "area",
          "sizeref": 3816.214375
         },
         "mode": "markers",
         "name": "Bayview Woods-Steeles",
         "showlegend": true,
         "subplot": "mapbox",
         "type": "scattermapbox"
        },
        {
         "hovertemplate": "neighbourhood=Bedford Park-Nortown<br>average_house_value=%{marker.size}<br>lat=%{lat}<br>lon=%{lon}<extra></extra>",
         "lat": [
          43.73148623
         ],
         "legendgroup": "Bedford Park-Nortown",
         "lon": [
          -79.42022735
         ],
         "marker": {
          "color": "#FECB52",
          "size": [
           930415.25
          ],
          "sizemode": "area",
          "sizeref": 3816.214375
         },
         "mode": "markers",
         "name": "Bedford Park-Nortown",
         "showlegend": true,
         "subplot": "mapbox",
         "type": "scattermapbox"
        },
        {
         "hovertemplate": "neighbourhood=Beechborough-Greenbrook<br>average_house_value=%{marker.size}<br>lat=%{lat}<br>lon=%{lon}<extra></extra>",
         "lat": [
          43.69321649
         ],
         "legendgroup": "Beechborough-Greenbrook",
         "lon": [
          -79.47947251
         ],
         "marker": {
          "color": "#636efa",
          "size": [
           370927.75
          ],
          "sizemode": "area",
          "sizeref": 3816.214375
         },
         "mode": "markers",
         "name": "Beechborough-Greenbrook",
         "showlegend": true,
         "subplot": "mapbox",
         "type": "scattermapbox"
        },
        {
         "hovertemplate": "neighbourhood=Bendale<br>average_house_value=%{marker.size}<br>lat=%{lat}<br>lon=%{lon}<extra></extra>",
         "lat": [
          43.76036631
         ],
         "legendgroup": "Bendale",
         "lon": [
          -79.25740037
         ],
         "marker": {
          "color": "#EF553B",
          "size": [
           301123.25
          ],
          "sizemode": "area",
          "sizeref": 3816.214375
         },
         "mode": "markers",
         "name": "Bendale",
         "showlegend": true,
         "subplot": "mapbox",
         "type": "scattermapbox"
        },
        {
         "hovertemplate": "neighbourhood=Birchcliffe-Cliffside<br>average_house_value=%{marker.size}<br>lat=%{lat}<br>lon=%{lon}<extra></extra>",
         "lat": [
          43.69468198
         ],
         "legendgroup": "Birchcliffe-Cliffside",
         "lon": [
          -79.26509259
         ],
         "marker": {
          "color": "#00cc96",
          "size": [
           437315
          ],
          "sizemode": "area",
          "sizeref": 3816.214375
         },
         "mode": "markers",
         "name": "Birchcliffe-Cliffside",
         "showlegend": true,
         "subplot": "mapbox",
         "type": "scattermapbox"
        },
        {
         "hovertemplate": "neighbourhood=Black Creek<br>average_house_value=%{marker.size}<br>lat=%{lat}<br>lon=%{lon}<extra></extra>",
         "lat": [
          43.76489025
         ],
         "legendgroup": "Black Creek",
         "lon": [
          -79.52197932
         ],
         "marker": {
          "color": "#ab63fa",
          "size": [
           260841.75
          ],
          "sizemode": "area",
          "sizeref": 3816.214375
         },
         "mode": "markers",
         "name": "Black Creek",
         "showlegend": true,
         "subplot": "mapbox",
         "type": "scattermapbox"
        },
        {
         "hovertemplate": "neighbourhood=Blake-Jones<br>average_house_value=%{marker.size}<br>lat=%{lat}<br>lon=%{lon}<extra></extra>",
         "lat": [
          43.67617288
         ],
         "legendgroup": "Blake-Jones",
         "lon": [
          -79.33739417
         ],
         "marker": {
          "color": "#FFA15A",
          "size": [
           511437
          ],
          "sizemode": "area",
          "sizeref": 3816.214375
         },
         "mode": "markers",
         "name": "Blake-Jones",
         "showlegend": true,
         "subplot": "mapbox",
         "type": "scattermapbox"
        },
        {
         "hovertemplate": "neighbourhood=Briar Hill-Belgravia<br>average_house_value=%{marker.size}<br>lat=%{lat}<br>lon=%{lon}<extra></extra>",
         "lat": [
          43.69902438
         ],
         "legendgroup": "Briar Hill-Belgravia",
         "lon": [
          -79.4528513
         ],
         "marker": {
          "color": "#19d3f3",
          "size": [
           365524.5
          ],
          "sizemode": "area",
          "sizeref": 3816.214375
         },
         "mode": "markers",
         "name": "Briar Hill-Belgravia",
         "showlegend": true,
         "subplot": "mapbox",
         "type": "scattermapbox"
        },
        {
         "hovertemplate": "neighbourhood=Bridle Path-Sunnybrook-York Mills<br>average_house_value=%{marker.size}<br>lat=%{lat}<br>lon=%{lon}<extra></extra>",
         "lat": [
          43.73101314
         ],
         "legendgroup": "Bridle Path-Sunnybrook-York Mills",
         "lon": [
          -79.37890418
         ],
         "marker": {
          "color": "#FF6692",
          "size": [
           1526485.75
          ],
          "sizemode": "area",
          "sizeref": 3816.214375
         },
         "mode": "markers",
         "name": "Bridle Path-Sunnybrook-York Mills",
         "showlegend": true,
         "subplot": "mapbox",
         "type": "scattermapbox"
        },
        {
         "hovertemplate": "neighbourhood=Broadview North<br>average_house_value=%{marker.size}<br>lat=%{lat}<br>lon=%{lon}<extra></extra>",
         "lat": [
          43.68882512
         ],
         "legendgroup": "Broadview North",
         "lon": [
          -79.35562951
         ],
         "marker": {
          "color": "#B6E880",
          "size": [
           443373.25
          ],
          "sizemode": "area",
          "sizeref": 3816.214375
         },
         "mode": "markers",
         "name": "Broadview North",
         "showlegend": true,
         "subplot": "mapbox",
         "type": "scattermapbox"
        },
        {
         "hovertemplate": "neighbourhood=Brookhaven-Amesbury<br>average_house_value=%{marker.size}<br>lat=%{lat}<br>lon=%{lon}<extra></extra>",
         "lat": [
          43.70132631
         ],
         "legendgroup": "Brookhaven-Amesbury",
         "lon": [
          -79.48558926
         ],
         "marker": {
          "color": "#FF97FF",
          "size": [
           350943
          ],
          "sizemode": "area",
          "sizeref": 3816.214375
         },
         "mode": "markers",
         "name": "Brookhaven-Amesbury",
         "showlegend": true,
         "subplot": "mapbox",
         "type": "scattermapbox"
        },
        {
         "hovertemplate": "neighbourhood=Cabbagetown-South St.James Town<br>average_house_value=%{marker.size}<br>lat=%{lat}<br>lon=%{lon}<extra></extra>",
         "lat": [
          43.66764773
         ],
         "legendgroup": "Cabbagetown-South St.James Town",
         "lon": [
          -79.36610666
         ],
         "marker": {
          "color": "#FECB52",
          "size": [
           494110.5
          ],
          "sizemode": "area",
          "sizeref": 3816.214375
         },
         "mode": "markers",
         "name": "Cabbagetown-South St.James Town",
         "showlegend": true,
         "subplot": "mapbox",
         "type": "scattermapbox"
        },
        {
         "hovertemplate": "neighbourhood=Caledonia-Fairbank<br>average_house_value=%{marker.size}<br>lat=%{lat}<br>lon=%{lon}<extra></extra>",
         "lat": [
          43.68856865
         ],
         "legendgroup": "Caledonia-Fairbank",
         "lon": [
          -79.45521208
         ],
         "marker": {
          "color": "#636efa",
          "size": [
           361714.25
          ],
          "sizemode": "area",
          "sizeref": 3816.214375
         },
         "mode": "markers",
         "name": "Caledonia-Fairbank",
         "showlegend": true,
         "subplot": "mapbox",
         "type": "scattermapbox"
        },
        {
         "hovertemplate": "neighbourhood=Casa Loma<br>average_house_value=%{marker.size}<br>lat=%{lat}<br>lon=%{lon}<extra></extra>",
         "lat": [
          43.6818521
         ],
         "legendgroup": "Casa Loma",
         "lon": [
          -79.40800665
         ],
         "marker": {
          "color": "#EF553B",
          "size": [
           981064.25
          ],
          "sizemode": "area",
          "sizeref": 3816.214375
         },
         "mode": "markers",
         "name": "Casa Loma",
         "showlegend": true,
         "subplot": "mapbox",
         "type": "scattermapbox"
        },
        {
         "hovertemplate": "neighbourhood=Centennial Scarborough<br>average_house_value=%{marker.size}<br>lat=%{lat}<br>lon=%{lon}<extra></extra>",
         "lat": [
          43.7823765
         ],
         "legendgroup": "Centennial Scarborough",
         "lon": [
          -79.15084327
         ],
         "marker": {
          "color": "#00cc96",
          "size": [
           409862.75
          ],
          "sizemode": "area",
          "sizeref": 3816.214375
         },
         "mode": "markers",
         "name": "Centennial Scarborough",
         "showlegend": true,
         "subplot": "mapbox",
         "type": "scattermapbox"
        },
        {
         "hovertemplate": "neighbourhood=Church-Yonge Corridor<br>average_house_value=%{marker.size}<br>lat=%{lat}<br>lon=%{lon}<extra></extra>",
         "lat": [
          43.65964886
         ],
         "legendgroup": "Church-Yonge Corridor",
         "lon": [
          -79.37901717
         ],
         "marker": {
          "color": "#ab63fa",
          "size": [
           406117.5
          ],
          "sizemode": "area",
          "sizeref": 3816.214375
         },
         "mode": "markers",
         "name": "Church-Yonge Corridor",
         "showlegend": true,
         "subplot": "mapbox",
         "type": "scattermapbox"
        },
        {
         "hovertemplate": "neighbourhood=Clairlea-Birchmount<br>average_house_value=%{marker.size}<br>lat=%{lat}<br>lon=%{lon}<extra></extra>",
         "lat": [
          43.71359238
         ],
         "legendgroup": "Clairlea-Birchmount",
         "lon": [
          -79.28138178
         ],
         "marker": {
          "color": "#FFA15A",
          "size": [
           354555.25
          ],
          "sizemode": "area",
          "sizeref": 3816.214375
         },
         "mode": "markers",
         "name": "Clairlea-Birchmount",
         "showlegend": true,
         "subplot": "mapbox",
         "type": "scattermapbox"
        },
        {
         "hovertemplate": "neighbourhood=Clanton Park<br>average_house_value=%{marker.size}<br>lat=%{lat}<br>lon=%{lon}<extra></extra>",
         "lat": [
          43.74197843
         ],
         "legendgroup": "Clanton Park",
         "lon": [
          -79.44630258
         ],
         "marker": {
          "color": "#19d3f3",
          "size": [
           551561.25
          ],
          "sizemode": "area",
          "sizeref": 3816.214375
         },
         "mode": "markers",
         "name": "Clanton Park",
         "showlegend": true,
         "subplot": "mapbox",
         "type": "scattermapbox"
        },
        {
         "hovertemplate": "neighbourhood=Cliffcrest<br>average_house_value=%{marker.size}<br>lat=%{lat}<br>lon=%{lon}<extra></extra>",
         "lat": [
          43.72112117
         ],
         "legendgroup": "Cliffcrest",
         "lon": [
          -79.23552957
         ],
         "marker": {
          "color": "#FF6692",
          "size": [
           417422
          ],
          "sizemode": "area",
          "sizeref": 3816.214375
         },
         "mode": "markers",
         "name": "Cliffcrest",
         "showlegend": true,
         "subplot": "mapbox",
         "type": "scattermapbox"
        },
        {
         "hovertemplate": "neighbourhood=Corso Italia-Davenport<br>average_house_value=%{marker.size}<br>lat=%{lat}<br>lon=%{lon}<extra></extra>",
         "lat": [
          43.67766091
         ],
         "legendgroup": "Corso Italia-Davenport",
         "lon": [
          -79.44746933
         ],
         "marker": {
          "color": "#B6E880",
          "size": [
           419930.5
          ],
          "sizemode": "area",
          "sizeref": 3816.214375
         },
         "mode": "markers",
         "name": "Corso Italia-Davenport",
         "showlegend": true,
         "subplot": "mapbox",
         "type": "scattermapbox"
        },
        {
         "hovertemplate": "neighbourhood=Danforth<br>average_house_value=%{marker.size}<br>lat=%{lat}<br>lon=%{lon}<extra></extra>",
         "lat": [
          43.68402547
         ],
         "legendgroup": "Danforth",
         "lon": [
          -79.32981941
         ],
         "marker": {
          "color": "#FF97FF",
          "size": [
           466943
          ],
          "sizemode": "area",
          "sizeref": 3816.214375
         },
         "mode": "markers",
         "name": "Danforth",
         "showlegend": true,
         "subplot": "mapbox",
         "type": "scattermapbox"
        },
        {
         "hovertemplate": "neighbourhood=Danforth-East York<br>average_house_value=%{marker.size}<br>lat=%{lat}<br>lon=%{lon}<extra></extra>",
         "lat": [
          43.68946809
         ],
         "legendgroup": "Danforth-East York",
         "lon": [
          -79.33140338
         ],
         "marker": {
          "color": "#FECB52",
          "size": [
           421679.25
          ],
          "sizemode": "area",
          "sizeref": 3816.214375
         },
         "mode": "markers",
         "name": "Danforth-East York",
         "showlegend": true,
         "subplot": "mapbox",
         "type": "scattermapbox"
        },
        {
         "hovertemplate": "neighbourhood=Don Valley Village<br>average_house_value=%{marker.size}<br>lat=%{lat}<br>lon=%{lon}<extra></extra>",
         "lat": [
          43.78329369
         ],
         "legendgroup": "Don Valley Village",
         "lon": [
          -79.35364413
         ],
         "marker": {
          "color": "#636efa",
          "size": [
           398010.25
          ],
          "sizemode": "area",
          "sizeref": 3816.214375
         },
         "mode": "markers",
         "name": "Don Valley Village",
         "showlegend": true,
         "subplot": "mapbox",
         "type": "scattermapbox"
        },
        {
         "hovertemplate": "neighbourhood=Dorset Park<br>average_house_value=%{marker.size}<br>lat=%{lat}<br>lon=%{lon}<extra></extra>",
         "lat": [
          43.75927437
         ],
         "legendgroup": "Dorset Park",
         "lon": [
          -79.27890794
         ],
         "marker": {
          "color": "#EF553B",
          "size": [
           262000.25
          ],
          "sizemode": "area",
          "sizeref": 3816.214375
         },
         "mode": "markers",
         "name": "Dorset Park",
         "showlegend": true,
         "subplot": "mapbox",
         "type": "scattermapbox"
        },
        {
         "hovertemplate": "neighbourhood=Dovercourt-Wallace Emerson-Juncti<br>average_house_value=%{marker.size}<br>lat=%{lat}<br>lon=%{lon}<extra></extra>",
         "lat": [
          43.66567693
         ],
         "legendgroup": "Dovercourt-Wallace Emerson-Juncti",
         "lon": [
          -79.4385407
         ],
         "marker": {
          "color": "#00cc96",
          "size": [
           434699.5
          ],
          "sizemode": "area",
          "sizeref": 3816.214375
         },
         "mode": "markers",
         "name": "Dovercourt-Wallace Emerson-Juncti",
         "showlegend": true,
         "subplot": "mapbox",
         "type": "scattermapbox"
        },
        {
         "hovertemplate": "neighbourhood=Downsview-Roding-CFB<br>average_house_value=%{marker.size}<br>lat=%{lat}<br>lon=%{lon}<extra></extra>",
         "lat": [
          43.73329235
         ],
         "legendgroup": "Downsview-Roding-CFB",
         "lon": [
          -79.49049735
         ],
         "marker": {
          "color": "#ab63fa",
          "size": [
           381415.5
          ],
          "sizemode": "area",
          "sizeref": 3816.214375
         },
         "mode": "markers",
         "name": "Downsview-Roding-CFB",
         "showlegend": true,
         "subplot": "mapbox",
         "type": "scattermapbox"
        },
        {
         "hovertemplate": "neighbourhood=Dufferin Grove<br>average_house_value=%{marker.size}<br>lat=%{lat}<br>lon=%{lon}<extra></extra>",
         "lat": [
          43.65542833
         ],
         "legendgroup": "Dufferin Grove",
         "lon": [
          -79.43734104
         ],
         "marker": {
          "color": "#FFA15A",
          "size": [
           457588.75
          ],
          "sizemode": "area",
          "sizeref": 3816.214375
         },
         "mode": "markers",
         "name": "Dufferin Grove",
         "showlegend": true,
         "subplot": "mapbox",
         "type": "scattermapbox"
        },
        {
         "hovertemplate": "neighbourhood=East End-Danforth<br>average_house_value=%{marker.size}<br>lat=%{lat}<br>lon=%{lon}<extra></extra>",
         "lat": [
          43.68417388
         ],
         "legendgroup": "East End-Danforth",
         "lon": [
          -79.29935867
         ],
         "marker": {
          "color": "#19d3f3",
          "size": [
           478054.25
          ],
          "sizemode": "area",
          "sizeref": 3816.214375
         },
         "mode": "markers",
         "name": "East End-Danforth",
         "showlegend": true,
         "subplot": "mapbox",
         "type": "scattermapbox"
        },
        {
         "hovertemplate": "neighbourhood=Edenbridge-Humber Valley<br>average_house_value=%{marker.size}<br>lat=%{lat}<br>lon=%{lon}<extra></extra>",
         "lat": [
          43.67088591
         ],
         "legendgroup": "Edenbridge-Humber Valley",
         "lon": [
          -79.52245776
         ],
         "marker": {
          "color": "#FF6692",
          "size": [
           796162.5
          ],
          "sizemode": "area",
          "sizeref": 3816.214375
         },
         "mode": "markers",
         "name": "Edenbridge-Humber Valley",
         "showlegend": true,
         "subplot": "mapbox",
         "type": "scattermapbox"
        },
        {
         "hovertemplate": "neighbourhood=Eglinton East<br>average_house_value=%{marker.size}<br>lat=%{lat}<br>lon=%{lon}<extra></extra>",
         "lat": [
          43.7409223
         ],
         "legendgroup": "Eglinton East",
         "lon": [
          -79.24559804
         ],
         "marker": {
          "color": "#B6E880",
          "size": [
           268966.5
          ],
          "sizemode": "area",
          "sizeref": 3816.214375
         },
         "mode": "markers",
         "name": "Eglinton East",
         "showlegend": true,
         "subplot": "mapbox",
         "type": "scattermapbox"
        },
        {
         "hovertemplate": "neighbourhood=Elms-Old Rexdale<br>average_house_value=%{marker.size}<br>lat=%{lat}<br>lon=%{lon}<extra></extra>",
         "lat": [
          43.72151887
         ],
         "legendgroup": "Elms-Old Rexdale",
         "lon": [
          -79.54898272
         ],
         "marker": {
          "color": "#FF97FF",
          "size": [
           268341.25
          ],
          "sizemode": "area",
          "sizeref": 3816.214375
         },
         "mode": "markers",
         "name": "Elms-Old Rexdale",
         "showlegend": true,
         "subplot": "mapbox",
         "type": "scattermapbox"
        },
        {
         "hovertemplate": "neighbourhood=Englemount-Lawrence<br>average_house_value=%{marker.size}<br>lat=%{lat}<br>lon=%{lon}<extra></extra>",
         "lat": [
          43.72034467
         ],
         "legendgroup": "Englemount-Lawrence",
         "lon": [
          -79.43740855
         ],
         "marker": {
          "color": "#FECB52",
          "size": [
           568936.75
          ],
          "sizemode": "area",
          "sizeref": 3816.214375
         },
         "mode": "markers",
         "name": "Englemount-Lawrence",
         "showlegend": true,
         "subplot": "mapbox",
         "type": "scattermapbox"
        },
        {
         "hovertemplate": "neighbourhood=Eringate-Centennial-West Deane<br>average_house_value=%{marker.size}<br>lat=%{lat}<br>lon=%{lon}<extra></extra>",
         "lat": [
          43.65801676
         ],
         "legendgroup": "Eringate-Centennial-West Deane",
         "lon": [
          -79.58044524
         ],
         "marker": {
          "color": "#636efa",
          "size": [
           397781.75
          ],
          "sizemode": "area",
          "sizeref": 3816.214375
         },
         "mode": "markers",
         "name": "Eringate-Centennial-West Deane",
         "showlegend": true,
         "subplot": "mapbox",
         "type": "scattermapbox"
        },
        {
         "hovertemplate": "neighbourhood=Etobicoke West Mall<br>average_house_value=%{marker.size}<br>lat=%{lat}<br>lon=%{lon}<extra></extra>",
         "lat": [
          43.64506262
         ],
         "legendgroup": "Etobicoke West Mall",
         "lon": [
          -79.56893877
         ],
         "marker": {
          "color": "#EF553B",
          "size": [
           309412
          ],
          "sizemode": "area",
          "sizeref": 3816.214375
         },
         "mode": "markers",
         "name": "Etobicoke West Mall",
         "showlegend": true,
         "subplot": "mapbox",
         "type": "scattermapbox"
        },
        {
         "hovertemplate": "neighbourhood=Flemingdon Park<br>average_house_value=%{marker.size}<br>lat=%{lat}<br>lon=%{lon}<extra></extra>",
         "lat": [
          43.71592975
         ],
         "legendgroup": "Flemingdon Park",
         "lon": [
          -79.33264597
         ],
         "marker": {
          "color": "#00cc96",
          "size": [
           207799
          ],
          "sizemode": "area",
          "sizeref": 3816.214375
         },
         "mode": "markers",
         "name": "Flemingdon Park",
         "showlegend": true,
         "subplot": "mapbox",
         "type": "scattermapbox"
        },
        {
         "hovertemplate": "neighbourhood=Forest Hill North<br>average_house_value=%{marker.size}<br>lat=%{lat}<br>lon=%{lon}<extra></extra>",
         "lat": [
          43.70421756
         ],
         "legendgroup": "Forest Hill North",
         "lon": [
          -79.42814316
         ],
         "marker": {
          "color": "#ab63fa",
          "size": [
           851680.5
          ],
          "sizemode": "area",
          "sizeref": 3816.214375
         },
         "mode": "markers",
         "name": "Forest Hill North",
         "showlegend": true,
         "subplot": "mapbox",
         "type": "scattermapbox"
        },
        {
         "hovertemplate": "neighbourhood=Forest Hill South<br>average_house_value=%{marker.size}<br>lat=%{lat}<br>lon=%{lon}<extra></extra>",
         "lat": [
          43.69452576
         ],
         "legendgroup": "Forest Hill South",
         "lon": [
          -79.41431786
         ],
         "marker": {
          "color": "#FFA15A",
          "size": [
           1195992.5
          ],
          "sizemode": "area",
          "sizeref": 3816.214375
         },
         "mode": "markers",
         "name": "Forest Hill South",
         "showlegend": true,
         "subplot": "mapbox",
         "type": "scattermapbox"
        },
        {
         "hovertemplate": "neighbourhood=Glenfield-Jane Heights<br>average_house_value=%{marker.size}<br>lat=%{lat}<br>lon=%{lon}<extra></extra>",
         "lat": [
          43.74563575
         ],
         "legendgroup": "Glenfield-Jane Heights",
         "lon": [
          -79.51346532
         ],
         "marker": {
          "color": "#19d3f3",
          "size": [
           327597.75
          ],
          "sizemode": "area",
          "sizeref": 3816.214375
         },
         "mode": "markers",
         "name": "Glenfield-Jane Heights",
         "showlegend": true,
         "subplot": "mapbox",
         "type": "scattermapbox"
        },
        {
         "hovertemplate": "neighbourhood=Greenwood-Coxwell<br>average_house_value=%{marker.size}<br>lat=%{lat}<br>lon=%{lon}<extra></extra>",
         "lat": [
          43.67261231
         ],
         "legendgroup": "Greenwood-Coxwell",
         "lon": [
          -79.32431802
         ],
         "marker": {
          "color": "#FF6692",
          "size": [
           387055.5
          ],
          "sizemode": "area",
          "sizeref": 3816.214375
         },
         "mode": "markers",
         "name": "Greenwood-Coxwell",
         "showlegend": true,
         "subplot": "mapbox",
         "type": "scattermapbox"
        },
        {
         "hovertemplate": "neighbourhood=Guildwood<br>average_house_value=%{marker.size}<br>lat=%{lat}<br>lon=%{lon}<extra></extra>",
         "lat": [
          43.74882934
         ],
         "legendgroup": "Guildwood",
         "lon": [
          -79.19505535
         ],
         "marker": {
          "color": "#B6E880",
          "size": [
           369373.5
          ],
          "sizemode": "area",
          "sizeref": 3816.214375
         },
         "mode": "markers",
         "name": "Guildwood",
         "showlegend": true,
         "subplot": "mapbox",
         "type": "scattermapbox"
        },
        {
         "hovertemplate": "neighbourhood=Henry Farm<br>average_house_value=%{marker.size}<br>lat=%{lat}<br>lon=%{lon}<extra></extra>",
         "lat": [
          43.77114414
         ],
         "legendgroup": "Henry Farm",
         "lon": [
          -79.34124067
         ],
         "marker": {
          "color": "#FF97FF",
          "size": [
           369958
          ],
          "sizemode": "area",
          "sizeref": 3816.214375
         },
         "mode": "markers",
         "name": "Henry Farm",
         "showlegend": true,
         "subplot": "mapbox",
         "type": "scattermapbox"
        },
        {
         "hovertemplate": "neighbourhood=High Park North<br>average_house_value=%{marker.size}<br>lat=%{lat}<br>lon=%{lon}<extra></extra>",
         "lat": [
          43.65756491
         ],
         "legendgroup": "High Park North",
         "lon": [
          -79.46630217
         ],
         "marker": {
          "color": "#FECB52",
          "size": [
           532497
          ],
          "sizemode": "area",
          "sizeref": 3816.214375
         },
         "mode": "markers",
         "name": "High Park North",
         "showlegend": true,
         "subplot": "mapbox",
         "type": "scattermapbox"
        },
        {
         "hovertemplate": "neighbourhood=High Park-Swansea<br>average_house_value=%{marker.size}<br>lat=%{lat}<br>lon=%{lon}<extra></extra>",
         "lat": [
          43.64506458
         ],
         "legendgroup": "High Park-Swansea",
         "lon": [
          -79.46787222
         ],
         "marker": {
          "color": "#636efa",
          "size": [
           582977.75
          ],
          "sizemode": "area",
          "sizeref": 3816.214375
         },
         "mode": "markers",
         "name": "High Park-Swansea",
         "showlegend": true,
         "subplot": "mapbox",
         "type": "scattermapbox"
        },
        {
         "hovertemplate": "neighbourhood=Highland Creek<br>average_house_value=%{marker.size}<br>lat=%{lat}<br>lon=%{lon}<extra></extra>",
         "lat": [
          43.79077477
         ],
         "legendgroup": "Highland Creek",
         "lon": [
          -79.17747247
         ],
         "marker": {
          "color": "#EF553B",
          "size": [
           428838.5
          ],
          "sizemode": "area",
          "sizeref": 3816.214375
         },
         "mode": "markers",
         "name": "Highland Creek",
         "showlegend": true,
         "subplot": "mapbox",
         "type": "scattermapbox"
        },
        {
         "hovertemplate": "neighbourhood=Hillcrest Village<br>average_house_value=%{marker.size}<br>lat=%{lat}<br>lon=%{lon}<extra></extra>",
         "lat": [
          43.80298783
         ],
         "legendgroup": "Hillcrest Village",
         "lon": [
          -79.354804
         ],
         "marker": {
          "color": "#00cc96",
          "size": [
           395023
          ],
          "sizemode": "area",
          "sizeref": 3816.214375
         },
         "mode": "markers",
         "name": "Hillcrest Village",
         "showlegend": true,
         "subplot": "mapbox",
         "type": "scattermapbox"
        },
        {
         "hovertemplate": "neighbourhood=Humber Heights-Westmount<br>average_house_value=%{marker.size}<br>lat=%{lat}<br>lon=%{lon}<extra></extra>",
         "lat": [
          43.6922328
         ],
         "legendgroup": "Humber Heights-Westmount",
         "lon": [
          -79.5224162
         ],
         "marker": {
          "color": "#ab63fa",
          "size": [
           449150.5
          ],
          "sizemode": "area",
          "sizeref": 3816.214375
         },
         "mode": "markers",
         "name": "Humber Heights-Westmount",
         "showlegend": true,
         "subplot": "mapbox",
         "type": "scattermapbox"
        },
        {
         "hovertemplate": "neighbourhood=Humber Summit<br>average_house_value=%{marker.size}<br>lat=%{lat}<br>lon=%{lon}<extra></extra>",
         "lat": [
          43.75891975
         ],
         "legendgroup": "Humber Summit",
         "lon": [
          -79.55617474
         ],
         "marker": {
          "color": "#FFA15A",
          "size": [
           352082.5
          ],
          "sizemode": "area",
          "sizeref": 3816.214375
         },
         "mode": "markers",
         "name": "Humber Summit",
         "showlegend": true,
         "subplot": "mapbox",
         "type": "scattermapbox"
        },
        {
         "hovertemplate": "neighbourhood=Humbermede<br>average_house_value=%{marker.size}<br>lat=%{lat}<br>lon=%{lon}<extra></extra>",
         "lat": [
          43.74342952
         ],
         "legendgroup": "Humbermede",
         "lon": [
          -79.54236712
         ],
         "marker": {
          "color": "#19d3f3",
          "size": [
           319783.75
          ],
          "sizemode": "area",
          "sizeref": 3816.214375
         },
         "mode": "markers",
         "name": "Humbermede",
         "showlegend": true,
         "subplot": "mapbox",
         "type": "scattermapbox"
        },
        {
         "hovertemplate": "neighbourhood=Humewood-Cedarvale<br>average_house_value=%{marker.size}<br>lat=%{lat}<br>lon=%{lon}<extra></extra>",
         "lat": [
          43.69136981
         ],
         "legendgroup": "Humewood-Cedarvale",
         "lon": [
          -79.42768335
         ],
         "marker": {
          "color": "#FF6692",
          "size": [
           697085.5
          ],
          "sizemode": "area",
          "sizeref": 3816.214375
         },
         "mode": "markers",
         "name": "Humewood-Cedarvale",
         "showlegend": true,
         "subplot": "mapbox",
         "type": "scattermapbox"
        },
        {
         "hovertemplate": "neighbourhood=Ionview<br>average_house_value=%{marker.size}<br>lat=%{lat}<br>lon=%{lon}<extra></extra>",
         "lat": [
          43.73536441
         ],
         "legendgroup": "Ionview",
         "lon": [
          -79.27247049
         ],
         "marker": {
          "color": "#B6E880",
          "size": [
           287685.75
          ],
          "sizemode": "area",
          "sizeref": 3816.214375
         },
         "mode": "markers",
         "name": "Ionview",
         "showlegend": true,
         "subplot": "mapbox",
         "type": "scattermapbox"
        },
        {
         "hovertemplate": "neighbourhood=Islington-City Centre West<br>average_house_value=%{marker.size}<br>lat=%{lat}<br>lon=%{lon}<extra></extra>",
         "lat": [
          43.63346335
         ],
         "legendgroup": "Islington-City Centre West",
         "lon": [
          -79.54331654
         ],
         "marker": {
          "color": "#FF97FF",
          "size": [
           451685.25
          ],
          "sizemode": "area",
          "sizeref": 3816.214375
         },
         "mode": "markers",
         "name": "Islington-City Centre West",
         "showlegend": true,
         "subplot": "mapbox",
         "type": "scattermapbox"
        },
        {
         "hovertemplate": "neighbourhood=Junction Area<br>average_house_value=%{marker.size}<br>lat=%{lat}<br>lon=%{lon}<extra></extra>",
         "lat": [
          43.66788977
         ],
         "legendgroup": "Junction Area",
         "lon": [
          -79.47143987
         ],
         "marker": {
          "color": "#FECB52",
          "size": [
           433269.25
          ],
          "sizemode": "area",
          "sizeref": 3816.214375
         },
         "mode": "markers",
         "name": "Junction Area",
         "showlegend": true,
         "subplot": "mapbox",
         "type": "scattermapbox"
        },
        {
         "hovertemplate": "neighbourhood=Keelesdale-Eglinton West<br>average_house_value=%{marker.size}<br>lat=%{lat}<br>lon=%{lon}<extra></extra>",
         "lat": [
          43.68572747
         ],
         "legendgroup": "Keelesdale-Eglinton West",
         "lon": [
          -79.47143711
         ],
         "marker": {
          "color": "#636efa",
          "size": [
           322774.75
          ],
          "sizemode": "area",
          "sizeref": 3816.214375
         },
         "mode": "markers",
         "name": "Keelesdale-Eglinton West",
         "showlegend": true,
         "subplot": "mapbox",
         "type": "scattermapbox"
        },
        {
         "hovertemplate": "neighbourhood=Kennedy Park<br>average_house_value=%{marker.size}<br>lat=%{lat}<br>lon=%{lon}<extra></extra>",
         "lat": [
          43.72555572
         ],
         "legendgroup": "Kennedy Park",
         "lon": [
          -79.26038221
         ],
         "marker": {
          "color": "#EF553B",
          "size": [
           287233.5
          ],
          "sizemode": "area",
          "sizeref": 3816.214375
         },
         "mode": "markers",
         "name": "Kennedy Park",
         "showlegend": true,
         "subplot": "mapbox",
         "type": "scattermapbox"
        },
        {
         "hovertemplate": "neighbourhood=Kensington-Chinatown<br>average_house_value=%{marker.size}<br>lat=%{lat}<br>lon=%{lon}<extra></extra>",
         "lat": [
          43.65355413
         ],
         "legendgroup": "Kensington-Chinatown",
         "lon": [
          -79.39723988
         ],
         "marker": {
          "color": "#00cc96",
          "size": [
           440485.75
          ],
          "sizemode": "area",
          "sizeref": 3816.214375
         },
         "mode": "markers",
         "name": "Kensington-Chinatown",
         "showlegend": true,
         "subplot": "mapbox",
         "type": "scattermapbox"
        },
        {
         "hovertemplate": "neighbourhood=Kingsview Village-The Westway<br>average_house_value=%{marker.size}<br>lat=%{lat}<br>lon=%{lon}<extra></extra>",
         "lat": [
          43.69899257
         ],
         "legendgroup": "Kingsview Village-The Westway",
         "lon": [
          -79.54786331
         ],
         "marker": {
          "color": "#ab63fa",
          "size": [
           338344.75
          ],
          "sizemode": "area",
          "sizeref": 3816.214375
         },
         "mode": "markers",
         "name": "Kingsview Village-The Westway",
         "showlegend": true,
         "subplot": "mapbox",
         "type": "scattermapbox"
        },
        {
         "hovertemplate": "neighbourhood=Kingsway South<br>average_house_value=%{marker.size}<br>lat=%{lat}<br>lon=%{lon}<extra></extra>",
         "lat": [
          43.65352043
         ],
         "legendgroup": "Kingsway South",
         "lon": [
          -79.5105768
         ],
         "marker": {
          "color": "#FFA15A",
          "size": [
           843234.25
          ],
          "sizemode": "area",
          "sizeref": 3816.214375
         },
         "mode": "markers",
         "name": "Kingsway South",
         "showlegend": true,
         "subplot": "mapbox",
         "type": "scattermapbox"
        },
        {
         "hovertemplate": "neighbourhood=L'Amoreaux<br>average_house_value=%{marker.size}<br>lat=%{lat}<br>lon=%{lon}<extra></extra>",
         "lat": [
          43.79571603
         ],
         "legendgroup": "L'Amoreaux",
         "lon": [
          -79.31408424
         ],
         "marker": {
          "color": "#19d3f3",
          "size": [
           650307.75
          ],
          "sizemode": "area",
          "sizeref": 3816.214375
         },
         "mode": "markers",
         "name": "L'Amoreaux",
         "showlegend": true,
         "subplot": "mapbox",
         "type": "scattermapbox"
        },
        {
         "hovertemplate": "neighbourhood=Lambton Baby Point<br>average_house_value=%{marker.size}<br>lat=%{lat}<br>lon=%{lon}<extra></extra>",
         "lat": [
          43.65742013
         ],
         "legendgroup": "Lambton Baby Point",
         "lon": [
          -79.49604526
         ],
         "marker": {
          "color": "#FF6692",
          "size": [
           336617.75
          ],
          "sizemode": "area",
          "sizeref": 3816.214375
         },
         "mode": "markers",
         "name": "Lambton Baby Point",
         "showlegend": true,
         "subplot": "mapbox",
         "type": "scattermapbox"
        },
        {
         "hovertemplate": "neighbourhood=Lansing-Westgate<br>average_house_value=%{marker.size}<br>lat=%{lat}<br>lon=%{lon}<extra></extra>",
         "lat": [
          43.75427115
         ],
         "legendgroup": "Lansing-Westgate",
         "lon": [
          -79.42474772
         ],
         "marker": {
          "color": "#B6E880",
          "size": [
           613216.5
          ],
          "sizemode": "area",
          "sizeref": 3816.214375
         },
         "mode": "markers",
         "name": "Lansing-Westgate",
         "showlegend": true,
         "subplot": "mapbox",
         "type": "scattermapbox"
        },
        {
         "hovertemplate": "neighbourhood=Lawrence Park North<br>average_house_value=%{marker.size}<br>lat=%{lat}<br>lon=%{lon}<extra></extra>",
         "lat": [
          43.73006017
         ],
         "legendgroup": "Lawrence Park North",
         "lon": [
          -79.40397836
         ],
         "marker": {
          "color": "#FF97FF",
          "size": [
           759392.5
          ],
          "sizemode": "area",
          "sizeref": 3816.214375
         },
         "mode": "markers",
         "name": "Lawrence Park North",
         "showlegend": true,
         "subplot": "mapbox",
         "type": "scattermapbox"
        },
        {
         "hovertemplate": "neighbourhood=Lawrence Park South<br>average_house_value=%{marker.size}<br>lat=%{lat}<br>lon=%{lon}<extra></extra>",
         "lat": [
          43.7172117
         ],
         "legendgroup": "Lawrence Park South",
         "lon": [
          -79.40603941
         ],
         "marker": {
          "color": "#FECB52",
          "size": [
           1094027.75
          ],
          "sizemode": "area",
          "sizeref": 3816.214375
         },
         "mode": "markers",
         "name": "Lawrence Park South",
         "showlegend": true,
         "subplot": "mapbox",
         "type": "scattermapbox"
        },
        {
         "hovertemplate": "neighbourhood=Leaside-Bennington<br>average_house_value=%{marker.size}<br>lat=%{lat}<br>lon=%{lon}<extra></extra>",
         "lat": [
          43.70379663
         ],
         "legendgroup": "Leaside-Bennington",
         "lon": [
          -79.36607234
         ],
         "marker": {
          "color": "#636efa",
          "size": [
           806471.75
          ],
          "sizemode": "area",
          "sizeref": 3816.214375
         },
         "mode": "markers",
         "name": "Leaside-Bennington",
         "showlegend": true,
         "subplot": "mapbox",
         "type": "scattermapbox"
        },
        {
         "hovertemplate": "neighbourhood=Little Portugal<br>average_house_value=%{marker.size}<br>lat=%{lat}<br>lon=%{lon}<extra></extra>",
         "lat": [
          43.64753593
         ],
         "legendgroup": "Little Portugal",
         "lon": [
          -79.43032271
         ],
         "marker": {
          "color": "#EF553B",
          "size": [
           540192.5
          ],
          "sizemode": "area",
          "sizeref": 3816.214375
         },
         "mode": "markers",
         "name": "Little Portugal",
         "showlegend": true,
         "subplot": "mapbox",
         "type": "scattermapbox"
        },
        {
         "hovertemplate": "neighbourhood=Long Branch<br>average_house_value=%{marker.size}<br>lat=%{lat}<br>lon=%{lon}<extra></extra>",
         "lat": [
          43.59236169
         ],
         "legendgroup": "Long Branch",
         "lon": [
          -79.53334545
         ],
         "marker": {
          "color": "#00cc96",
          "size": [
           385830.25
          ],
          "sizemode": "area",
          "sizeref": 3816.214375
         },
         "mode": "markers",
         "name": "Long Branch",
         "showlegend": true,
         "subplot": "mapbox",
         "type": "scattermapbox"
        },
        {
         "hovertemplate": "neighbourhood=Malvern<br>average_house_value=%{marker.size}<br>lat=%{lat}<br>lon=%{lon}<extra></extra>",
         "lat": [
          43.8036582
         ],
         "legendgroup": "Malvern",
         "lon": [
          -79.22251662
         ],
         "marker": {
          "color": "#ab63fa",
          "size": [
           256880.25
          ],
          "sizemode": "area",
          "sizeref": 3816.214375
         },
         "mode": "markers",
         "name": "Malvern",
         "showlegend": true,
         "subplot": "mapbox",
         "type": "scattermapbox"
        },
        {
         "hovertemplate": "neighbourhood=Maple Leaf<br>average_house_value=%{marker.size}<br>lat=%{lat}<br>lon=%{lon}<extra></extra>",
         "lat": [
          43.71557394
         ],
         "legendgroup": "Maple Leaf",
         "lon": [
          -79.48075802
         ],
         "marker": {
          "color": "#FFA15A",
          "size": [
           453229
          ],
          "sizemode": "area",
          "sizeref": 3816.214375
         },
         "mode": "markers",
         "name": "Maple Leaf",
         "showlegend": true,
         "subplot": "mapbox",
         "type": "scattermapbox"
        },
        {
         "hovertemplate": "neighbourhood=Markland Wood<br>average_house_value=%{marker.size}<br>lat=%{lat}<br>lon=%{lon}<extra></extra>",
         "lat": [
          43.63354175
         ],
         "legendgroup": "Markland Wood",
         "lon": [
          -79.57343155
         ],
         "marker": {
          "color": "#19d3f3",
          "size": [
           443974.75
          ],
          "sizemode": "area",
          "sizeref": 3816.214375
         },
         "mode": "markers",
         "name": "Markland Wood",
         "showlegend": true,
         "subplot": "mapbox",
         "type": "scattermapbox"
        },
        {
         "hovertemplate": "neighbourhood=Milliken<br>average_house_value=%{marker.size}<br>lat=%{lat}<br>lon=%{lon}<extra></extra>",
         "lat": [
          43.82069079
         ],
         "legendgroup": "Milliken",
         "lon": [
          -79.27500892
         ],
         "marker": {
          "color": "#FF6692",
          "size": [
           344988.25
          ],
          "sizemode": "area",
          "sizeref": 3816.214375
         },
         "mode": "markers",
         "name": "Milliken",
         "showlegend": true,
         "subplot": "mapbox",
         "type": "scattermapbox"
        },
        {
         "hovertemplate": "neighbourhood=Mimico<br>average_house_value=%{marker.size}<br>lat=%{lat}<br>lon=%{lon}<extra></extra>",
         "lat": [
          43.61592386
         ],
         "legendgroup": "Mimico",
         "lon": [
          -79.50013664
         ],
         "marker": {
          "color": "#B6E880",
          "size": [
           393490.5
          ],
          "sizemode": "area",
          "sizeref": 3816.214375
         },
         "mode": "markers",
         "name": "Mimico",
         "showlegend": true,
         "subplot": "mapbox",
         "type": "scattermapbox"
        },
        {
         "hovertemplate": "neighbourhood=Morningside<br>average_house_value=%{marker.size}<br>lat=%{lat}<br>lon=%{lon}<extra></extra>",
         "lat": [
          43.78239861
         ],
         "legendgroup": "Morningside",
         "lon": [
          -79.20704119
         ],
         "marker": {
          "color": "#FF97FF",
          "size": [
           285013.5
          ],
          "sizemode": "area",
          "sizeref": 3816.214375
         },
         "mode": "markers",
         "name": "Morningside",
         "showlegend": true,
         "subplot": "mapbox",
         "type": "scattermapbox"
        },
        {
         "hovertemplate": "neighbourhood=Moss Park<br>average_house_value=%{marker.size}<br>lat=%{lat}<br>lon=%{lon}<extra></extra>",
         "lat": [
          43.65651762
         ],
         "legendgroup": "Moss Park",
         "lon": [
          -79.36729703
         ],
         "marker": {
          "color": "#FECB52",
          "size": [
           409456
          ],
          "sizemode": "area",
          "sizeref": 3816.214375
         },
         "mode": "markers",
         "name": "Moss Park",
         "showlegend": true,
         "subplot": "mapbox",
         "type": "scattermapbox"
        },
        {
         "hovertemplate": "neighbourhood=Mount Dennis<br>average_house_value=%{marker.size}<br>lat=%{lat}<br>lon=%{lon}<extra></extra>",
         "lat": [
          43.68814409
         ],
         "legendgroup": "Mount Dennis",
         "lon": [
          -79.49998906
         ],
         "marker": {
          "color": "#636efa",
          "size": [
           262308.75
          ],
          "sizemode": "area",
          "sizeref": 3816.214375
         },
         "mode": "markers",
         "name": "Mount Dennis",
         "showlegend": true,
         "subplot": "mapbox",
         "type": "scattermapbox"
        },
        {
         "hovertemplate": "neighbourhood=Mount Olive-Silverstone-Jamestown<br>average_house_value=%{marker.size}<br>lat=%{lat}<br>lon=%{lon}<extra></extra>",
         "lat": [
          43.7468678
         ],
         "legendgroup": "Mount Olive-Silverstone-Jamestown",
         "lon": [
          -79.58725926
         ],
         "marker": {
          "color": "#EF553B",
          "size": [
           253182.25
          ],
          "sizemode": "area",
          "sizeref": 3816.214375
         },
         "mode": "markers",
         "name": "Mount Olive-Silverstone-Jamestown",
         "showlegend": true,
         "subplot": "mapbox",
         "type": "scattermapbox"
        },
        {
         "hovertemplate": "neighbourhood=Mount Pleasant East<br>average_house_value=%{marker.size}<br>lat=%{lat}<br>lon=%{lon}<extra></extra>",
         "lat": [
          43.70485217
         ],
         "legendgroup": "Mount Pleasant East",
         "lon": [
          -79.38492395
         ],
         "marker": {
          "color": "#00cc96",
          "size": [
           677370.25
          ],
          "sizemode": "area",
          "sizeref": 3816.214375
         },
         "mode": "markers",
         "name": "Mount Pleasant East",
         "showlegend": true,
         "subplot": "mapbox",
         "type": "scattermapbox"
        },
        {
         "hovertemplate": "neighbourhood=Mount Pleasant West<br>average_house_value=%{marker.size}<br>lat=%{lat}<br>lon=%{lon}<extra></extra>",
         "lat": [
          43.70443517
         ],
         "legendgroup": "Mount Pleasant West",
         "lon": [
          -79.39335955
         ],
         "marker": {
          "color": "#ab63fa",
          "size": [
           468181.75
          ],
          "sizemode": "area",
          "sizeref": 3816.214375
         },
         "mode": "markers",
         "name": "Mount Pleasant West",
         "showlegend": true,
         "subplot": "mapbox",
         "type": "scattermapbox"
        },
        {
         "hovertemplate": "neighbourhood=New Toronto<br>average_house_value=%{marker.size}<br>lat=%{lat}<br>lon=%{lon}<extra></extra>",
         "lat": [
          43.6005886
         ],
         "legendgroup": "New Toronto",
         "lon": [
          -79.51035809
         ],
         "marker": {
          "color": "#FFA15A",
          "size": [
           407812
          ],
          "sizemode": "area",
          "sizeref": 3816.214375
         },
         "mode": "markers",
         "name": "New Toronto",
         "showlegend": true,
         "subplot": "mapbox",
         "type": "scattermapbox"
        },
        {
         "hovertemplate": "neighbourhood=Newtonbrook East<br>average_house_value=%{marker.size}<br>lat=%{lat}<br>lon=%{lon}<extra></extra>",
         "lat": [
          43.79153579
         ],
         "legendgroup": "Newtonbrook East",
         "lon": [
          -79.40593745
         ],
         "marker": {
          "color": "#19d3f3",
          "size": [
           559573.25
          ],
          "sizemode": "area",
          "sizeref": 3816.214375
         },
         "mode": "markers",
         "name": "Newtonbrook East",
         "showlegend": true,
         "subplot": "mapbox",
         "type": "scattermapbox"
        },
        {
         "hovertemplate": "neighbourhood=Newtonbrook West<br>average_house_value=%{marker.size}<br>lat=%{lat}<br>lon=%{lon}<extra></extra>",
         "lat": [
          43.78582994
         ],
         "legendgroup": "Newtonbrook West",
         "lon": [
          -79.43142151
         ],
         "marker": {
          "color": "#FF6692",
          "size": [
           460568.5
          ],
          "sizemode": "area",
          "sizeref": 3816.214375
         },
         "mode": "markers",
         "name": "Newtonbrook West",
         "showlegend": true,
         "subplot": "mapbox",
         "type": "scattermapbox"
        },
        {
         "hovertemplate": "neighbourhood=Niagara<br>average_house_value=%{marker.size}<br>lat=%{lat}<br>lon=%{lon}<extra></extra>",
         "lat": [
          43.63668088
         ],
         "legendgroup": "Niagara",
         "lon": [
          -79.4124204
         ],
         "marker": {
          "color": "#B6E880",
          "size": [
           369993
          ],
          "sizemode": "area",
          "sizeref": 3816.214375
         },
         "mode": "markers",
         "name": "Niagara",
         "showlegend": true,
         "subplot": "mapbox",
         "type": "scattermapbox"
        },
        {
         "hovertemplate": "neighbourhood=North Riverdale<br>average_house_value=%{marker.size}<br>lat=%{lat}<br>lon=%{lon}<extra></extra>",
         "lat": [
          43.67199515
         ],
         "legendgroup": "North Riverdale",
         "lon": [
          -79.35126041
         ],
         "marker": {
          "color": "#FF97FF",
          "size": [
           703063.25
          ],
          "sizemode": "area",
          "sizeref": 3816.214375
         },
         "mode": "markers",
         "name": "North Riverdale",
         "showlegend": true,
         "subplot": "mapbox",
         "type": "scattermapbox"
        },
        {
         "hovertemplate": "neighbourhood=North St.James Town<br>average_house_value=%{marker.size}<br>lat=%{lat}<br>lon=%{lon}<extra></extra>",
         "lat": [
          43.66962341
         ],
         "legendgroup": "North St.James Town",
         "lon": [
          -79.37524658
         ],
         "marker": {
          "color": "#FECB52",
          "size": [
           411455.75
          ],
          "sizemode": "area",
          "sizeref": 3816.214375
         },
         "mode": "markers",
         "name": "North St.James Town",
         "showlegend": true,
         "subplot": "mapbox",
         "type": "scattermapbox"
        },
        {
         "hovertemplate": "neighbourhood=O'Connor-Parkview<br>average_house_value=%{marker.size}<br>lat=%{lat}<br>lon=%{lon}<extra></extra>",
         "lat": [
          43.70680049
         ],
         "legendgroup": "O'Connor-Parkview",
         "lon": [
          -79.31222777
         ],
         "marker": {
          "color": "#636efa",
          "size": [
           298315.75
          ],
          "sizemode": "area",
          "sizeref": 3816.214375
         },
         "mode": "markers",
         "name": "O'Connor-Parkview",
         "showlegend": true,
         "subplot": "mapbox",
         "type": "scattermapbox"
        },
        {
         "hovertemplate": "neighbourhood=Oakridge<br>average_house_value=%{marker.size}<br>lat=%{lat}<br>lon=%{lon}<extra></extra>",
         "lat": [
          43.69740813
         ],
         "legendgroup": "Oakridge",
         "lon": [
          -79.27970834
         ],
         "marker": {
          "color": "#EF553B",
          "size": [
           422257.5
          ],
          "sizemode": "area",
          "sizeref": 3816.214375
         },
         "mode": "markers",
         "name": "Oakridge",
         "showlegend": true,
         "subplot": "mapbox",
         "type": "scattermapbox"
        },
        {
         "hovertemplate": "neighbourhood=Oakwood Village<br>average_house_value=%{marker.size}<br>lat=%{lat}<br>lon=%{lon}<extra></extra>",
         "lat": [
          43.68856556
         ],
         "legendgroup": "Oakwood Village",
         "lon": [
          -79.43978548
         ],
         "marker": {
          "color": "#00cc96",
          "size": [
           441202.75
          ],
          "sizemode": "area",
          "sizeref": 3816.214375
         },
         "mode": "markers",
         "name": "Oakwood Village",
         "showlegend": true,
         "subplot": "mapbox",
         "type": "scattermapbox"
        },
        {
         "hovertemplate": "neighbourhood=Old East York<br>average_house_value=%{marker.size}<br>lat=%{lat}<br>lon=%{lon}<extra></extra>",
         "lat": [
          43.69678127
         ],
         "legendgroup": "Old East York",
         "lon": [
          -79.33548836
         ],
         "marker": {
          "color": "#ab63fa",
          "size": [
           443413.5
          ],
          "sizemode": "area",
          "sizeref": 3816.214375
         },
         "mode": "markers",
         "name": "Old East York",
         "showlegend": true,
         "subplot": "mapbox",
         "type": "scattermapbox"
        },
        {
         "hovertemplate": "neighbourhood=Palmerston-Little Italy<br>average_house_value=%{marker.size}<br>lat=%{lat}<br>lon=%{lon}<extra></extra>",
         "lat": [
          43.6591571
         ],
         "legendgroup": "Palmerston-Little Italy",
         "lon": [
          -79.41840873
         ],
         "marker": {
          "color": "#FFA15A",
          "size": [
           622191.75
          ],
          "sizemode": "area",
          "sizeref": 3816.214375
         },
         "mode": "markers",
         "name": "Palmerston-Little Italy",
         "showlegend": true,
         "subplot": "mapbox",
         "type": "scattermapbox"
        },
        {
         "hovertemplate": "neighbourhood=Parkwoods-Donalda<br>average_house_value=%{marker.size}<br>lat=%{lat}<br>lon=%{lon}<extra></extra>",
         "lat": [
          43.75503347
         ],
         "legendgroup": "Parkwoods-Donalda",
         "lon": [
          -79.33017952
         ],
         "marker": {
          "color": "#19d3f3",
          "size": [
           454652.5
          ],
          "sizemode": "area",
          "sizeref": 3816.214375
         },
         "mode": "markers",
         "name": "Parkwoods-Donalda",
         "showlegend": true,
         "subplot": "mapbox",
         "type": "scattermapbox"
        },
        {
         "hovertemplate": "neighbourhood=Pelmo Park-Humberlea<br>average_house_value=%{marker.size}<br>lat=%{lat}<br>lon=%{lon}<extra></extra>",
         "lat": [
          43.7175146
         ],
         "legendgroup": "Pelmo Park-Humberlea",
         "lon": [
          -79.5282822
         ],
         "marker": {
          "color": "#FF6692",
          "size": [
           405431.25
          ],
          "sizemode": "area",
          "sizeref": 3816.214375
         },
         "mode": "markers",
         "name": "Pelmo Park-Humberlea",
         "showlegend": true,
         "subplot": "mapbox",
         "type": "scattermapbox"
        },
        {
         "hovertemplate": "neighbourhood=Playter Estates-Danforth<br>average_house_value=%{marker.size}<br>lat=%{lat}<br>lon=%{lon}<extra></extra>",
         "lat": [
          43.67970047
         ],
         "legendgroup": "Playter Estates-Danforth",
         "lon": [
          -79.35488729
         ],
         "marker": {
          "color": "#B6E880",
          "size": [
           648859.25
          ],
          "sizemode": "area",
          "sizeref": 3816.214375
         },
         "mode": "markers",
         "name": "Playter Estates-Danforth",
         "showlegend": true,
         "subplot": "mapbox",
         "type": "scattermapbox"
        },
        {
         "hovertemplate": "neighbourhood=Pleasant View<br>average_house_value=%{marker.size}<br>lat=%{lat}<br>lon=%{lon}<extra></extra>",
         "lat": [
          43.78698176
         ],
         "legendgroup": "Pleasant View",
         "lon": [
          -79.33494843
         ],
         "marker": {
          "color": "#FF97FF",
          "size": [
           373375.25
          ],
          "sizemode": "area",
          "sizeref": 3816.214375
         },
         "mode": "markers",
         "name": "Pleasant View",
         "showlegend": true,
         "subplot": "mapbox",
         "type": "scattermapbox"
        },
        {
         "hovertemplate": "neighbourhood=Princess-Rosethorn<br>average_house_value=%{marker.size}<br>lat=%{lat}<br>lon=%{lon}<extra></extra>",
         "lat": [
          43.6660506
         ],
         "legendgroup": "Princess-Rosethorn",
         "lon": [
          -79.54455929
         ],
         "marker": {
          "color": "#FECB52",
          "size": [
           765746.5
          ],
          "sizemode": "area",
          "sizeref": 3816.214375
         },
         "mode": "markers",
         "name": "Princess-Rosethorn",
         "showlegend": true,
         "subplot": "mapbox",
         "type": "scattermapbox"
        },
        {
         "hovertemplate": "neighbourhood=Regent Park<br>average_house_value=%{marker.size}<br>lat=%{lat}<br>lon=%{lon}<extra></extra>",
         "lat": [
          43.65999214
         ],
         "legendgroup": "Regent Park",
         "lon": [
          -79.36050881
         ],
         "marker": {
          "color": "#636efa",
          "size": [
           392578.25
          ],
          "sizemode": "area",
          "sizeref": 3816.214375
         },
         "mode": "markers",
         "name": "Regent Park",
         "showlegend": true,
         "subplot": "mapbox",
         "type": "scattermapbox"
        },
        {
         "hovertemplate": "neighbourhood=Rexdale-Kipling<br>average_house_value=%{marker.size}<br>lat=%{lat}<br>lon=%{lon}<extra></extra>",
         "lat": [
          43.72372548
         ],
         "legendgroup": "Rexdale-Kipling",
         "lon": [
          -79.56622841
         ],
         "marker": {
          "color": "#EF553B",
          "size": [
           360999.25
          ],
          "sizemode": "area",
          "sizeref": 3816.214375
         },
         "mode": "markers",
         "name": "Rexdale-Kipling",
         "showlegend": true,
         "subplot": "mapbox",
         "type": "scattermapbox"
        },
        {
         "hovertemplate": "neighbourhood=Rockcliffe-Smythe<br>average_house_value=%{marker.size}<br>lat=%{lat}<br>lon=%{lon}<extra></extra>",
         "lat": [
          43.67479045
         ],
         "legendgroup": "Rockcliffe-Smythe",
         "lon": [
          -79.49442045
         ],
         "marker": {
          "color": "#00cc96",
          "size": [
           345660.25
          ],
          "sizemode": "area",
          "sizeref": 3816.214375
         },
         "mode": "markers",
         "name": "Rockcliffe-Smythe",
         "showlegend": true,
         "subplot": "mapbox",
         "type": "scattermapbox"
        },
        {
         "hovertemplate": "neighbourhood=Roncesvalles<br>average_house_value=%{marker.size}<br>lat=%{lat}<br>lon=%{lon}<extra></extra>",
         "lat": [
          43.64612299
         ],
         "legendgroup": "Roncesvalles",
         "lon": [
          -79.44299245
         ],
         "marker": {
          "color": "#ab63fa",
          "size": [
           508937.25
          ],
          "sizemode": "area",
          "sizeref": 3816.214375
         },
         "mode": "markers",
         "name": "Roncesvalles",
         "showlegend": true,
         "subplot": "mapbox",
         "type": "scattermapbox"
        },
        {
         "hovertemplate": "neighbourhood=Rosedale-Moore Park<br>average_house_value=%{marker.size}<br>lat=%{lat}<br>lon=%{lon}<extra></extra>",
         "lat": [
          43.68282043
         ],
         "legendgroup": "Rosedale-Moore Park",
         "lon": [
          -79.3796694
         ],
         "marker": {
          "color": "#FFA15A",
          "size": [
           1093640
          ],
          "sizemode": "area",
          "sizeref": 3816.214375
         },
         "mode": "markers",
         "name": "Rosedale-Moore Park",
         "showlegend": true,
         "subplot": "mapbox",
         "type": "scattermapbox"
        },
        {
         "hovertemplate": "neighbourhood=Rouge<br>average_house_value=%{marker.size}<br>lat=%{lat}<br>lon=%{lon}<extra></extra>",
         "lat": [
          43.82120126
         ],
         "legendgroup": "Rouge",
         "lon": [
          -79.18634345
         ],
         "marker": {
          "color": "#19d3f3",
          "size": [
           376286.75
          ],
          "sizemode": "area",
          "sizeref": 3816.214375
         },
         "mode": "markers",
         "name": "Rouge",
         "showlegend": true,
         "subplot": "mapbox",
         "type": "scattermapbox"
        },
        {
         "hovertemplate": "neighbourhood=Runnymede-Bloor West Village<br>average_house_value=%{marker.size}<br>lat=%{lat}<br>lon=%{lon}<extra></extra>",
         "lat": [
          43.65926882
         ],
         "legendgroup": "Runnymede-Bloor West Village",
         "lon": [
          -79.48570818
         ],
         "marker": {
          "color": "#FF6692",
          "size": [
           552082
          ],
          "sizemode": "area",
          "sizeref": 3816.214375
         },
         "mode": "markers",
         "name": "Runnymede-Bloor West Village",
         "showlegend": true,
         "subplot": "mapbox",
         "type": "scattermapbox"
        },
        {
         "hovertemplate": "neighbourhood=Rustic<br>average_house_value=%{marker.size}<br>lat=%{lat}<br>lon=%{lon}<extra></extra>",
         "lat": [
          43.71160912
         ],
         "legendgroup": "Rustic",
         "lon": [
          -79.49809147
         ],
         "marker": {
          "color": "#B6E880",
          "size": [
           431090.5
          ],
          "sizemode": "area",
          "sizeref": 3816.214375
         },
         "mode": "markers",
         "name": "Rustic",
         "showlegend": true,
         "subplot": "mapbox",
         "type": "scattermapbox"
        },
        {
         "hovertemplate": "neighbourhood=Scarborough Village<br>average_house_value=%{marker.size}<br>lat=%{lat}<br>lon=%{lon}<extra></extra>",
         "lat": [
          43.73865186
         ],
         "legendgroup": "Scarborough Village",
         "lon": [
          -79.21681262
         ],
         "marker": {
          "color": "#FF97FF",
          "size": [
           329835.75
          ],
          "sizemode": "area",
          "sizeref": 3816.214375
         },
         "mode": "markers",
         "name": "Scarborough Village",
         "showlegend": true,
         "subplot": "mapbox",
         "type": "scattermapbox"
        },
        {
         "hovertemplate": "neighbourhood=South Parkdale<br>average_house_value=%{marker.size}<br>lat=%{lat}<br>lon=%{lon}<extra></extra>",
         "lat": [
          43.63669952
         ],
         "legendgroup": "South Parkdale",
         "lon": [
          -79.43933783
         ],
         "marker": {
          "color": "#FECB52",
          "size": [
           447478.5
          ],
          "sizemode": "area",
          "sizeref": 3816.214375
         },
         "mode": "markers",
         "name": "South Parkdale",
         "showlegend": true,
         "subplot": "mapbox",
         "type": "scattermapbox"
        },
        {
         "hovertemplate": "neighbourhood=South Riverdale<br>average_house_value=%{marker.size}<br>lat=%{lat}<br>lon=%{lon}<extra></extra>",
         "lat": [
          43.64929206
         ],
         "legendgroup": "South Riverdale",
         "lon": [
          -79.33565132
         ],
         "marker": {
          "color": "#636efa",
          "size": [
           455020.5
          ],
          "sizemode": "area",
          "sizeref": 3816.214375
         },
         "mode": "markers",
         "name": "South Riverdale",
         "showlegend": true,
         "subplot": "mapbox",
         "type": "scattermapbox"
        },
        {
         "hovertemplate": "neighbourhood=St.Andrew-Windfields<br>average_house_value=%{marker.size}<br>lat=%{lat}<br>lon=%{lon}<extra></extra>",
         "lat": [
          43.75624583
         ],
         "legendgroup": "St.Andrew-Windfields",
         "lon": [
          -79.37903709
         ],
         "marker": {
          "color": "#EF553B",
          "size": [
           999107
          ],
          "sizemode": "area",
          "sizeref": 3816.214375
         },
         "mode": "markers",
         "name": "St.Andrew-Windfields",
         "showlegend": true,
         "subplot": "mapbox",
         "type": "scattermapbox"
        },
        {
         "hovertemplate": "neighbourhood=Steeles<br>average_house_value=%{marker.size}<br>lat=%{lat}<br>lon=%{lon}<extra></extra>",
         "lat": [
          43.81295883
         ],
         "legendgroup": "Steeles",
         "lon": [
          -79.32120701
         ],
         "marker": {
          "color": "#00cc96",
          "size": [
           376014.5
          ],
          "sizemode": "area",
          "sizeref": 3816.214375
         },
         "mode": "markers",
         "name": "Steeles",
         "showlegend": true,
         "subplot": "mapbox",
         "type": "scattermapbox"
        },
        {
         "hovertemplate": "neighbourhood=Stonegate-Queensway<br>average_house_value=%{marker.size}<br>lat=%{lat}<br>lon=%{lon}<extra></extra>",
         "lat": [
          43.63551813
         ],
         "legendgroup": "Stonegate-Queensway",
         "lon": [
          -79.50112821
         ],
         "marker": {
          "color": "#ab63fa",
          "size": [
           550432.25
          ],
          "sizemode": "area",
          "sizeref": 3816.214375
         },
         "mode": "markers",
         "name": "Stonegate-Queensway",
         "showlegend": true,
         "subplot": "mapbox",
         "type": "scattermapbox"
        },
        {
         "hovertemplate": "neighbourhood=Tam O'Shanter-Sullivan<br>average_house_value=%{marker.size}<br>lat=%{lat}<br>lon=%{lon}<extra></extra>",
         "lat": [
          43.78012985
         ],
         "legendgroup": "Tam O'Shanter-Sullivan",
         "lon": [
          -79.30291871
         ],
         "marker": {
          "color": "#FFA15A",
          "size": [
           353926.5
          ],
          "sizemode": "area",
          "sizeref": 3816.214375
         },
         "mode": "markers",
         "name": "Tam O'Shanter-Sullivan",
         "showlegend": true,
         "subplot": "mapbox",
         "type": "scattermapbox"
        },
        {
         "hovertemplate": "neighbourhood=Taylor-Massey<br>average_house_value=%{marker.size}<br>lat=%{lat}<br>lon=%{lon}<extra></extra>",
         "lat": [
          43.69499819
         ],
         "legendgroup": "Taylor-Massey",
         "lon": [
          -79.29590112
         ],
         "marker": {
          "color": "#19d3f3",
          "size": [
           239414
          ],
          "sizemode": "area",
          "sizeref": 3816.214375
         },
         "mode": "markers",
         "name": "Taylor-Massey",
         "showlegend": true,
         "subplot": "mapbox",
         "type": "scattermapbox"
        },
        {
         "hovertemplate": "neighbourhood=The Beaches<br>average_house_value=%{marker.size}<br>lat=%{lat}<br>lon=%{lon}<extra></extra>",
         "lat": [
          43.67104999
         ],
         "legendgroup": "The Beaches",
         "lon": [
          -79.2996013
         ],
         "marker": {
          "color": "#FF6692",
          "size": [
           666306
          ],
          "sizemode": "area",
          "sizeref": 3816.214375
         },
         "mode": "markers",
         "name": "The Beaches",
         "showlegend": true,
         "subplot": "mapbox",
         "type": "scattermapbox"
        },
        {
         "hovertemplate": "neighbourhood=Thistletown-Beaumond Heights<br>average_house_value=%{marker.size}<br>lat=%{lat}<br>lon=%{lon}<extra></extra>",
         "lat": [
          43.73798792
         ],
         "legendgroup": "Thistletown-Beaumond Heights",
         "lon": [
          -79.56349102
         ],
         "marker": {
          "color": "#B6E880",
          "size": [
           375864
          ],
          "sizemode": "area",
          "sizeref": 3816.214375
         },
         "mode": "markers",
         "name": "Thistletown-Beaumond Heights",
         "showlegend": true,
         "subplot": "mapbox",
         "type": "scattermapbox"
        },
        {
         "hovertemplate": "neighbourhood=Thorncliffe Park<br>average_house_value=%{marker.size}<br>lat=%{lat}<br>lon=%{lon}<extra></extra>",
         "lat": [
          43.70774921
         ],
         "legendgroup": "Thorncliffe Park",
         "lon": [
          -79.34998361
         ],
         "marker": {
          "color": "#FF97FF",
          "size": [
           255264.75
          ],
          "sizemode": "area",
          "sizeref": 3816.214375
         },
         "mode": "markers",
         "name": "Thorncliffe Park",
         "showlegend": true,
         "subplot": "mapbox",
         "type": "scattermapbox"
        },
        {
         "hovertemplate": "neighbourhood=Trinity-Bellwoods<br>average_house_value=%{marker.size}<br>lat=%{lat}<br>lon=%{lon}<extra></extra>",
         "lat": [
          43.6501763
         ],
         "legendgroup": "Trinity-Bellwoods",
         "lon": [
          -79.41534216
         ],
         "marker": {
          "color": "#FECB52",
          "size": [
           534465.75
          ],
          "sizemode": "area",
          "sizeref": 3816.214375
         },
         "mode": "markers",
         "name": "Trinity-Bellwoods",
         "showlegend": true,
         "subplot": "mapbox",
         "type": "scattermapbox"
        },
        {
         "hovertemplate": "neighbourhood=University<br>average_house_value=%{marker.size}<br>lat=%{lat}<br>lon=%{lon}<extra></extra>",
         "lat": [
          43.6625062
         ],
         "legendgroup": "University",
         "lon": [
          -79.40117975
         ],
         "marker": {
          "color": "#636efa",
          "size": [
           618316.75
          ],
          "sizemode": "area",
          "sizeref": 3816.214375
         },
         "mode": "markers",
         "name": "University",
         "showlegend": true,
         "subplot": "mapbox",
         "type": "scattermapbox"
        },
        {
         "hovertemplate": "neighbourhood=Victoria Village<br>average_house_value=%{marker.size}<br>lat=%{lat}<br>lon=%{lon}<extra></extra>",
         "lat": [
          43.72848902
         ],
         "legendgroup": "Victoria Village",
         "lon": [
          -79.31487383
         ],
         "marker": {
          "color": "#EF553B",
          "size": [
           352133
          ],
          "sizemode": "area",
          "sizeref": 3816.214375
         },
         "mode": "markers",
         "name": "Victoria Village",
         "showlegend": true,
         "subplot": "mapbox",
         "type": "scattermapbox"
        },
        {
         "hovertemplate": "neighbourhood=Waterfront Communities-The Island<br>average_house_value=%{marker.size}<br>lat=%{lat}<br>lon=%{lon}<extra></extra>",
         "lat": [
          43.63388036
         ],
         "legendgroup": "Waterfront Communities-The Island",
         "lon": [
          -79.37720231
         ],
         "marker": {
          "color": "#00cc96",
          "size": [
           376863
          ],
          "sizemode": "area",
          "sizeref": 3816.214375
         },
         "mode": "markers",
         "name": "Waterfront Communities-The Island",
         "showlegend": true,
         "subplot": "mapbox",
         "type": "scattermapbox"
        },
        {
         "hovertemplate": "neighbourhood=West Hill<br>average_house_value=%{marker.size}<br>lat=%{lat}<br>lon=%{lon}<extra></extra>",
         "lat": [
          43.76749026
         ],
         "legendgroup": "West Hill",
         "lon": [
          -79.17667603
         ],
         "marker": {
          "color": "#ab63fa",
          "size": [
           284647.5
          ],
          "sizemode": "area",
          "sizeref": 3816.214375
         },
         "mode": "markers",
         "name": "West Hill",
         "showlegend": true,
         "subplot": "mapbox",
         "type": "scattermapbox"
        },
        {
         "hovertemplate": "neighbourhood=West Humber-Clairville<br>average_house_value=%{marker.size}<br>lat=%{lat}<br>lon=%{lon}<extra></extra>",
         "lat": [
          43.7161804
         ],
         "legendgroup": "West Humber-Clairville",
         "lon": [
          -79.59635645
         ],
         "marker": {
          "color": "#FFA15A",
          "size": [
           343254.25
          ],
          "sizemode": "area",
          "sizeref": 3816.214375
         },
         "mode": "markers",
         "name": "West Humber-Clairville",
         "showlegend": true,
         "subplot": "mapbox",
         "type": "scattermapbox"
        },
        {
         "hovertemplate": "neighbourhood=Westminster-Branson<br>average_house_value=%{marker.size}<br>lat=%{lat}<br>lon=%{lon}<extra></extra>",
         "lat": [
          43.77881322
         ],
         "legendgroup": "Westminster-Branson",
         "lon": [
          -79.45241823
         ],
         "marker": {
          "color": "#19d3f3",
          "size": [
           349320.25
          ],
          "sizemode": "area",
          "sizeref": 3816.214375
         },
         "mode": "markers",
         "name": "Westminster-Branson",
         "showlegend": true,
         "subplot": "mapbox",
         "type": "scattermapbox"
        },
        {
         "hovertemplate": "neighbourhood=Weston<br>average_house_value=%{marker.size}<br>lat=%{lat}<br>lon=%{lon}<extra></extra>",
         "lat": [
          43.70271605
         ],
         "legendgroup": "Weston",
         "lon": [
          -79.51572255
         ],
         "marker": {
          "color": "#FF6692",
          "size": [
           308007.75
          ],
          "sizemode": "area",
          "sizeref": 3816.214375
         },
         "mode": "markers",
         "name": "Weston",
         "showlegend": true,
         "subplot": "mapbox",
         "type": "scattermapbox"
        },
        {
         "hovertemplate": "neighbourhood=Weston-Pellam Park<br>average_house_value=%{marker.size}<br>lat=%{lat}<br>lon=%{lon}<extra></extra>",
         "lat": [
          43.67396204
         ],
         "legendgroup": "Weston-Pellam Park",
         "lon": [
          -79.46024391
         ],
         "marker": {
          "color": "#B6E880",
          "size": [
           351802
          ],
          "sizemode": "area",
          "sizeref": 3816.214375
         },
         "mode": "markers",
         "name": "Weston-Pellam Park",
         "showlegend": true,
         "subplot": "mapbox",
         "type": "scattermapbox"
        },
        {
         "hovertemplate": "neighbourhood=Wexford/Maryvale<br>average_house_value=%{marker.size}<br>lat=%{lat}<br>lon=%{lon}<extra></extra>",
         "lat": [
          43.74857214
         ],
         "legendgroup": "Wexford/Maryvale",
         "lon": [
          -79.29863657
         ],
         "marker": {
          "color": "#FF97FF",
          "size": [
           348319.25
          ],
          "sizemode": "area",
          "sizeref": 3816.214375
         },
         "mode": "markers",
         "name": "Wexford/Maryvale",
         "showlegend": true,
         "subplot": "mapbox",
         "type": "scattermapbox"
        },
        {
         "hovertemplate": "neighbourhood=Willowdale East<br>average_house_value=%{marker.size}<br>lat=%{lat}<br>lon=%{lon}<extra></extra>",
         "lat": [
          43.77060226
         ],
         "legendgroup": "Willowdale East",
         "lon": [
          -79.40148379
         ],
         "marker": {
          "color": "#FECB52",
          "size": [
           469045.5
          ],
          "sizemode": "area",
          "sizeref": 3816.214375
         },
         "mode": "markers",
         "name": "Willowdale East",
         "showlegend": true,
         "subplot": "mapbox",
         "type": "scattermapbox"
        },
        {
         "hovertemplate": "neighbourhood=Willowdale West<br>average_house_value=%{marker.size}<br>lat=%{lat}<br>lon=%{lon}<extra></extra>",
         "lat": [
          43.77121049
         ],
         "legendgroup": "Willowdale West",
         "lon": [
          -79.4275578
         ],
         "marker": {
          "color": "#636efa",
          "size": [
           466134.75
          ],
          "sizemode": "area",
          "sizeref": 3816.214375
         },
         "mode": "markers",
         "name": "Willowdale West",
         "showlegend": true,
         "subplot": "mapbox",
         "type": "scattermapbox"
        },
        {
         "hovertemplate": "neighbourhood=Willowridge-Martingrove-Richview<br>average_house_value=%{marker.size}<br>lat=%{lat}<br>lon=%{lon}<extra></extra>",
         "lat": [
          43.68364496
         ],
         "legendgroup": "Willowridge-Martingrove-Richview",
         "lon": [
          -79.55422105
         ],
         "marker": {
          "color": "#EF553B",
          "size": [
           464278
          ],
          "sizemode": "area",
          "sizeref": 3816.214375
         },
         "mode": "markers",
         "name": "Willowridge-Martingrove-Richview",
         "showlegend": true,
         "subplot": "mapbox",
         "type": "scattermapbox"
        },
        {
         "hovertemplate": "neighbourhood=Woburn<br>average_house_value=%{marker.size}<br>lat=%{lat}<br>lon=%{lon}<extra></extra>",
         "lat": [
          43.76674024
         ],
         "legendgroup": "Woburn",
         "lon": [
          -79.22858577
         ],
         "marker": {
          "color": "#00cc96",
          "size": [
           298505.75
          ],
          "sizemode": "area",
          "sizeref": 3816.214375
         },
         "mode": "markers",
         "name": "Woburn",
         "showlegend": true,
         "subplot": "mapbox",
         "type": "scattermapbox"
        },
        {
         "hovertemplate": "neighbourhood=Woodbine Corridor<br>average_house_value=%{marker.size}<br>lat=%{lat}<br>lon=%{lon}<extra></extra>",
         "lat": [
          43.67677292
         ],
         "legendgroup": "Woodbine Corridor",
         "lon": [
          -79.31540738
         ],
         "marker": {
          "color": "#ab63fa",
          "size": [
           445382.75
          ],
          "sizemode": "area",
          "sizeref": 3816.214375
         },
         "mode": "markers",
         "name": "Woodbine Corridor",
         "showlegend": true,
         "subplot": "mapbox",
         "type": "scattermapbox"
        },
        {
         "hovertemplate": "neighbourhood=Woodbine-Lumsden<br>average_house_value=%{marker.size}<br>lat=%{lat}<br>lon=%{lon}<extra></extra>",
         "lat": [
          43.69410674
         ],
         "legendgroup": "Woodbine-Lumsden",
         "lon": [
          -79.31116353
         ],
         "marker": {
          "color": "#FFA15A",
          "size": [
           369918.5
          ],
          "sizemode": "area",
          "sizeref": 3816.214375
         },
         "mode": "markers",
         "name": "Woodbine-Lumsden",
         "showlegend": true,
         "subplot": "mapbox",
         "type": "scattermapbox"
        },
        {
         "hovertemplate": "neighbourhood=Wychwood<br>average_house_value=%{marker.size}<br>lat=%{lat}<br>lon=%{lon}<extra></extra>",
         "lat": [
          43.67691927
         ],
         "legendgroup": "Wychwood",
         "lon": [
          -79.42551495
         ],
         "marker": {
          "color": "#19d3f3",
          "size": [
           565976.5
          ],
          "sizemode": "area",
          "sizeref": 3816.214375
         },
         "mode": "markers",
         "name": "Wychwood",
         "showlegend": true,
         "subplot": "mapbox",
         "type": "scattermapbox"
        },
        {
         "hovertemplate": "neighbourhood=Yonge-Eglinton<br>average_house_value=%{marker.size}<br>lat=%{lat}<br>lon=%{lon}<extra></extra>",
         "lat": [
          43.70468937
         ],
         "legendgroup": "Yonge-Eglinton",
         "lon": [
          -79.40359017
         ],
         "marker": {
          "color": "#FF6692",
          "size": [
           809745.75
          ],
          "sizemode": "area",
          "sizeref": 3816.214375
         },
         "mode": "markers",
         "name": "Yonge-Eglinton",
         "showlegend": true,
         "subplot": "mapbox",
         "type": "scattermapbox"
        },
        {
         "hovertemplate": "neighbourhood=Yonge-St.Clair<br>average_house_value=%{marker.size}<br>lat=%{lat}<br>lon=%{lon}<extra></extra>",
         "lat": [
          43.68785887
         ],
         "legendgroup": "Yonge-St.Clair",
         "lon": [
          -79.39787077
         ],
         "marker": {
          "color": "#B6E880",
          "size": [
           813220.25
          ],
          "sizemode": "area",
          "sizeref": 3816.214375
         },
         "mode": "markers",
         "name": "Yonge-St.Clair",
         "showlegend": true,
         "subplot": "mapbox",
         "type": "scattermapbox"
        },
        {
         "hovertemplate": "neighbourhood=York University Heights<br>average_house_value=%{marker.size}<br>lat=%{lat}<br>lon=%{lon}<extra></extra>",
         "lat": [
          43.76573649
         ],
         "legendgroup": "York University Heights",
         "lon": [
          -79.48888293
         ],
         "marker": {
          "color": "#FF97FF",
          "size": [
           305899.5
          ],
          "sizemode": "area",
          "sizeref": 3816.214375
         },
         "mode": "markers",
         "name": "York University Heights",
         "showlegend": true,
         "subplot": "mapbox",
         "type": "scattermapbox"
        },
        {
         "hovertemplate": "neighbourhood=Yorkdale-Glen Park<br>average_house_value=%{marker.size}<br>lat=%{lat}<br>lon=%{lon}<extra></extra>",
         "lat": [
          43.71467153
         ],
         "legendgroup": "Yorkdale-Glen Park",
         "lon": [
          -79.45710807
         ],
         "marker": {
          "color": "#FECB52",
          "size": [
           430861.25
          ],
          "sizemode": "area",
          "sizeref": 3816.214375
         },
         "mode": "markers",
         "name": "Yorkdale-Glen Park",
         "showlegend": true,
         "subplot": "mapbox",
         "type": "scattermapbox"
        }
       ],
       "layout": {
        "legend": {
         "itemsizing": "constant",
         "title": {
          "text": "neighbourhood"
         },
         "tracegroupgap": 0
        },
        "mapbox": {
         "center": {
          "lat": 43.708840577642846,
          "lon": -79.4001855035
         },
         "domain": {
          "x": [
           0,
           1
          ],
          "y": [
           0,
           1
          ]
         },
         "zoom": 8
        },
        "template": {
         "data": {
          "bar": [
           {
            "error_x": {
             "color": "#2a3f5f"
            },
            "error_y": {
             "color": "#2a3f5f"
            },
            "marker": {
             "line": {
              "color": "#E5ECF6",
              "width": 0.5
             }
            },
            "type": "bar"
           }
          ],
          "barpolar": [
           {
            "marker": {
             "line": {
              "color": "#E5ECF6",
              "width": 0.5
             }
            },
            "type": "barpolar"
           }
          ],
          "carpet": [
           {
            "aaxis": {
             "endlinecolor": "#2a3f5f",
             "gridcolor": "white",
             "linecolor": "white",
             "minorgridcolor": "white",
             "startlinecolor": "#2a3f5f"
            },
            "baxis": {
             "endlinecolor": "#2a3f5f",
             "gridcolor": "white",
             "linecolor": "white",
             "minorgridcolor": "white",
             "startlinecolor": "#2a3f5f"
            },
            "type": "carpet"
           }
          ],
          "choropleth": [
           {
            "colorbar": {
             "outlinewidth": 0,
             "ticks": ""
            },
            "type": "choropleth"
           }
          ],
          "contour": [
           {
            "colorbar": {
             "outlinewidth": 0,
             "ticks": ""
            },
            "colorscale": [
             [
              0,
              "#0d0887"
             ],
             [
              0.1111111111111111,
              "#46039f"
             ],
             [
              0.2222222222222222,
              "#7201a8"
             ],
             [
              0.3333333333333333,
              "#9c179e"
             ],
             [
              0.4444444444444444,
              "#bd3786"
             ],
             [
              0.5555555555555556,
              "#d8576b"
             ],
             [
              0.6666666666666666,
              "#ed7953"
             ],
             [
              0.7777777777777778,
              "#fb9f3a"
             ],
             [
              0.8888888888888888,
              "#fdca26"
             ],
             [
              1,
              "#f0f921"
             ]
            ],
            "type": "contour"
           }
          ],
          "contourcarpet": [
           {
            "colorbar": {
             "outlinewidth": 0,
             "ticks": ""
            },
            "type": "contourcarpet"
           }
          ],
          "heatmap": [
           {
            "colorbar": {
             "outlinewidth": 0,
             "ticks": ""
            },
            "colorscale": [
             [
              0,
              "#0d0887"
             ],
             [
              0.1111111111111111,
              "#46039f"
             ],
             [
              0.2222222222222222,
              "#7201a8"
             ],
             [
              0.3333333333333333,
              "#9c179e"
             ],
             [
              0.4444444444444444,
              "#bd3786"
             ],
             [
              0.5555555555555556,
              "#d8576b"
             ],
             [
              0.6666666666666666,
              "#ed7953"
             ],
             [
              0.7777777777777778,
              "#fb9f3a"
             ],
             [
              0.8888888888888888,
              "#fdca26"
             ],
             [
              1,
              "#f0f921"
             ]
            ],
            "type": "heatmap"
           }
          ],
          "heatmapgl": [
           {
            "colorbar": {
             "outlinewidth": 0,
             "ticks": ""
            },
            "colorscale": [
             [
              0,
              "#0d0887"
             ],
             [
              0.1111111111111111,
              "#46039f"
             ],
             [
              0.2222222222222222,
              "#7201a8"
             ],
             [
              0.3333333333333333,
              "#9c179e"
             ],
             [
              0.4444444444444444,
              "#bd3786"
             ],
             [
              0.5555555555555556,
              "#d8576b"
             ],
             [
              0.6666666666666666,
              "#ed7953"
             ],
             [
              0.7777777777777778,
              "#fb9f3a"
             ],
             [
              0.8888888888888888,
              "#fdca26"
             ],
             [
              1,
              "#f0f921"
             ]
            ],
            "type": "heatmapgl"
           }
          ],
          "histogram": [
           {
            "marker": {
             "colorbar": {
              "outlinewidth": 0,
              "ticks": ""
             }
            },
            "type": "histogram"
           }
          ],
          "histogram2d": [
           {
            "colorbar": {
             "outlinewidth": 0,
             "ticks": ""
            },
            "colorscale": [
             [
              0,
              "#0d0887"
             ],
             [
              0.1111111111111111,
              "#46039f"
             ],
             [
              0.2222222222222222,
              "#7201a8"
             ],
             [
              0.3333333333333333,
              "#9c179e"
             ],
             [
              0.4444444444444444,
              "#bd3786"
             ],
             [
              0.5555555555555556,
              "#d8576b"
             ],
             [
              0.6666666666666666,
              "#ed7953"
             ],
             [
              0.7777777777777778,
              "#fb9f3a"
             ],
             [
              0.8888888888888888,
              "#fdca26"
             ],
             [
              1,
              "#f0f921"
             ]
            ],
            "type": "histogram2d"
           }
          ],
          "histogram2dcontour": [
           {
            "colorbar": {
             "outlinewidth": 0,
             "ticks": ""
            },
            "colorscale": [
             [
              0,
              "#0d0887"
             ],
             [
              0.1111111111111111,
              "#46039f"
             ],
             [
              0.2222222222222222,
              "#7201a8"
             ],
             [
              0.3333333333333333,
              "#9c179e"
             ],
             [
              0.4444444444444444,
              "#bd3786"
             ],
             [
              0.5555555555555556,
              "#d8576b"
             ],
             [
              0.6666666666666666,
              "#ed7953"
             ],
             [
              0.7777777777777778,
              "#fb9f3a"
             ],
             [
              0.8888888888888888,
              "#fdca26"
             ],
             [
              1,
              "#f0f921"
             ]
            ],
            "type": "histogram2dcontour"
           }
          ],
          "mesh3d": [
           {
            "colorbar": {
             "outlinewidth": 0,
             "ticks": ""
            },
            "type": "mesh3d"
           }
          ],
          "parcoords": [
           {
            "line": {
             "colorbar": {
              "outlinewidth": 0,
              "ticks": ""
             }
            },
            "type": "parcoords"
           }
          ],
          "pie": [
           {
            "automargin": true,
            "type": "pie"
           }
          ],
          "scatter": [
           {
            "marker": {
             "colorbar": {
              "outlinewidth": 0,
              "ticks": ""
             }
            },
            "type": "scatter"
           }
          ],
          "scatter3d": [
           {
            "line": {
             "colorbar": {
              "outlinewidth": 0,
              "ticks": ""
             }
            },
            "marker": {
             "colorbar": {
              "outlinewidth": 0,
              "ticks": ""
             }
            },
            "type": "scatter3d"
           }
          ],
          "scattercarpet": [
           {
            "marker": {
             "colorbar": {
              "outlinewidth": 0,
              "ticks": ""
             }
            },
            "type": "scattercarpet"
           }
          ],
          "scattergeo": [
           {
            "marker": {
             "colorbar": {
              "outlinewidth": 0,
              "ticks": ""
             }
            },
            "type": "scattergeo"
           }
          ],
          "scattergl": [
           {
            "marker": {
             "colorbar": {
              "outlinewidth": 0,
              "ticks": ""
             }
            },
            "type": "scattergl"
           }
          ],
          "scattermapbox": [
           {
            "marker": {
             "colorbar": {
              "outlinewidth": 0,
              "ticks": ""
             }
            },
            "type": "scattermapbox"
           }
          ],
          "scatterpolar": [
           {
            "marker": {
             "colorbar": {
              "outlinewidth": 0,
              "ticks": ""
             }
            },
            "type": "scatterpolar"
           }
          ],
          "scatterpolargl": [
           {
            "marker": {
             "colorbar": {
              "outlinewidth": 0,
              "ticks": ""
             }
            },
            "type": "scatterpolargl"
           }
          ],
          "scatterternary": [
           {
            "marker": {
             "colorbar": {
              "outlinewidth": 0,
              "ticks": ""
             }
            },
            "type": "scatterternary"
           }
          ],
          "surface": [
           {
            "colorbar": {
             "outlinewidth": 0,
             "ticks": ""
            },
            "colorscale": [
             [
              0,
              "#0d0887"
             ],
             [
              0.1111111111111111,
              "#46039f"
             ],
             [
              0.2222222222222222,
              "#7201a8"
             ],
             [
              0.3333333333333333,
              "#9c179e"
             ],
             [
              0.4444444444444444,
              "#bd3786"
             ],
             [
              0.5555555555555556,
              "#d8576b"
             ],
             [
              0.6666666666666666,
              "#ed7953"
             ],
             [
              0.7777777777777778,
              "#fb9f3a"
             ],
             [
              0.8888888888888888,
              "#fdca26"
             ],
             [
              1,
              "#f0f921"
             ]
            ],
            "type": "surface"
           }
          ],
          "table": [
           {
            "cells": {
             "fill": {
              "color": "#EBF0F8"
             },
             "line": {
              "color": "white"
             }
            },
            "header": {
             "fill": {
              "color": "#C8D4E3"
             },
             "line": {
              "color": "white"
             }
            },
            "type": "table"
           }
          ]
         },
         "layout": {
          "annotationdefaults": {
           "arrowcolor": "#2a3f5f",
           "arrowhead": 0,
           "arrowwidth": 1
          },
          "autotypenumbers": "strict",
          "coloraxis": {
           "colorbar": {
            "outlinewidth": 0,
            "ticks": ""
           }
          },
          "colorscale": {
           "diverging": [
            [
             0,
             "#8e0152"
            ],
            [
             0.1,
             "#c51b7d"
            ],
            [
             0.2,
             "#de77ae"
            ],
            [
             0.3,
             "#f1b6da"
            ],
            [
             0.4,
             "#fde0ef"
            ],
            [
             0.5,
             "#f7f7f7"
            ],
            [
             0.6,
             "#e6f5d0"
            ],
            [
             0.7,
             "#b8e186"
            ],
            [
             0.8,
             "#7fbc41"
            ],
            [
             0.9,
             "#4d9221"
            ],
            [
             1,
             "#276419"
            ]
           ],
           "sequential": [
            [
             0,
             "#0d0887"
            ],
            [
             0.1111111111111111,
             "#46039f"
            ],
            [
             0.2222222222222222,
             "#7201a8"
            ],
            [
             0.3333333333333333,
             "#9c179e"
            ],
            [
             0.4444444444444444,
             "#bd3786"
            ],
            [
             0.5555555555555556,
             "#d8576b"
            ],
            [
             0.6666666666666666,
             "#ed7953"
            ],
            [
             0.7777777777777778,
             "#fb9f3a"
            ],
            [
             0.8888888888888888,
             "#fdca26"
            ],
            [
             1,
             "#f0f921"
            ]
           ],
           "sequentialminus": [
            [
             0,
             "#0d0887"
            ],
            [
             0.1111111111111111,
             "#46039f"
            ],
            [
             0.2222222222222222,
             "#7201a8"
            ],
            [
             0.3333333333333333,
             "#9c179e"
            ],
            [
             0.4444444444444444,
             "#bd3786"
            ],
            [
             0.5555555555555556,
             "#d8576b"
            ],
            [
             0.6666666666666666,
             "#ed7953"
            ],
            [
             0.7777777777777778,
             "#fb9f3a"
            ],
            [
             0.8888888888888888,
             "#fdca26"
            ],
            [
             1,
             "#f0f921"
            ]
           ]
          },
          "colorway": [
           "#636efa",
           "#EF553B",
           "#00cc96",
           "#ab63fa",
           "#FFA15A",
           "#19d3f3",
           "#FF6692",
           "#B6E880",
           "#FF97FF",
           "#FECB52"
          ],
          "font": {
           "color": "#2a3f5f"
          },
          "geo": {
           "bgcolor": "white",
           "lakecolor": "white",
           "landcolor": "#E5ECF6",
           "showlakes": true,
           "showland": true,
           "subunitcolor": "white"
          },
          "hoverlabel": {
           "align": "left"
          },
          "hovermode": "closest",
          "mapbox": {
           "style": "light"
          },
          "paper_bgcolor": "white",
          "plot_bgcolor": "#E5ECF6",
          "polar": {
           "angularaxis": {
            "gridcolor": "white",
            "linecolor": "white",
            "ticks": ""
           },
           "bgcolor": "#E5ECF6",
           "radialaxis": {
            "gridcolor": "white",
            "linecolor": "white",
            "ticks": ""
           }
          },
          "scene": {
           "xaxis": {
            "backgroundcolor": "#E5ECF6",
            "gridcolor": "white",
            "gridwidth": 2,
            "linecolor": "white",
            "showbackground": true,
            "ticks": "",
            "zerolinecolor": "white"
           },
           "yaxis": {
            "backgroundcolor": "#E5ECF6",
            "gridcolor": "white",
            "gridwidth": 2,
            "linecolor": "white",
            "showbackground": true,
            "ticks": "",
            "zerolinecolor": "white"
           },
           "zaxis": {
            "backgroundcolor": "#E5ECF6",
            "gridcolor": "white",
            "gridwidth": 2,
            "linecolor": "white",
            "showbackground": true,
            "ticks": "",
            "zerolinecolor": "white"
           }
          },
          "shapedefaults": {
           "line": {
            "color": "#2a3f5f"
           }
          },
          "ternary": {
           "aaxis": {
            "gridcolor": "white",
            "linecolor": "white",
            "ticks": ""
           },
           "baxis": {
            "gridcolor": "white",
            "linecolor": "white",
            "ticks": ""
           },
           "bgcolor": "#E5ECF6",
           "caxis": {
            "gridcolor": "white",
            "linecolor": "white",
            "ticks": ""
           }
          },
          "title": {
           "x": 0.05
          },
          "xaxis": {
           "automargin": true,
           "gridcolor": "white",
           "linecolor": "white",
           "ticks": "",
           "title": {
            "standoff": 15
           },
           "zerolinecolor": "white",
           "zerolinewidth": 2
          },
          "yaxis": {
           "automargin": true,
           "gridcolor": "white",
           "linecolor": "white",
           "ticks": "",
           "title": {
            "standoff": 15
           },
           "zerolinecolor": "white",
           "zerolinewidth": 2
          }
         }
        },
        "title": {
         "text": "Average House Values in Toronto"
        }
       }
      },
      "text/html": [
       "<div>                            <div id=\"466e07f4-e7b0-4599-b778-96a224c387a1\" class=\"plotly-graph-div\" style=\"height:525px; width:100%;\"></div>            <script type=\"text/javascript\">                require([\"plotly\"], function(Plotly) {                    window.PLOTLYENV=window.PLOTLYENV || {};                                    if (document.getElementById(\"466e07f4-e7b0-4599-b778-96a224c387a1\")) {                    Plotly.newPlot(                        \"466e07f4-e7b0-4599-b778-96a224c387a1\",                        [{\"hovertemplate\": \"neighbourhood=Agincourt North<br>average_house_value=%{marker.size}<br>lat=%{lat}<br>lon=%{lon}<extra></extra>\", \"lat\": [43.80544058], \"legendgroup\": \"Agincourt North\", \"lon\": [-79.26671217], \"marker\": {\"color\": \"#636efa\", \"size\": [329811.5], \"sizemode\": \"area\", \"sizeref\": 3816.214375}, \"mode\": \"markers\", \"name\": \"Agincourt North\", \"showlegend\": true, \"subplot\": \"mapbox\", \"type\": \"scattermapbox\"}, {\"hovertemplate\": \"neighbourhood=Agincourt South-Malvern West<br>average_house_value=%{marker.size}<br>lat=%{lat}<br>lon=%{lon}<extra></extra>\", \"lat\": [43.78865755], \"legendgroup\": \"Agincourt South-Malvern West\", \"lon\": [-79.2656118], \"marker\": {\"color\": \"#EF553B\", \"size\": [334189.0], \"sizemode\": \"area\", \"sizeref\": 3816.214375}, \"mode\": \"markers\", \"name\": \"Agincourt South-Malvern West\", \"showlegend\": true, \"subplot\": \"mapbox\", \"type\": \"scattermapbox\"}, {\"hovertemplate\": \"neighbourhood=Alderwood<br>average_house_value=%{marker.size}<br>lat=%{lat}<br>lon=%{lon}<extra></extra>\", \"lat\": [43.6049369], \"legendgroup\": \"Alderwood\", \"lon\": [-79.54161093], \"marker\": {\"color\": \"#00cc96\", \"size\": [427922.5], \"sizemode\": \"area\", \"sizeref\": 3816.214375}, \"mode\": \"markers\", \"name\": \"Alderwood\", \"showlegend\": true, \"subplot\": \"mapbox\", \"type\": \"scattermapbox\"}, {\"hovertemplate\": \"neighbourhood=Annex<br>average_house_value=%{marker.size}<br>lat=%{lat}<br>lon=%{lon}<extra></extra>\", \"lat\": [43.67158544], \"legendgroup\": \"Annex\", \"lon\": [-79.40400062], \"marker\": {\"color\": \"#ab63fa\", \"size\": [746977.0], \"sizemode\": \"area\", \"sizeref\": 3816.214375}, \"mode\": \"markers\", \"name\": \"Annex\", \"showlegend\": true, \"subplot\": \"mapbox\", \"type\": \"scattermapbox\"}, {\"hovertemplate\": \"neighbourhood=Banbury-Don Mills<br>average_house_value=%{marker.size}<br>lat=%{lat}<br>lon=%{lon}<extra></extra>\", \"lat\": [43.737657], \"legendgroup\": \"Banbury-Don Mills\", \"lon\": [-79.34971798], \"marker\": {\"color\": \"#FFA15A\", \"size\": [612039.0], \"sizemode\": \"area\", \"sizeref\": 3816.214375}, \"mode\": \"markers\", \"name\": \"Banbury-Don Mills\", \"showlegend\": true, \"subplot\": \"mapbox\", \"type\": \"scattermapbox\"}, {\"hovertemplate\": \"neighbourhood=Bathurst Manor<br>average_house_value=%{marker.size}<br>lat=%{lat}<br>lon=%{lon}<extra></extra>\", \"lat\": [43.76481331], \"legendgroup\": \"Bathurst Manor\", \"lon\": [-79.45605516], \"marker\": {\"color\": \"#19d3f3\", \"size\": [501576.75], \"sizemode\": \"area\", \"sizeref\": 3816.214375}, \"mode\": \"markers\", \"name\": \"Bathurst Manor\", \"showlegend\": true, \"subplot\": \"mapbox\", \"type\": \"scattermapbox\"}, {\"hovertemplate\": \"neighbourhood=Bay Street Corridor<br>average_house_value=%{marker.size}<br>lat=%{lat}<br>lon=%{lon}<extra></extra>\", \"lat\": [43.65751135], \"legendgroup\": \"Bay Street Corridor\", \"lon\": [-79.38572125], \"marker\": {\"color\": \"#FF6692\", \"size\": [423653.5], \"sizemode\": \"area\", \"sizeref\": 3816.214375}, \"mode\": \"markers\", \"name\": \"Bay Street Corridor\", \"showlegend\": true, \"subplot\": \"mapbox\", \"type\": \"scattermapbox\"}, {\"hovertemplate\": \"neighbourhood=Bayview Village<br>average_house_value=%{marker.size}<br>lat=%{lat}<br>lon=%{lon}<extra></extra>\", \"lat\": [43.77636052], \"legendgroup\": \"Bayview Village\", \"lon\": [-79.37711686], \"marker\": {\"color\": \"#B6E880\", \"size\": [539258.75], \"sizemode\": \"area\", \"sizeref\": 3816.214375}, \"mode\": \"markers\", \"name\": \"Bayview Village\", \"showlegend\": true, \"subplot\": \"mapbox\", \"type\": \"scattermapbox\"}, {\"hovertemplate\": \"neighbourhood=Bayview Woods-Steeles<br>average_house_value=%{marker.size}<br>lat=%{lat}<br>lon=%{lon}<extra></extra>\", \"lat\": [43.79680187], \"legendgroup\": \"Bayview Woods-Steeles\", \"lon\": [-79.38211795], \"marker\": {\"color\": \"#FF97FF\", \"size\": [565413.5], \"sizemode\": \"area\", \"sizeref\": 3816.214375}, \"mode\": \"markers\", \"name\": \"Bayview Woods-Steeles\", \"showlegend\": true, \"subplot\": \"mapbox\", \"type\": \"scattermapbox\"}, {\"hovertemplate\": \"neighbourhood=Bedford Park-Nortown<br>average_house_value=%{marker.size}<br>lat=%{lat}<br>lon=%{lon}<extra></extra>\", \"lat\": [43.73148623], \"legendgroup\": \"Bedford Park-Nortown\", \"lon\": [-79.42022735], \"marker\": {\"color\": \"#FECB52\", \"size\": [930415.25], \"sizemode\": \"area\", \"sizeref\": 3816.214375}, \"mode\": \"markers\", \"name\": \"Bedford Park-Nortown\", \"showlegend\": true, \"subplot\": \"mapbox\", \"type\": \"scattermapbox\"}, {\"hovertemplate\": \"neighbourhood=Beechborough-Greenbrook<br>average_house_value=%{marker.size}<br>lat=%{lat}<br>lon=%{lon}<extra></extra>\", \"lat\": [43.69321649], \"legendgroup\": \"Beechborough-Greenbrook\", \"lon\": [-79.47947251], \"marker\": {\"color\": \"#636efa\", \"size\": [370927.75], \"sizemode\": \"area\", \"sizeref\": 3816.214375}, \"mode\": \"markers\", \"name\": \"Beechborough-Greenbrook\", \"showlegend\": true, \"subplot\": \"mapbox\", \"type\": \"scattermapbox\"}, {\"hovertemplate\": \"neighbourhood=Bendale<br>average_house_value=%{marker.size}<br>lat=%{lat}<br>lon=%{lon}<extra></extra>\", \"lat\": [43.76036631], \"legendgroup\": \"Bendale\", \"lon\": [-79.25740037], \"marker\": {\"color\": \"#EF553B\", \"size\": [301123.25], \"sizemode\": \"area\", \"sizeref\": 3816.214375}, \"mode\": \"markers\", \"name\": \"Bendale\", \"showlegend\": true, \"subplot\": \"mapbox\", \"type\": \"scattermapbox\"}, {\"hovertemplate\": \"neighbourhood=Birchcliffe-Cliffside<br>average_house_value=%{marker.size}<br>lat=%{lat}<br>lon=%{lon}<extra></extra>\", \"lat\": [43.69468198], \"legendgroup\": \"Birchcliffe-Cliffside\", \"lon\": [-79.26509259], \"marker\": {\"color\": \"#00cc96\", \"size\": [437315.0], \"sizemode\": \"area\", \"sizeref\": 3816.214375}, \"mode\": \"markers\", \"name\": \"Birchcliffe-Cliffside\", \"showlegend\": true, \"subplot\": \"mapbox\", \"type\": \"scattermapbox\"}, {\"hovertemplate\": \"neighbourhood=Black Creek<br>average_house_value=%{marker.size}<br>lat=%{lat}<br>lon=%{lon}<extra></extra>\", \"lat\": [43.76489025], \"legendgroup\": \"Black Creek\", \"lon\": [-79.52197932], \"marker\": {\"color\": \"#ab63fa\", \"size\": [260841.75], \"sizemode\": \"area\", \"sizeref\": 3816.214375}, \"mode\": \"markers\", \"name\": \"Black Creek\", \"showlegend\": true, \"subplot\": \"mapbox\", \"type\": \"scattermapbox\"}, {\"hovertemplate\": \"neighbourhood=Blake-Jones<br>average_house_value=%{marker.size}<br>lat=%{lat}<br>lon=%{lon}<extra></extra>\", \"lat\": [43.67617288], \"legendgroup\": \"Blake-Jones\", \"lon\": [-79.33739417], \"marker\": {\"color\": \"#FFA15A\", \"size\": [511437.0], \"sizemode\": \"area\", \"sizeref\": 3816.214375}, \"mode\": \"markers\", \"name\": \"Blake-Jones\", \"showlegend\": true, \"subplot\": \"mapbox\", \"type\": \"scattermapbox\"}, {\"hovertemplate\": \"neighbourhood=Briar Hill-Belgravia<br>average_house_value=%{marker.size}<br>lat=%{lat}<br>lon=%{lon}<extra></extra>\", \"lat\": [43.69902438], \"legendgroup\": \"Briar Hill-Belgravia\", \"lon\": [-79.4528513], \"marker\": {\"color\": \"#19d3f3\", \"size\": [365524.5], \"sizemode\": \"area\", \"sizeref\": 3816.214375}, \"mode\": \"markers\", \"name\": \"Briar Hill-Belgravia\", \"showlegend\": true, \"subplot\": \"mapbox\", \"type\": \"scattermapbox\"}, {\"hovertemplate\": \"neighbourhood=Bridle Path-Sunnybrook-York Mills<br>average_house_value=%{marker.size}<br>lat=%{lat}<br>lon=%{lon}<extra></extra>\", \"lat\": [43.73101314], \"legendgroup\": \"Bridle Path-Sunnybrook-York Mills\", \"lon\": [-79.37890418], \"marker\": {\"color\": \"#FF6692\", \"size\": [1526485.75], \"sizemode\": \"area\", \"sizeref\": 3816.214375}, \"mode\": \"markers\", \"name\": \"Bridle Path-Sunnybrook-York Mills\", \"showlegend\": true, \"subplot\": \"mapbox\", \"type\": \"scattermapbox\"}, {\"hovertemplate\": \"neighbourhood=Broadview North<br>average_house_value=%{marker.size}<br>lat=%{lat}<br>lon=%{lon}<extra></extra>\", \"lat\": [43.68882512], \"legendgroup\": \"Broadview North\", \"lon\": [-79.35562951], \"marker\": {\"color\": \"#B6E880\", \"size\": [443373.25], \"sizemode\": \"area\", \"sizeref\": 3816.214375}, \"mode\": \"markers\", \"name\": \"Broadview North\", \"showlegend\": true, \"subplot\": \"mapbox\", \"type\": \"scattermapbox\"}, {\"hovertemplate\": \"neighbourhood=Brookhaven-Amesbury<br>average_house_value=%{marker.size}<br>lat=%{lat}<br>lon=%{lon}<extra></extra>\", \"lat\": [43.70132631], \"legendgroup\": \"Brookhaven-Amesbury\", \"lon\": [-79.48558926], \"marker\": {\"color\": \"#FF97FF\", \"size\": [350943.0], \"sizemode\": \"area\", \"sizeref\": 3816.214375}, \"mode\": \"markers\", \"name\": \"Brookhaven-Amesbury\", \"showlegend\": true, \"subplot\": \"mapbox\", \"type\": \"scattermapbox\"}, {\"hovertemplate\": \"neighbourhood=Cabbagetown-South St.James Town<br>average_house_value=%{marker.size}<br>lat=%{lat}<br>lon=%{lon}<extra></extra>\", \"lat\": [43.66764773], \"legendgroup\": \"Cabbagetown-South St.James Town\", \"lon\": [-79.36610666], \"marker\": {\"color\": \"#FECB52\", \"size\": [494110.5], \"sizemode\": \"area\", \"sizeref\": 3816.214375}, \"mode\": \"markers\", \"name\": \"Cabbagetown-South St.James Town\", \"showlegend\": true, \"subplot\": \"mapbox\", \"type\": \"scattermapbox\"}, {\"hovertemplate\": \"neighbourhood=Caledonia-Fairbank<br>average_house_value=%{marker.size}<br>lat=%{lat}<br>lon=%{lon}<extra></extra>\", \"lat\": [43.68856865], \"legendgroup\": \"Caledonia-Fairbank\", \"lon\": [-79.45521208], \"marker\": {\"color\": \"#636efa\", \"size\": [361714.25], \"sizemode\": \"area\", \"sizeref\": 3816.214375}, \"mode\": \"markers\", \"name\": \"Caledonia-Fairbank\", \"showlegend\": true, \"subplot\": \"mapbox\", \"type\": \"scattermapbox\"}, {\"hovertemplate\": \"neighbourhood=Casa Loma<br>average_house_value=%{marker.size}<br>lat=%{lat}<br>lon=%{lon}<extra></extra>\", \"lat\": [43.6818521], \"legendgroup\": \"Casa Loma\", \"lon\": [-79.40800665], \"marker\": {\"color\": \"#EF553B\", \"size\": [981064.25], \"sizemode\": \"area\", \"sizeref\": 3816.214375}, \"mode\": \"markers\", \"name\": \"Casa Loma\", \"showlegend\": true, \"subplot\": \"mapbox\", \"type\": \"scattermapbox\"}, {\"hovertemplate\": \"neighbourhood=Centennial Scarborough<br>average_house_value=%{marker.size}<br>lat=%{lat}<br>lon=%{lon}<extra></extra>\", \"lat\": [43.7823765], \"legendgroup\": \"Centennial Scarborough\", \"lon\": [-79.15084327], \"marker\": {\"color\": \"#00cc96\", \"size\": [409862.75], \"sizemode\": \"area\", \"sizeref\": 3816.214375}, \"mode\": \"markers\", \"name\": \"Centennial Scarborough\", \"showlegend\": true, \"subplot\": \"mapbox\", \"type\": \"scattermapbox\"}, {\"hovertemplate\": \"neighbourhood=Church-Yonge Corridor<br>average_house_value=%{marker.size}<br>lat=%{lat}<br>lon=%{lon}<extra></extra>\", \"lat\": [43.65964886], \"legendgroup\": \"Church-Yonge Corridor\", \"lon\": [-79.37901717], \"marker\": {\"color\": \"#ab63fa\", \"size\": [406117.5], \"sizemode\": \"area\", \"sizeref\": 3816.214375}, \"mode\": \"markers\", \"name\": \"Church-Yonge Corridor\", \"showlegend\": true, \"subplot\": \"mapbox\", \"type\": \"scattermapbox\"}, {\"hovertemplate\": \"neighbourhood=Clairlea-Birchmount<br>average_house_value=%{marker.size}<br>lat=%{lat}<br>lon=%{lon}<extra></extra>\", \"lat\": [43.71359238], \"legendgroup\": \"Clairlea-Birchmount\", \"lon\": [-79.28138178], \"marker\": {\"color\": \"#FFA15A\", \"size\": [354555.25], \"sizemode\": \"area\", \"sizeref\": 3816.214375}, \"mode\": \"markers\", \"name\": \"Clairlea-Birchmount\", \"showlegend\": true, \"subplot\": \"mapbox\", \"type\": \"scattermapbox\"}, {\"hovertemplate\": \"neighbourhood=Clanton Park<br>average_house_value=%{marker.size}<br>lat=%{lat}<br>lon=%{lon}<extra></extra>\", \"lat\": [43.74197843], \"legendgroup\": \"Clanton Park\", \"lon\": [-79.44630258], \"marker\": {\"color\": \"#19d3f3\", \"size\": [551561.25], \"sizemode\": \"area\", \"sizeref\": 3816.214375}, \"mode\": \"markers\", \"name\": \"Clanton Park\", \"showlegend\": true, \"subplot\": \"mapbox\", \"type\": \"scattermapbox\"}, {\"hovertemplate\": \"neighbourhood=Cliffcrest<br>average_house_value=%{marker.size}<br>lat=%{lat}<br>lon=%{lon}<extra></extra>\", \"lat\": [43.72112117], \"legendgroup\": \"Cliffcrest\", \"lon\": [-79.23552957], \"marker\": {\"color\": \"#FF6692\", \"size\": [417422.0], \"sizemode\": \"area\", \"sizeref\": 3816.214375}, \"mode\": \"markers\", \"name\": \"Cliffcrest\", \"showlegend\": true, \"subplot\": \"mapbox\", \"type\": \"scattermapbox\"}, {\"hovertemplate\": \"neighbourhood=Corso Italia-Davenport<br>average_house_value=%{marker.size}<br>lat=%{lat}<br>lon=%{lon}<extra></extra>\", \"lat\": [43.67766091], \"legendgroup\": \"Corso Italia-Davenport\", \"lon\": [-79.44746933], \"marker\": {\"color\": \"#B6E880\", \"size\": [419930.5], \"sizemode\": \"area\", \"sizeref\": 3816.214375}, \"mode\": \"markers\", \"name\": \"Corso Italia-Davenport\", \"showlegend\": true, \"subplot\": \"mapbox\", \"type\": \"scattermapbox\"}, {\"hovertemplate\": \"neighbourhood=Danforth<br>average_house_value=%{marker.size}<br>lat=%{lat}<br>lon=%{lon}<extra></extra>\", \"lat\": [43.68402547], \"legendgroup\": \"Danforth\", \"lon\": [-79.32981941], \"marker\": {\"color\": \"#FF97FF\", \"size\": [466943.0], \"sizemode\": \"area\", \"sizeref\": 3816.214375}, \"mode\": \"markers\", \"name\": \"Danforth\", \"showlegend\": true, \"subplot\": \"mapbox\", \"type\": \"scattermapbox\"}, {\"hovertemplate\": \"neighbourhood=Danforth-East York<br>average_house_value=%{marker.size}<br>lat=%{lat}<br>lon=%{lon}<extra></extra>\", \"lat\": [43.68946809], \"legendgroup\": \"Danforth-East York\", \"lon\": [-79.33140338], \"marker\": {\"color\": \"#FECB52\", \"size\": [421679.25], \"sizemode\": \"area\", \"sizeref\": 3816.214375}, \"mode\": \"markers\", \"name\": \"Danforth-East York\", \"showlegend\": true, \"subplot\": \"mapbox\", \"type\": \"scattermapbox\"}, {\"hovertemplate\": \"neighbourhood=Don Valley Village<br>average_house_value=%{marker.size}<br>lat=%{lat}<br>lon=%{lon}<extra></extra>\", \"lat\": [43.78329369], \"legendgroup\": \"Don Valley Village\", \"lon\": [-79.35364413], \"marker\": {\"color\": \"#636efa\", \"size\": [398010.25], \"sizemode\": \"area\", \"sizeref\": 3816.214375}, \"mode\": \"markers\", \"name\": \"Don Valley Village\", \"showlegend\": true, \"subplot\": \"mapbox\", \"type\": \"scattermapbox\"}, {\"hovertemplate\": \"neighbourhood=Dorset Park<br>average_house_value=%{marker.size}<br>lat=%{lat}<br>lon=%{lon}<extra></extra>\", \"lat\": [43.75927437], \"legendgroup\": \"Dorset Park\", \"lon\": [-79.27890794], \"marker\": {\"color\": \"#EF553B\", \"size\": [262000.25], \"sizemode\": \"area\", \"sizeref\": 3816.214375}, \"mode\": \"markers\", \"name\": \"Dorset Park\", \"showlegend\": true, \"subplot\": \"mapbox\", \"type\": \"scattermapbox\"}, {\"hovertemplate\": \"neighbourhood=Dovercourt-Wallace Emerson-Juncti<br>average_house_value=%{marker.size}<br>lat=%{lat}<br>lon=%{lon}<extra></extra>\", \"lat\": [43.66567693], \"legendgroup\": \"Dovercourt-Wallace Emerson-Juncti\", \"lon\": [-79.4385407], \"marker\": {\"color\": \"#00cc96\", \"size\": [434699.5], \"sizemode\": \"area\", \"sizeref\": 3816.214375}, \"mode\": \"markers\", \"name\": \"Dovercourt-Wallace Emerson-Juncti\", \"showlegend\": true, \"subplot\": \"mapbox\", \"type\": \"scattermapbox\"}, {\"hovertemplate\": \"neighbourhood=Downsview-Roding-CFB<br>average_house_value=%{marker.size}<br>lat=%{lat}<br>lon=%{lon}<extra></extra>\", \"lat\": [43.73329235], \"legendgroup\": \"Downsview-Roding-CFB\", \"lon\": [-79.49049735], \"marker\": {\"color\": \"#ab63fa\", \"size\": [381415.5], \"sizemode\": \"area\", \"sizeref\": 3816.214375}, \"mode\": \"markers\", \"name\": \"Downsview-Roding-CFB\", \"showlegend\": true, \"subplot\": \"mapbox\", \"type\": \"scattermapbox\"}, {\"hovertemplate\": \"neighbourhood=Dufferin Grove<br>average_house_value=%{marker.size}<br>lat=%{lat}<br>lon=%{lon}<extra></extra>\", \"lat\": [43.65542833], \"legendgroup\": \"Dufferin Grove\", \"lon\": [-79.43734104], \"marker\": {\"color\": \"#FFA15A\", \"size\": [457588.75], \"sizemode\": \"area\", \"sizeref\": 3816.214375}, \"mode\": \"markers\", \"name\": \"Dufferin Grove\", \"showlegend\": true, \"subplot\": \"mapbox\", \"type\": \"scattermapbox\"}, {\"hovertemplate\": \"neighbourhood=East End-Danforth<br>average_house_value=%{marker.size}<br>lat=%{lat}<br>lon=%{lon}<extra></extra>\", \"lat\": [43.68417388], \"legendgroup\": \"East End-Danforth\", \"lon\": [-79.29935867], \"marker\": {\"color\": \"#19d3f3\", \"size\": [478054.25], \"sizemode\": \"area\", \"sizeref\": 3816.214375}, \"mode\": \"markers\", \"name\": \"East End-Danforth\", \"showlegend\": true, \"subplot\": \"mapbox\", \"type\": \"scattermapbox\"}, {\"hovertemplate\": \"neighbourhood=Edenbridge-Humber Valley<br>average_house_value=%{marker.size}<br>lat=%{lat}<br>lon=%{lon}<extra></extra>\", \"lat\": [43.67088591], \"legendgroup\": \"Edenbridge-Humber Valley\", \"lon\": [-79.52245776], \"marker\": {\"color\": \"#FF6692\", \"size\": [796162.5], \"sizemode\": \"area\", \"sizeref\": 3816.214375}, \"mode\": \"markers\", \"name\": \"Edenbridge-Humber Valley\", \"showlegend\": true, \"subplot\": \"mapbox\", \"type\": \"scattermapbox\"}, {\"hovertemplate\": \"neighbourhood=Eglinton East<br>average_house_value=%{marker.size}<br>lat=%{lat}<br>lon=%{lon}<extra></extra>\", \"lat\": [43.7409223], \"legendgroup\": \"Eglinton East\", \"lon\": [-79.24559804], \"marker\": {\"color\": \"#B6E880\", \"size\": [268966.5], \"sizemode\": \"area\", \"sizeref\": 3816.214375}, \"mode\": \"markers\", \"name\": \"Eglinton East\", \"showlegend\": true, \"subplot\": \"mapbox\", \"type\": \"scattermapbox\"}, {\"hovertemplate\": \"neighbourhood=Elms-Old Rexdale<br>average_house_value=%{marker.size}<br>lat=%{lat}<br>lon=%{lon}<extra></extra>\", \"lat\": [43.72151887], \"legendgroup\": \"Elms-Old Rexdale\", \"lon\": [-79.54898272], \"marker\": {\"color\": \"#FF97FF\", \"size\": [268341.25], \"sizemode\": \"area\", \"sizeref\": 3816.214375}, \"mode\": \"markers\", \"name\": \"Elms-Old Rexdale\", \"showlegend\": true, \"subplot\": \"mapbox\", \"type\": \"scattermapbox\"}, {\"hovertemplate\": \"neighbourhood=Englemount-Lawrence<br>average_house_value=%{marker.size}<br>lat=%{lat}<br>lon=%{lon}<extra></extra>\", \"lat\": [43.72034467], \"legendgroup\": \"Englemount-Lawrence\", \"lon\": [-79.43740855], \"marker\": {\"color\": \"#FECB52\", \"size\": [568936.75], \"sizemode\": \"area\", \"sizeref\": 3816.214375}, \"mode\": \"markers\", \"name\": \"Englemount-Lawrence\", \"showlegend\": true, \"subplot\": \"mapbox\", \"type\": \"scattermapbox\"}, {\"hovertemplate\": \"neighbourhood=Eringate-Centennial-West Deane<br>average_house_value=%{marker.size}<br>lat=%{lat}<br>lon=%{lon}<extra></extra>\", \"lat\": [43.65801676], \"legendgroup\": \"Eringate-Centennial-West Deane\", \"lon\": [-79.58044524], \"marker\": {\"color\": \"#636efa\", \"size\": [397781.75], \"sizemode\": \"area\", \"sizeref\": 3816.214375}, \"mode\": \"markers\", \"name\": \"Eringate-Centennial-West Deane\", \"showlegend\": true, \"subplot\": \"mapbox\", \"type\": \"scattermapbox\"}, {\"hovertemplate\": \"neighbourhood=Etobicoke West Mall<br>average_house_value=%{marker.size}<br>lat=%{lat}<br>lon=%{lon}<extra></extra>\", \"lat\": [43.64506262], \"legendgroup\": \"Etobicoke West Mall\", \"lon\": [-79.56893877], \"marker\": {\"color\": \"#EF553B\", \"size\": [309412.0], \"sizemode\": \"area\", \"sizeref\": 3816.214375}, \"mode\": \"markers\", \"name\": \"Etobicoke West Mall\", \"showlegend\": true, \"subplot\": \"mapbox\", \"type\": \"scattermapbox\"}, {\"hovertemplate\": \"neighbourhood=Flemingdon Park<br>average_house_value=%{marker.size}<br>lat=%{lat}<br>lon=%{lon}<extra></extra>\", \"lat\": [43.71592975], \"legendgroup\": \"Flemingdon Park\", \"lon\": [-79.33264597], \"marker\": {\"color\": \"#00cc96\", \"size\": [207799.0], \"sizemode\": \"area\", \"sizeref\": 3816.214375}, \"mode\": \"markers\", \"name\": \"Flemingdon Park\", \"showlegend\": true, \"subplot\": \"mapbox\", \"type\": \"scattermapbox\"}, {\"hovertemplate\": \"neighbourhood=Forest Hill North<br>average_house_value=%{marker.size}<br>lat=%{lat}<br>lon=%{lon}<extra></extra>\", \"lat\": [43.70421756], \"legendgroup\": \"Forest Hill North\", \"lon\": [-79.42814316], \"marker\": {\"color\": \"#ab63fa\", \"size\": [851680.5], \"sizemode\": \"area\", \"sizeref\": 3816.214375}, \"mode\": \"markers\", \"name\": \"Forest Hill North\", \"showlegend\": true, \"subplot\": \"mapbox\", \"type\": \"scattermapbox\"}, {\"hovertemplate\": \"neighbourhood=Forest Hill South<br>average_house_value=%{marker.size}<br>lat=%{lat}<br>lon=%{lon}<extra></extra>\", \"lat\": [43.69452576], \"legendgroup\": \"Forest Hill South\", \"lon\": [-79.41431786], \"marker\": {\"color\": \"#FFA15A\", \"size\": [1195992.5], \"sizemode\": \"area\", \"sizeref\": 3816.214375}, \"mode\": \"markers\", \"name\": \"Forest Hill South\", \"showlegend\": true, \"subplot\": \"mapbox\", \"type\": \"scattermapbox\"}, {\"hovertemplate\": \"neighbourhood=Glenfield-Jane Heights<br>average_house_value=%{marker.size}<br>lat=%{lat}<br>lon=%{lon}<extra></extra>\", \"lat\": [43.74563575], \"legendgroup\": \"Glenfield-Jane Heights\", \"lon\": [-79.51346532], \"marker\": {\"color\": \"#19d3f3\", \"size\": [327597.75], \"sizemode\": \"area\", \"sizeref\": 3816.214375}, \"mode\": \"markers\", \"name\": \"Glenfield-Jane Heights\", \"showlegend\": true, \"subplot\": \"mapbox\", \"type\": \"scattermapbox\"}, {\"hovertemplate\": \"neighbourhood=Greenwood-Coxwell<br>average_house_value=%{marker.size}<br>lat=%{lat}<br>lon=%{lon}<extra></extra>\", \"lat\": [43.67261231], \"legendgroup\": \"Greenwood-Coxwell\", \"lon\": [-79.32431802], \"marker\": {\"color\": \"#FF6692\", \"size\": [387055.5], \"sizemode\": \"area\", \"sizeref\": 3816.214375}, \"mode\": \"markers\", \"name\": \"Greenwood-Coxwell\", \"showlegend\": true, \"subplot\": \"mapbox\", \"type\": \"scattermapbox\"}, {\"hovertemplate\": \"neighbourhood=Guildwood<br>average_house_value=%{marker.size}<br>lat=%{lat}<br>lon=%{lon}<extra></extra>\", \"lat\": [43.74882934], \"legendgroup\": \"Guildwood\", \"lon\": [-79.19505535], \"marker\": {\"color\": \"#B6E880\", \"size\": [369373.5], \"sizemode\": \"area\", \"sizeref\": 3816.214375}, \"mode\": \"markers\", \"name\": \"Guildwood\", \"showlegend\": true, \"subplot\": \"mapbox\", \"type\": \"scattermapbox\"}, {\"hovertemplate\": \"neighbourhood=Henry Farm<br>average_house_value=%{marker.size}<br>lat=%{lat}<br>lon=%{lon}<extra></extra>\", \"lat\": [43.77114414], \"legendgroup\": \"Henry Farm\", \"lon\": [-79.34124067], \"marker\": {\"color\": \"#FF97FF\", \"size\": [369958.0], \"sizemode\": \"area\", \"sizeref\": 3816.214375}, \"mode\": \"markers\", \"name\": \"Henry Farm\", \"showlegend\": true, \"subplot\": \"mapbox\", \"type\": \"scattermapbox\"}, {\"hovertemplate\": \"neighbourhood=High Park North<br>average_house_value=%{marker.size}<br>lat=%{lat}<br>lon=%{lon}<extra></extra>\", \"lat\": [43.65756491], \"legendgroup\": \"High Park North\", \"lon\": [-79.46630217], \"marker\": {\"color\": \"#FECB52\", \"size\": [532497.0], \"sizemode\": \"area\", \"sizeref\": 3816.214375}, \"mode\": \"markers\", \"name\": \"High Park North\", \"showlegend\": true, \"subplot\": \"mapbox\", \"type\": \"scattermapbox\"}, {\"hovertemplate\": \"neighbourhood=High Park-Swansea<br>average_house_value=%{marker.size}<br>lat=%{lat}<br>lon=%{lon}<extra></extra>\", \"lat\": [43.64506458], \"legendgroup\": \"High Park-Swansea\", \"lon\": [-79.46787222], \"marker\": {\"color\": \"#636efa\", \"size\": [582977.75], \"sizemode\": \"area\", \"sizeref\": 3816.214375}, \"mode\": \"markers\", \"name\": \"High Park-Swansea\", \"showlegend\": true, \"subplot\": \"mapbox\", \"type\": \"scattermapbox\"}, {\"hovertemplate\": \"neighbourhood=Highland Creek<br>average_house_value=%{marker.size}<br>lat=%{lat}<br>lon=%{lon}<extra></extra>\", \"lat\": [43.79077477], \"legendgroup\": \"Highland Creek\", \"lon\": [-79.17747247], \"marker\": {\"color\": \"#EF553B\", \"size\": [428838.5], \"sizemode\": \"area\", \"sizeref\": 3816.214375}, \"mode\": \"markers\", \"name\": \"Highland Creek\", \"showlegend\": true, \"subplot\": \"mapbox\", \"type\": \"scattermapbox\"}, {\"hovertemplate\": \"neighbourhood=Hillcrest Village<br>average_house_value=%{marker.size}<br>lat=%{lat}<br>lon=%{lon}<extra></extra>\", \"lat\": [43.80298783], \"legendgroup\": \"Hillcrest Village\", \"lon\": [-79.354804], \"marker\": {\"color\": \"#00cc96\", \"size\": [395023.0], \"sizemode\": \"area\", \"sizeref\": 3816.214375}, \"mode\": \"markers\", \"name\": \"Hillcrest Village\", \"showlegend\": true, \"subplot\": \"mapbox\", \"type\": \"scattermapbox\"}, {\"hovertemplate\": \"neighbourhood=Humber Heights-Westmount<br>average_house_value=%{marker.size}<br>lat=%{lat}<br>lon=%{lon}<extra></extra>\", \"lat\": [43.6922328], \"legendgroup\": \"Humber Heights-Westmount\", \"lon\": [-79.5224162], \"marker\": {\"color\": \"#ab63fa\", \"size\": [449150.5], \"sizemode\": \"area\", \"sizeref\": 3816.214375}, \"mode\": \"markers\", \"name\": \"Humber Heights-Westmount\", \"showlegend\": true, \"subplot\": \"mapbox\", \"type\": \"scattermapbox\"}, {\"hovertemplate\": \"neighbourhood=Humber Summit<br>average_house_value=%{marker.size}<br>lat=%{lat}<br>lon=%{lon}<extra></extra>\", \"lat\": [43.75891975], \"legendgroup\": \"Humber Summit\", \"lon\": [-79.55617474], \"marker\": {\"color\": \"#FFA15A\", \"size\": [352082.5], \"sizemode\": \"area\", \"sizeref\": 3816.214375}, \"mode\": \"markers\", \"name\": \"Humber Summit\", \"showlegend\": true, \"subplot\": \"mapbox\", \"type\": \"scattermapbox\"}, {\"hovertemplate\": \"neighbourhood=Humbermede<br>average_house_value=%{marker.size}<br>lat=%{lat}<br>lon=%{lon}<extra></extra>\", \"lat\": [43.74342952], \"legendgroup\": \"Humbermede\", \"lon\": [-79.54236712], \"marker\": {\"color\": \"#19d3f3\", \"size\": [319783.75], \"sizemode\": \"area\", \"sizeref\": 3816.214375}, \"mode\": \"markers\", \"name\": \"Humbermede\", \"showlegend\": true, \"subplot\": \"mapbox\", \"type\": \"scattermapbox\"}, {\"hovertemplate\": \"neighbourhood=Humewood-Cedarvale<br>average_house_value=%{marker.size}<br>lat=%{lat}<br>lon=%{lon}<extra></extra>\", \"lat\": [43.69136981], \"legendgroup\": \"Humewood-Cedarvale\", \"lon\": [-79.42768335], \"marker\": {\"color\": \"#FF6692\", \"size\": [697085.5], \"sizemode\": \"area\", \"sizeref\": 3816.214375}, \"mode\": \"markers\", \"name\": \"Humewood-Cedarvale\", \"showlegend\": true, \"subplot\": \"mapbox\", \"type\": \"scattermapbox\"}, {\"hovertemplate\": \"neighbourhood=Ionview<br>average_house_value=%{marker.size}<br>lat=%{lat}<br>lon=%{lon}<extra></extra>\", \"lat\": [43.73536441], \"legendgroup\": \"Ionview\", \"lon\": [-79.27247049], \"marker\": {\"color\": \"#B6E880\", \"size\": [287685.75], \"sizemode\": \"area\", \"sizeref\": 3816.214375}, \"mode\": \"markers\", \"name\": \"Ionview\", \"showlegend\": true, \"subplot\": \"mapbox\", \"type\": \"scattermapbox\"}, {\"hovertemplate\": \"neighbourhood=Islington-City Centre West<br>average_house_value=%{marker.size}<br>lat=%{lat}<br>lon=%{lon}<extra></extra>\", \"lat\": [43.63346335], \"legendgroup\": \"Islington-City Centre West\", \"lon\": [-79.54331654], \"marker\": {\"color\": \"#FF97FF\", \"size\": [451685.25], \"sizemode\": \"area\", \"sizeref\": 3816.214375}, \"mode\": \"markers\", \"name\": \"Islington-City Centre West\", \"showlegend\": true, \"subplot\": \"mapbox\", \"type\": \"scattermapbox\"}, {\"hovertemplate\": \"neighbourhood=Junction Area<br>average_house_value=%{marker.size}<br>lat=%{lat}<br>lon=%{lon}<extra></extra>\", \"lat\": [43.66788977], \"legendgroup\": \"Junction Area\", \"lon\": [-79.47143987], \"marker\": {\"color\": \"#FECB52\", \"size\": [433269.25], \"sizemode\": \"area\", \"sizeref\": 3816.214375}, \"mode\": \"markers\", \"name\": \"Junction Area\", \"showlegend\": true, \"subplot\": \"mapbox\", \"type\": \"scattermapbox\"}, {\"hovertemplate\": \"neighbourhood=Keelesdale-Eglinton West<br>average_house_value=%{marker.size}<br>lat=%{lat}<br>lon=%{lon}<extra></extra>\", \"lat\": [43.68572747], \"legendgroup\": \"Keelesdale-Eglinton West\", \"lon\": [-79.47143711], \"marker\": {\"color\": \"#636efa\", \"size\": [322774.75], \"sizemode\": \"area\", \"sizeref\": 3816.214375}, \"mode\": \"markers\", \"name\": \"Keelesdale-Eglinton West\", \"showlegend\": true, \"subplot\": \"mapbox\", \"type\": \"scattermapbox\"}, {\"hovertemplate\": \"neighbourhood=Kennedy Park<br>average_house_value=%{marker.size}<br>lat=%{lat}<br>lon=%{lon}<extra></extra>\", \"lat\": [43.72555572], \"legendgroup\": \"Kennedy Park\", \"lon\": [-79.26038221], \"marker\": {\"color\": \"#EF553B\", \"size\": [287233.5], \"sizemode\": \"area\", \"sizeref\": 3816.214375}, \"mode\": \"markers\", \"name\": \"Kennedy Park\", \"showlegend\": true, \"subplot\": \"mapbox\", \"type\": \"scattermapbox\"}, {\"hovertemplate\": \"neighbourhood=Kensington-Chinatown<br>average_house_value=%{marker.size}<br>lat=%{lat}<br>lon=%{lon}<extra></extra>\", \"lat\": [43.65355413], \"legendgroup\": \"Kensington-Chinatown\", \"lon\": [-79.39723988], \"marker\": {\"color\": \"#00cc96\", \"size\": [440485.75], \"sizemode\": \"area\", \"sizeref\": 3816.214375}, \"mode\": \"markers\", \"name\": \"Kensington-Chinatown\", \"showlegend\": true, \"subplot\": \"mapbox\", \"type\": \"scattermapbox\"}, {\"hovertemplate\": \"neighbourhood=Kingsview Village-The Westway<br>average_house_value=%{marker.size}<br>lat=%{lat}<br>lon=%{lon}<extra></extra>\", \"lat\": [43.69899257], \"legendgroup\": \"Kingsview Village-The Westway\", \"lon\": [-79.54786331], \"marker\": {\"color\": \"#ab63fa\", \"size\": [338344.75], \"sizemode\": \"area\", \"sizeref\": 3816.214375}, \"mode\": \"markers\", \"name\": \"Kingsview Village-The Westway\", \"showlegend\": true, \"subplot\": \"mapbox\", \"type\": \"scattermapbox\"}, {\"hovertemplate\": \"neighbourhood=Kingsway South<br>average_house_value=%{marker.size}<br>lat=%{lat}<br>lon=%{lon}<extra></extra>\", \"lat\": [43.65352043], \"legendgroup\": \"Kingsway South\", \"lon\": [-79.5105768], \"marker\": {\"color\": \"#FFA15A\", \"size\": [843234.25], \"sizemode\": \"area\", \"sizeref\": 3816.214375}, \"mode\": \"markers\", \"name\": \"Kingsway South\", \"showlegend\": true, \"subplot\": \"mapbox\", \"type\": \"scattermapbox\"}, {\"hovertemplate\": \"neighbourhood=L'Amoreaux<br>average_house_value=%{marker.size}<br>lat=%{lat}<br>lon=%{lon}<extra></extra>\", \"lat\": [43.79571603], \"legendgroup\": \"L'Amoreaux\", \"lon\": [-79.31408424], \"marker\": {\"color\": \"#19d3f3\", \"size\": [650307.75], \"sizemode\": \"area\", \"sizeref\": 3816.214375}, \"mode\": \"markers\", \"name\": \"L'Amoreaux\", \"showlegend\": true, \"subplot\": \"mapbox\", \"type\": \"scattermapbox\"}, {\"hovertemplate\": \"neighbourhood=Lambton Baby Point<br>average_house_value=%{marker.size}<br>lat=%{lat}<br>lon=%{lon}<extra></extra>\", \"lat\": [43.65742013], \"legendgroup\": \"Lambton Baby Point\", \"lon\": [-79.49604526], \"marker\": {\"color\": \"#FF6692\", \"size\": [336617.75], \"sizemode\": \"area\", \"sizeref\": 3816.214375}, \"mode\": \"markers\", \"name\": \"Lambton Baby Point\", \"showlegend\": true, \"subplot\": \"mapbox\", \"type\": \"scattermapbox\"}, {\"hovertemplate\": \"neighbourhood=Lansing-Westgate<br>average_house_value=%{marker.size}<br>lat=%{lat}<br>lon=%{lon}<extra></extra>\", \"lat\": [43.75427115], \"legendgroup\": \"Lansing-Westgate\", \"lon\": [-79.42474772], \"marker\": {\"color\": \"#B6E880\", \"size\": [613216.5], \"sizemode\": \"area\", \"sizeref\": 3816.214375}, \"mode\": \"markers\", \"name\": \"Lansing-Westgate\", \"showlegend\": true, \"subplot\": \"mapbox\", \"type\": \"scattermapbox\"}, {\"hovertemplate\": \"neighbourhood=Lawrence Park North<br>average_house_value=%{marker.size}<br>lat=%{lat}<br>lon=%{lon}<extra></extra>\", \"lat\": [43.73006017], \"legendgroup\": \"Lawrence Park North\", \"lon\": [-79.40397836], \"marker\": {\"color\": \"#FF97FF\", \"size\": [759392.5], \"sizemode\": \"area\", \"sizeref\": 3816.214375}, \"mode\": \"markers\", \"name\": \"Lawrence Park North\", \"showlegend\": true, \"subplot\": \"mapbox\", \"type\": \"scattermapbox\"}, {\"hovertemplate\": \"neighbourhood=Lawrence Park South<br>average_house_value=%{marker.size}<br>lat=%{lat}<br>lon=%{lon}<extra></extra>\", \"lat\": [43.7172117], \"legendgroup\": \"Lawrence Park South\", \"lon\": [-79.40603941], \"marker\": {\"color\": \"#FECB52\", \"size\": [1094027.75], \"sizemode\": \"area\", \"sizeref\": 3816.214375}, \"mode\": \"markers\", \"name\": \"Lawrence Park South\", \"showlegend\": true, \"subplot\": \"mapbox\", \"type\": \"scattermapbox\"}, {\"hovertemplate\": \"neighbourhood=Leaside-Bennington<br>average_house_value=%{marker.size}<br>lat=%{lat}<br>lon=%{lon}<extra></extra>\", \"lat\": [43.70379663], \"legendgroup\": \"Leaside-Bennington\", \"lon\": [-79.36607234], \"marker\": {\"color\": \"#636efa\", \"size\": [806471.75], \"sizemode\": \"area\", \"sizeref\": 3816.214375}, \"mode\": \"markers\", \"name\": \"Leaside-Bennington\", \"showlegend\": true, \"subplot\": \"mapbox\", \"type\": \"scattermapbox\"}, {\"hovertemplate\": \"neighbourhood=Little Portugal<br>average_house_value=%{marker.size}<br>lat=%{lat}<br>lon=%{lon}<extra></extra>\", \"lat\": [43.64753593], \"legendgroup\": \"Little Portugal\", \"lon\": [-79.43032271], \"marker\": {\"color\": \"#EF553B\", \"size\": [540192.5], \"sizemode\": \"area\", \"sizeref\": 3816.214375}, \"mode\": \"markers\", \"name\": \"Little Portugal\", \"showlegend\": true, \"subplot\": \"mapbox\", \"type\": \"scattermapbox\"}, {\"hovertemplate\": \"neighbourhood=Long Branch<br>average_house_value=%{marker.size}<br>lat=%{lat}<br>lon=%{lon}<extra></extra>\", \"lat\": [43.59236169], \"legendgroup\": \"Long Branch\", \"lon\": [-79.53334545], \"marker\": {\"color\": \"#00cc96\", \"size\": [385830.25], \"sizemode\": \"area\", \"sizeref\": 3816.214375}, \"mode\": \"markers\", \"name\": \"Long Branch\", \"showlegend\": true, \"subplot\": \"mapbox\", \"type\": \"scattermapbox\"}, {\"hovertemplate\": \"neighbourhood=Malvern<br>average_house_value=%{marker.size}<br>lat=%{lat}<br>lon=%{lon}<extra></extra>\", \"lat\": [43.8036582], \"legendgroup\": \"Malvern\", \"lon\": [-79.22251662], \"marker\": {\"color\": \"#ab63fa\", \"size\": [256880.25], \"sizemode\": \"area\", \"sizeref\": 3816.214375}, \"mode\": \"markers\", \"name\": \"Malvern\", \"showlegend\": true, \"subplot\": \"mapbox\", \"type\": \"scattermapbox\"}, {\"hovertemplate\": \"neighbourhood=Maple Leaf<br>average_house_value=%{marker.size}<br>lat=%{lat}<br>lon=%{lon}<extra></extra>\", \"lat\": [43.71557394], \"legendgroup\": \"Maple Leaf\", \"lon\": [-79.48075802], \"marker\": {\"color\": \"#FFA15A\", \"size\": [453229.0], \"sizemode\": \"area\", \"sizeref\": 3816.214375}, \"mode\": \"markers\", \"name\": \"Maple Leaf\", \"showlegend\": true, \"subplot\": \"mapbox\", \"type\": \"scattermapbox\"}, {\"hovertemplate\": \"neighbourhood=Markland Wood<br>average_house_value=%{marker.size}<br>lat=%{lat}<br>lon=%{lon}<extra></extra>\", \"lat\": [43.63354175], \"legendgroup\": \"Markland Wood\", \"lon\": [-79.57343155], \"marker\": {\"color\": \"#19d3f3\", \"size\": [443974.75], \"sizemode\": \"area\", \"sizeref\": 3816.214375}, \"mode\": \"markers\", \"name\": \"Markland Wood\", \"showlegend\": true, \"subplot\": \"mapbox\", \"type\": \"scattermapbox\"}, {\"hovertemplate\": \"neighbourhood=Milliken<br>average_house_value=%{marker.size}<br>lat=%{lat}<br>lon=%{lon}<extra></extra>\", \"lat\": [43.82069079], \"legendgroup\": \"Milliken\", \"lon\": [-79.27500892], \"marker\": {\"color\": \"#FF6692\", \"size\": [344988.25], \"sizemode\": \"area\", \"sizeref\": 3816.214375}, \"mode\": \"markers\", \"name\": \"Milliken\", \"showlegend\": true, \"subplot\": \"mapbox\", \"type\": \"scattermapbox\"}, {\"hovertemplate\": \"neighbourhood=Mimico<br>average_house_value=%{marker.size}<br>lat=%{lat}<br>lon=%{lon}<extra></extra>\", \"lat\": [43.61592386], \"legendgroup\": \"Mimico\", \"lon\": [-79.50013664], \"marker\": {\"color\": \"#B6E880\", \"size\": [393490.5], \"sizemode\": \"area\", \"sizeref\": 3816.214375}, \"mode\": \"markers\", \"name\": \"Mimico\", \"showlegend\": true, \"subplot\": \"mapbox\", \"type\": \"scattermapbox\"}, {\"hovertemplate\": \"neighbourhood=Morningside<br>average_house_value=%{marker.size}<br>lat=%{lat}<br>lon=%{lon}<extra></extra>\", \"lat\": [43.78239861], \"legendgroup\": \"Morningside\", \"lon\": [-79.20704119], \"marker\": {\"color\": \"#FF97FF\", \"size\": [285013.5], \"sizemode\": \"area\", \"sizeref\": 3816.214375}, \"mode\": \"markers\", \"name\": \"Morningside\", \"showlegend\": true, \"subplot\": \"mapbox\", \"type\": \"scattermapbox\"}, {\"hovertemplate\": \"neighbourhood=Moss Park<br>average_house_value=%{marker.size}<br>lat=%{lat}<br>lon=%{lon}<extra></extra>\", \"lat\": [43.65651762], \"legendgroup\": \"Moss Park\", \"lon\": [-79.36729703], \"marker\": {\"color\": \"#FECB52\", \"size\": [409456.0], \"sizemode\": \"area\", \"sizeref\": 3816.214375}, \"mode\": \"markers\", \"name\": \"Moss Park\", \"showlegend\": true, \"subplot\": \"mapbox\", \"type\": \"scattermapbox\"}, {\"hovertemplate\": \"neighbourhood=Mount Dennis<br>average_house_value=%{marker.size}<br>lat=%{lat}<br>lon=%{lon}<extra></extra>\", \"lat\": [43.68814409], \"legendgroup\": \"Mount Dennis\", \"lon\": [-79.49998906], \"marker\": {\"color\": \"#636efa\", \"size\": [262308.75], \"sizemode\": \"area\", \"sizeref\": 3816.214375}, \"mode\": \"markers\", \"name\": \"Mount Dennis\", \"showlegend\": true, \"subplot\": \"mapbox\", \"type\": \"scattermapbox\"}, {\"hovertemplate\": \"neighbourhood=Mount Olive-Silverstone-Jamestown<br>average_house_value=%{marker.size}<br>lat=%{lat}<br>lon=%{lon}<extra></extra>\", \"lat\": [43.7468678], \"legendgroup\": \"Mount Olive-Silverstone-Jamestown\", \"lon\": [-79.58725926], \"marker\": {\"color\": \"#EF553B\", \"size\": [253182.25], \"sizemode\": \"area\", \"sizeref\": 3816.214375}, \"mode\": \"markers\", \"name\": \"Mount Olive-Silverstone-Jamestown\", \"showlegend\": true, \"subplot\": \"mapbox\", \"type\": \"scattermapbox\"}, {\"hovertemplate\": \"neighbourhood=Mount Pleasant East<br>average_house_value=%{marker.size}<br>lat=%{lat}<br>lon=%{lon}<extra></extra>\", \"lat\": [43.70485217], \"legendgroup\": \"Mount Pleasant East\", \"lon\": [-79.38492395], \"marker\": {\"color\": \"#00cc96\", \"size\": [677370.25], \"sizemode\": \"area\", \"sizeref\": 3816.214375}, \"mode\": \"markers\", \"name\": \"Mount Pleasant East\", \"showlegend\": true, \"subplot\": \"mapbox\", \"type\": \"scattermapbox\"}, {\"hovertemplate\": \"neighbourhood=Mount Pleasant West<br>average_house_value=%{marker.size}<br>lat=%{lat}<br>lon=%{lon}<extra></extra>\", \"lat\": [43.70443517], \"legendgroup\": \"Mount Pleasant West\", \"lon\": [-79.39335955], \"marker\": {\"color\": \"#ab63fa\", \"size\": [468181.75], \"sizemode\": \"area\", \"sizeref\": 3816.214375}, \"mode\": \"markers\", \"name\": \"Mount Pleasant West\", \"showlegend\": true, \"subplot\": \"mapbox\", \"type\": \"scattermapbox\"}, {\"hovertemplate\": \"neighbourhood=New Toronto<br>average_house_value=%{marker.size}<br>lat=%{lat}<br>lon=%{lon}<extra></extra>\", \"lat\": [43.6005886], \"legendgroup\": \"New Toronto\", \"lon\": [-79.51035809], \"marker\": {\"color\": \"#FFA15A\", \"size\": [407812.0], \"sizemode\": \"area\", \"sizeref\": 3816.214375}, \"mode\": \"markers\", \"name\": \"New Toronto\", \"showlegend\": true, \"subplot\": \"mapbox\", \"type\": \"scattermapbox\"}, {\"hovertemplate\": \"neighbourhood=Newtonbrook East<br>average_house_value=%{marker.size}<br>lat=%{lat}<br>lon=%{lon}<extra></extra>\", \"lat\": [43.79153579], \"legendgroup\": \"Newtonbrook East\", \"lon\": [-79.40593745], \"marker\": {\"color\": \"#19d3f3\", \"size\": [559573.25], \"sizemode\": \"area\", \"sizeref\": 3816.214375}, \"mode\": \"markers\", \"name\": \"Newtonbrook East\", \"showlegend\": true, \"subplot\": \"mapbox\", \"type\": \"scattermapbox\"}, {\"hovertemplate\": \"neighbourhood=Newtonbrook West<br>average_house_value=%{marker.size}<br>lat=%{lat}<br>lon=%{lon}<extra></extra>\", \"lat\": [43.78582994], \"legendgroup\": \"Newtonbrook West\", \"lon\": [-79.43142151], \"marker\": {\"color\": \"#FF6692\", \"size\": [460568.5], \"sizemode\": \"area\", \"sizeref\": 3816.214375}, \"mode\": \"markers\", \"name\": \"Newtonbrook West\", \"showlegend\": true, \"subplot\": \"mapbox\", \"type\": \"scattermapbox\"}, {\"hovertemplate\": \"neighbourhood=Niagara<br>average_house_value=%{marker.size}<br>lat=%{lat}<br>lon=%{lon}<extra></extra>\", \"lat\": [43.63668088], \"legendgroup\": \"Niagara\", \"lon\": [-79.4124204], \"marker\": {\"color\": \"#B6E880\", \"size\": [369993.0], \"sizemode\": \"area\", \"sizeref\": 3816.214375}, \"mode\": \"markers\", \"name\": \"Niagara\", \"showlegend\": true, \"subplot\": \"mapbox\", \"type\": \"scattermapbox\"}, {\"hovertemplate\": \"neighbourhood=North Riverdale<br>average_house_value=%{marker.size}<br>lat=%{lat}<br>lon=%{lon}<extra></extra>\", \"lat\": [43.67199515], \"legendgroup\": \"North Riverdale\", \"lon\": [-79.35126041], \"marker\": {\"color\": \"#FF97FF\", \"size\": [703063.25], \"sizemode\": \"area\", \"sizeref\": 3816.214375}, \"mode\": \"markers\", \"name\": \"North Riverdale\", \"showlegend\": true, \"subplot\": \"mapbox\", \"type\": \"scattermapbox\"}, {\"hovertemplate\": \"neighbourhood=North St.James Town<br>average_house_value=%{marker.size}<br>lat=%{lat}<br>lon=%{lon}<extra></extra>\", \"lat\": [43.66962341], \"legendgroup\": \"North St.James Town\", \"lon\": [-79.37524658], \"marker\": {\"color\": \"#FECB52\", \"size\": [411455.75], \"sizemode\": \"area\", \"sizeref\": 3816.214375}, \"mode\": \"markers\", \"name\": \"North St.James Town\", \"showlegend\": true, \"subplot\": \"mapbox\", \"type\": \"scattermapbox\"}, {\"hovertemplate\": \"neighbourhood=O'Connor-Parkview<br>average_house_value=%{marker.size}<br>lat=%{lat}<br>lon=%{lon}<extra></extra>\", \"lat\": [43.70680049], \"legendgroup\": \"O'Connor-Parkview\", \"lon\": [-79.31222777], \"marker\": {\"color\": \"#636efa\", \"size\": [298315.75], \"sizemode\": \"area\", \"sizeref\": 3816.214375}, \"mode\": \"markers\", \"name\": \"O'Connor-Parkview\", \"showlegend\": true, \"subplot\": \"mapbox\", \"type\": \"scattermapbox\"}, {\"hovertemplate\": \"neighbourhood=Oakridge<br>average_house_value=%{marker.size}<br>lat=%{lat}<br>lon=%{lon}<extra></extra>\", \"lat\": [43.69740813], \"legendgroup\": \"Oakridge\", \"lon\": [-79.27970834], \"marker\": {\"color\": \"#EF553B\", \"size\": [422257.5], \"sizemode\": \"area\", \"sizeref\": 3816.214375}, \"mode\": \"markers\", \"name\": \"Oakridge\", \"showlegend\": true, \"subplot\": \"mapbox\", \"type\": \"scattermapbox\"}, {\"hovertemplate\": \"neighbourhood=Oakwood Village<br>average_house_value=%{marker.size}<br>lat=%{lat}<br>lon=%{lon}<extra></extra>\", \"lat\": [43.68856556], \"legendgroup\": \"Oakwood Village\", \"lon\": [-79.43978548], \"marker\": {\"color\": \"#00cc96\", \"size\": [441202.75], \"sizemode\": \"area\", \"sizeref\": 3816.214375}, \"mode\": \"markers\", \"name\": \"Oakwood Village\", \"showlegend\": true, \"subplot\": \"mapbox\", \"type\": \"scattermapbox\"}, {\"hovertemplate\": \"neighbourhood=Old East York<br>average_house_value=%{marker.size}<br>lat=%{lat}<br>lon=%{lon}<extra></extra>\", \"lat\": [43.69678127], \"legendgroup\": \"Old East York\", \"lon\": [-79.33548836], \"marker\": {\"color\": \"#ab63fa\", \"size\": [443413.5], \"sizemode\": \"area\", \"sizeref\": 3816.214375}, \"mode\": \"markers\", \"name\": \"Old East York\", \"showlegend\": true, \"subplot\": \"mapbox\", \"type\": \"scattermapbox\"}, {\"hovertemplate\": \"neighbourhood=Palmerston-Little Italy<br>average_house_value=%{marker.size}<br>lat=%{lat}<br>lon=%{lon}<extra></extra>\", \"lat\": [43.6591571], \"legendgroup\": \"Palmerston-Little Italy\", \"lon\": [-79.41840873], \"marker\": {\"color\": \"#FFA15A\", \"size\": [622191.75], \"sizemode\": \"area\", \"sizeref\": 3816.214375}, \"mode\": \"markers\", \"name\": \"Palmerston-Little Italy\", \"showlegend\": true, \"subplot\": \"mapbox\", \"type\": \"scattermapbox\"}, {\"hovertemplate\": \"neighbourhood=Parkwoods-Donalda<br>average_house_value=%{marker.size}<br>lat=%{lat}<br>lon=%{lon}<extra></extra>\", \"lat\": [43.75503347], \"legendgroup\": \"Parkwoods-Donalda\", \"lon\": [-79.33017952], \"marker\": {\"color\": \"#19d3f3\", \"size\": [454652.5], \"sizemode\": \"area\", \"sizeref\": 3816.214375}, \"mode\": \"markers\", \"name\": \"Parkwoods-Donalda\", \"showlegend\": true, \"subplot\": \"mapbox\", \"type\": \"scattermapbox\"}, {\"hovertemplate\": \"neighbourhood=Pelmo Park-Humberlea<br>average_house_value=%{marker.size}<br>lat=%{lat}<br>lon=%{lon}<extra></extra>\", \"lat\": [43.7175146], \"legendgroup\": \"Pelmo Park-Humberlea\", \"lon\": [-79.5282822], \"marker\": {\"color\": \"#FF6692\", \"size\": [405431.25], \"sizemode\": \"area\", \"sizeref\": 3816.214375}, \"mode\": \"markers\", \"name\": \"Pelmo Park-Humberlea\", \"showlegend\": true, \"subplot\": \"mapbox\", \"type\": \"scattermapbox\"}, {\"hovertemplate\": \"neighbourhood=Playter Estates-Danforth<br>average_house_value=%{marker.size}<br>lat=%{lat}<br>lon=%{lon}<extra></extra>\", \"lat\": [43.67970047], \"legendgroup\": \"Playter Estates-Danforth\", \"lon\": [-79.35488729], \"marker\": {\"color\": \"#B6E880\", \"size\": [648859.25], \"sizemode\": \"area\", \"sizeref\": 3816.214375}, \"mode\": \"markers\", \"name\": \"Playter Estates-Danforth\", \"showlegend\": true, \"subplot\": \"mapbox\", \"type\": \"scattermapbox\"}, {\"hovertemplate\": \"neighbourhood=Pleasant View<br>average_house_value=%{marker.size}<br>lat=%{lat}<br>lon=%{lon}<extra></extra>\", \"lat\": [43.78698176], \"legendgroup\": \"Pleasant View\", \"lon\": [-79.33494843], \"marker\": {\"color\": \"#FF97FF\", \"size\": [373375.25], \"sizemode\": \"area\", \"sizeref\": 3816.214375}, \"mode\": \"markers\", \"name\": \"Pleasant View\", \"showlegend\": true, \"subplot\": \"mapbox\", \"type\": \"scattermapbox\"}, {\"hovertemplate\": \"neighbourhood=Princess-Rosethorn<br>average_house_value=%{marker.size}<br>lat=%{lat}<br>lon=%{lon}<extra></extra>\", \"lat\": [43.6660506], \"legendgroup\": \"Princess-Rosethorn\", \"lon\": [-79.54455929], \"marker\": {\"color\": \"#FECB52\", \"size\": [765746.5], \"sizemode\": \"area\", \"sizeref\": 3816.214375}, \"mode\": \"markers\", \"name\": \"Princess-Rosethorn\", \"showlegend\": true, \"subplot\": \"mapbox\", \"type\": \"scattermapbox\"}, {\"hovertemplate\": \"neighbourhood=Regent Park<br>average_house_value=%{marker.size}<br>lat=%{lat}<br>lon=%{lon}<extra></extra>\", \"lat\": [43.65999214], \"legendgroup\": \"Regent Park\", \"lon\": [-79.36050881], \"marker\": {\"color\": \"#636efa\", \"size\": [392578.25], \"sizemode\": \"area\", \"sizeref\": 3816.214375}, \"mode\": \"markers\", \"name\": \"Regent Park\", \"showlegend\": true, \"subplot\": \"mapbox\", \"type\": \"scattermapbox\"}, {\"hovertemplate\": \"neighbourhood=Rexdale-Kipling<br>average_house_value=%{marker.size}<br>lat=%{lat}<br>lon=%{lon}<extra></extra>\", \"lat\": [43.72372548], \"legendgroup\": \"Rexdale-Kipling\", \"lon\": [-79.56622841], \"marker\": {\"color\": \"#EF553B\", \"size\": [360999.25], \"sizemode\": \"area\", \"sizeref\": 3816.214375}, \"mode\": \"markers\", \"name\": \"Rexdale-Kipling\", \"showlegend\": true, \"subplot\": \"mapbox\", \"type\": \"scattermapbox\"}, {\"hovertemplate\": \"neighbourhood=Rockcliffe-Smythe<br>average_house_value=%{marker.size}<br>lat=%{lat}<br>lon=%{lon}<extra></extra>\", \"lat\": [43.67479045], \"legendgroup\": \"Rockcliffe-Smythe\", \"lon\": [-79.49442045], \"marker\": {\"color\": \"#00cc96\", \"size\": [345660.25], \"sizemode\": \"area\", \"sizeref\": 3816.214375}, \"mode\": \"markers\", \"name\": \"Rockcliffe-Smythe\", \"showlegend\": true, \"subplot\": \"mapbox\", \"type\": \"scattermapbox\"}, {\"hovertemplate\": \"neighbourhood=Roncesvalles<br>average_house_value=%{marker.size}<br>lat=%{lat}<br>lon=%{lon}<extra></extra>\", \"lat\": [43.64612299], \"legendgroup\": \"Roncesvalles\", \"lon\": [-79.44299245], \"marker\": {\"color\": \"#ab63fa\", \"size\": [508937.25], \"sizemode\": \"area\", \"sizeref\": 3816.214375}, \"mode\": \"markers\", \"name\": \"Roncesvalles\", \"showlegend\": true, \"subplot\": \"mapbox\", \"type\": \"scattermapbox\"}, {\"hovertemplate\": \"neighbourhood=Rosedale-Moore Park<br>average_house_value=%{marker.size}<br>lat=%{lat}<br>lon=%{lon}<extra></extra>\", \"lat\": [43.68282043], \"legendgroup\": \"Rosedale-Moore Park\", \"lon\": [-79.3796694], \"marker\": {\"color\": \"#FFA15A\", \"size\": [1093640.0], \"sizemode\": \"area\", \"sizeref\": 3816.214375}, \"mode\": \"markers\", \"name\": \"Rosedale-Moore Park\", \"showlegend\": true, \"subplot\": \"mapbox\", \"type\": \"scattermapbox\"}, {\"hovertemplate\": \"neighbourhood=Rouge<br>average_house_value=%{marker.size}<br>lat=%{lat}<br>lon=%{lon}<extra></extra>\", \"lat\": [43.82120126], \"legendgroup\": \"Rouge\", \"lon\": [-79.18634345], \"marker\": {\"color\": \"#19d3f3\", \"size\": [376286.75], \"sizemode\": \"area\", \"sizeref\": 3816.214375}, \"mode\": \"markers\", \"name\": \"Rouge\", \"showlegend\": true, \"subplot\": \"mapbox\", \"type\": \"scattermapbox\"}, {\"hovertemplate\": \"neighbourhood=Runnymede-Bloor West Village<br>average_house_value=%{marker.size}<br>lat=%{lat}<br>lon=%{lon}<extra></extra>\", \"lat\": [43.65926882], \"legendgroup\": \"Runnymede-Bloor West Village\", \"lon\": [-79.48570818], \"marker\": {\"color\": \"#FF6692\", \"size\": [552082.0], \"sizemode\": \"area\", \"sizeref\": 3816.214375}, \"mode\": \"markers\", \"name\": \"Runnymede-Bloor West Village\", \"showlegend\": true, \"subplot\": \"mapbox\", \"type\": \"scattermapbox\"}, {\"hovertemplate\": \"neighbourhood=Rustic<br>average_house_value=%{marker.size}<br>lat=%{lat}<br>lon=%{lon}<extra></extra>\", \"lat\": [43.71160912], \"legendgroup\": \"Rustic\", \"lon\": [-79.49809147], \"marker\": {\"color\": \"#B6E880\", \"size\": [431090.5], \"sizemode\": \"area\", \"sizeref\": 3816.214375}, \"mode\": \"markers\", \"name\": \"Rustic\", \"showlegend\": true, \"subplot\": \"mapbox\", \"type\": \"scattermapbox\"}, {\"hovertemplate\": \"neighbourhood=Scarborough Village<br>average_house_value=%{marker.size}<br>lat=%{lat}<br>lon=%{lon}<extra></extra>\", \"lat\": [43.73865186], \"legendgroup\": \"Scarborough Village\", \"lon\": [-79.21681262], \"marker\": {\"color\": \"#FF97FF\", \"size\": [329835.75], \"sizemode\": \"area\", \"sizeref\": 3816.214375}, \"mode\": \"markers\", \"name\": \"Scarborough Village\", \"showlegend\": true, \"subplot\": \"mapbox\", \"type\": \"scattermapbox\"}, {\"hovertemplate\": \"neighbourhood=South Parkdale<br>average_house_value=%{marker.size}<br>lat=%{lat}<br>lon=%{lon}<extra></extra>\", \"lat\": [43.63669952], \"legendgroup\": \"South Parkdale\", \"lon\": [-79.43933783], \"marker\": {\"color\": \"#FECB52\", \"size\": [447478.5], \"sizemode\": \"area\", \"sizeref\": 3816.214375}, \"mode\": \"markers\", \"name\": \"South Parkdale\", \"showlegend\": true, \"subplot\": \"mapbox\", \"type\": \"scattermapbox\"}, {\"hovertemplate\": \"neighbourhood=South Riverdale<br>average_house_value=%{marker.size}<br>lat=%{lat}<br>lon=%{lon}<extra></extra>\", \"lat\": [43.64929206], \"legendgroup\": \"South Riverdale\", \"lon\": [-79.33565132], \"marker\": {\"color\": \"#636efa\", \"size\": [455020.5], \"sizemode\": \"area\", \"sizeref\": 3816.214375}, \"mode\": \"markers\", \"name\": \"South Riverdale\", \"showlegend\": true, \"subplot\": \"mapbox\", \"type\": \"scattermapbox\"}, {\"hovertemplate\": \"neighbourhood=St.Andrew-Windfields<br>average_house_value=%{marker.size}<br>lat=%{lat}<br>lon=%{lon}<extra></extra>\", \"lat\": [43.75624583], \"legendgroup\": \"St.Andrew-Windfields\", \"lon\": [-79.37903709], \"marker\": {\"color\": \"#EF553B\", \"size\": [999107.0], \"sizemode\": \"area\", \"sizeref\": 3816.214375}, \"mode\": \"markers\", \"name\": \"St.Andrew-Windfields\", \"showlegend\": true, \"subplot\": \"mapbox\", \"type\": \"scattermapbox\"}, {\"hovertemplate\": \"neighbourhood=Steeles<br>average_house_value=%{marker.size}<br>lat=%{lat}<br>lon=%{lon}<extra></extra>\", \"lat\": [43.81295883], \"legendgroup\": \"Steeles\", \"lon\": [-79.32120701], \"marker\": {\"color\": \"#00cc96\", \"size\": [376014.5], \"sizemode\": \"area\", \"sizeref\": 3816.214375}, \"mode\": \"markers\", \"name\": \"Steeles\", \"showlegend\": true, \"subplot\": \"mapbox\", \"type\": \"scattermapbox\"}, {\"hovertemplate\": \"neighbourhood=Stonegate-Queensway<br>average_house_value=%{marker.size}<br>lat=%{lat}<br>lon=%{lon}<extra></extra>\", \"lat\": [43.63551813], \"legendgroup\": \"Stonegate-Queensway\", \"lon\": [-79.50112821], \"marker\": {\"color\": \"#ab63fa\", \"size\": [550432.25], \"sizemode\": \"area\", \"sizeref\": 3816.214375}, \"mode\": \"markers\", \"name\": \"Stonegate-Queensway\", \"showlegend\": true, \"subplot\": \"mapbox\", \"type\": \"scattermapbox\"}, {\"hovertemplate\": \"neighbourhood=Tam O'Shanter-Sullivan<br>average_house_value=%{marker.size}<br>lat=%{lat}<br>lon=%{lon}<extra></extra>\", \"lat\": [43.78012985], \"legendgroup\": \"Tam O'Shanter-Sullivan\", \"lon\": [-79.30291871], \"marker\": {\"color\": \"#FFA15A\", \"size\": [353926.5], \"sizemode\": \"area\", \"sizeref\": 3816.214375}, \"mode\": \"markers\", \"name\": \"Tam O'Shanter-Sullivan\", \"showlegend\": true, \"subplot\": \"mapbox\", \"type\": \"scattermapbox\"}, {\"hovertemplate\": \"neighbourhood=Taylor-Massey<br>average_house_value=%{marker.size}<br>lat=%{lat}<br>lon=%{lon}<extra></extra>\", \"lat\": [43.69499819], \"legendgroup\": \"Taylor-Massey\", \"lon\": [-79.29590112], \"marker\": {\"color\": \"#19d3f3\", \"size\": [239414.0], \"sizemode\": \"area\", \"sizeref\": 3816.214375}, \"mode\": \"markers\", \"name\": \"Taylor-Massey\", \"showlegend\": true, \"subplot\": \"mapbox\", \"type\": \"scattermapbox\"}, {\"hovertemplate\": \"neighbourhood=The Beaches<br>average_house_value=%{marker.size}<br>lat=%{lat}<br>lon=%{lon}<extra></extra>\", \"lat\": [43.67104999], \"legendgroup\": \"The Beaches\", \"lon\": [-79.2996013], \"marker\": {\"color\": \"#FF6692\", \"size\": [666306.0], \"sizemode\": \"area\", \"sizeref\": 3816.214375}, \"mode\": \"markers\", \"name\": \"The Beaches\", \"showlegend\": true, \"subplot\": \"mapbox\", \"type\": \"scattermapbox\"}, {\"hovertemplate\": \"neighbourhood=Thistletown-Beaumond Heights<br>average_house_value=%{marker.size}<br>lat=%{lat}<br>lon=%{lon}<extra></extra>\", \"lat\": [43.73798792], \"legendgroup\": \"Thistletown-Beaumond Heights\", \"lon\": [-79.56349102], \"marker\": {\"color\": \"#B6E880\", \"size\": [375864.0], \"sizemode\": \"area\", \"sizeref\": 3816.214375}, \"mode\": \"markers\", \"name\": \"Thistletown-Beaumond Heights\", \"showlegend\": true, \"subplot\": \"mapbox\", \"type\": \"scattermapbox\"}, {\"hovertemplate\": \"neighbourhood=Thorncliffe Park<br>average_house_value=%{marker.size}<br>lat=%{lat}<br>lon=%{lon}<extra></extra>\", \"lat\": [43.70774921], \"legendgroup\": \"Thorncliffe Park\", \"lon\": [-79.34998361], \"marker\": {\"color\": \"#FF97FF\", \"size\": [255264.75], \"sizemode\": \"area\", \"sizeref\": 3816.214375}, \"mode\": \"markers\", \"name\": \"Thorncliffe Park\", \"showlegend\": true, \"subplot\": \"mapbox\", \"type\": \"scattermapbox\"}, {\"hovertemplate\": \"neighbourhood=Trinity-Bellwoods<br>average_house_value=%{marker.size}<br>lat=%{lat}<br>lon=%{lon}<extra></extra>\", \"lat\": [43.6501763], \"legendgroup\": \"Trinity-Bellwoods\", \"lon\": [-79.41534216], \"marker\": {\"color\": \"#FECB52\", \"size\": [534465.75], \"sizemode\": \"area\", \"sizeref\": 3816.214375}, \"mode\": \"markers\", \"name\": \"Trinity-Bellwoods\", \"showlegend\": true, \"subplot\": \"mapbox\", \"type\": \"scattermapbox\"}, {\"hovertemplate\": \"neighbourhood=University<br>average_house_value=%{marker.size}<br>lat=%{lat}<br>lon=%{lon}<extra></extra>\", \"lat\": [43.6625062], \"legendgroup\": \"University\", \"lon\": [-79.40117975], \"marker\": {\"color\": \"#636efa\", \"size\": [618316.75], \"sizemode\": \"area\", \"sizeref\": 3816.214375}, \"mode\": \"markers\", \"name\": \"University\", \"showlegend\": true, \"subplot\": \"mapbox\", \"type\": \"scattermapbox\"}, {\"hovertemplate\": \"neighbourhood=Victoria Village<br>average_house_value=%{marker.size}<br>lat=%{lat}<br>lon=%{lon}<extra></extra>\", \"lat\": [43.72848902], \"legendgroup\": \"Victoria Village\", \"lon\": [-79.31487383], \"marker\": {\"color\": \"#EF553B\", \"size\": [352133.0], \"sizemode\": \"area\", \"sizeref\": 3816.214375}, \"mode\": \"markers\", \"name\": \"Victoria Village\", \"showlegend\": true, \"subplot\": \"mapbox\", \"type\": \"scattermapbox\"}, {\"hovertemplate\": \"neighbourhood=Waterfront Communities-The Island<br>average_house_value=%{marker.size}<br>lat=%{lat}<br>lon=%{lon}<extra></extra>\", \"lat\": [43.63388036], \"legendgroup\": \"Waterfront Communities-The Island\", \"lon\": [-79.37720231], \"marker\": {\"color\": \"#00cc96\", \"size\": [376863.0], \"sizemode\": \"area\", \"sizeref\": 3816.214375}, \"mode\": \"markers\", \"name\": \"Waterfront Communities-The Island\", \"showlegend\": true, \"subplot\": \"mapbox\", \"type\": \"scattermapbox\"}, {\"hovertemplate\": \"neighbourhood=West Hill<br>average_house_value=%{marker.size}<br>lat=%{lat}<br>lon=%{lon}<extra></extra>\", \"lat\": [43.76749026], \"legendgroup\": \"West Hill\", \"lon\": [-79.17667603], \"marker\": {\"color\": \"#ab63fa\", \"size\": [284647.5], \"sizemode\": \"area\", \"sizeref\": 3816.214375}, \"mode\": \"markers\", \"name\": \"West Hill\", \"showlegend\": true, \"subplot\": \"mapbox\", \"type\": \"scattermapbox\"}, {\"hovertemplate\": \"neighbourhood=West Humber-Clairville<br>average_house_value=%{marker.size}<br>lat=%{lat}<br>lon=%{lon}<extra></extra>\", \"lat\": [43.7161804], \"legendgroup\": \"West Humber-Clairville\", \"lon\": [-79.59635645], \"marker\": {\"color\": \"#FFA15A\", \"size\": [343254.25], \"sizemode\": \"area\", \"sizeref\": 3816.214375}, \"mode\": \"markers\", \"name\": \"West Humber-Clairville\", \"showlegend\": true, \"subplot\": \"mapbox\", \"type\": \"scattermapbox\"}, {\"hovertemplate\": \"neighbourhood=Westminster-Branson<br>average_house_value=%{marker.size}<br>lat=%{lat}<br>lon=%{lon}<extra></extra>\", \"lat\": [43.77881322], \"legendgroup\": \"Westminster-Branson\", \"lon\": [-79.45241823], \"marker\": {\"color\": \"#19d3f3\", \"size\": [349320.25], \"sizemode\": \"area\", \"sizeref\": 3816.214375}, \"mode\": \"markers\", \"name\": \"Westminster-Branson\", \"showlegend\": true, \"subplot\": \"mapbox\", \"type\": \"scattermapbox\"}, {\"hovertemplate\": \"neighbourhood=Weston<br>average_house_value=%{marker.size}<br>lat=%{lat}<br>lon=%{lon}<extra></extra>\", \"lat\": [43.70271605], \"legendgroup\": \"Weston\", \"lon\": [-79.51572255], \"marker\": {\"color\": \"#FF6692\", \"size\": [308007.75], \"sizemode\": \"area\", \"sizeref\": 3816.214375}, \"mode\": \"markers\", \"name\": \"Weston\", \"showlegend\": true, \"subplot\": \"mapbox\", \"type\": \"scattermapbox\"}, {\"hovertemplate\": \"neighbourhood=Weston-Pellam Park<br>average_house_value=%{marker.size}<br>lat=%{lat}<br>lon=%{lon}<extra></extra>\", \"lat\": [43.67396204], \"legendgroup\": \"Weston-Pellam Park\", \"lon\": [-79.46024391], \"marker\": {\"color\": \"#B6E880\", \"size\": [351802.0], \"sizemode\": \"area\", \"sizeref\": 3816.214375}, \"mode\": \"markers\", \"name\": \"Weston-Pellam Park\", \"showlegend\": true, \"subplot\": \"mapbox\", \"type\": \"scattermapbox\"}, {\"hovertemplate\": \"neighbourhood=Wexford/Maryvale<br>average_house_value=%{marker.size}<br>lat=%{lat}<br>lon=%{lon}<extra></extra>\", \"lat\": [43.74857214], \"legendgroup\": \"Wexford/Maryvale\", \"lon\": [-79.29863657], \"marker\": {\"color\": \"#FF97FF\", \"size\": [348319.25], \"sizemode\": \"area\", \"sizeref\": 3816.214375}, \"mode\": \"markers\", \"name\": \"Wexford/Maryvale\", \"showlegend\": true, \"subplot\": \"mapbox\", \"type\": \"scattermapbox\"}, {\"hovertemplate\": \"neighbourhood=Willowdale East<br>average_house_value=%{marker.size}<br>lat=%{lat}<br>lon=%{lon}<extra></extra>\", \"lat\": [43.77060226], \"legendgroup\": \"Willowdale East\", \"lon\": [-79.40148379], \"marker\": {\"color\": \"#FECB52\", \"size\": [469045.5], \"sizemode\": \"area\", \"sizeref\": 3816.214375}, \"mode\": \"markers\", \"name\": \"Willowdale East\", \"showlegend\": true, \"subplot\": \"mapbox\", \"type\": \"scattermapbox\"}, {\"hovertemplate\": \"neighbourhood=Willowdale West<br>average_house_value=%{marker.size}<br>lat=%{lat}<br>lon=%{lon}<extra></extra>\", \"lat\": [43.77121049], \"legendgroup\": \"Willowdale West\", \"lon\": [-79.4275578], \"marker\": {\"color\": \"#636efa\", \"size\": [466134.75], \"sizemode\": \"area\", \"sizeref\": 3816.214375}, \"mode\": \"markers\", \"name\": \"Willowdale West\", \"showlegend\": true, \"subplot\": \"mapbox\", \"type\": \"scattermapbox\"}, {\"hovertemplate\": \"neighbourhood=Willowridge-Martingrove-Richview<br>average_house_value=%{marker.size}<br>lat=%{lat}<br>lon=%{lon}<extra></extra>\", \"lat\": [43.68364496], \"legendgroup\": \"Willowridge-Martingrove-Richview\", \"lon\": [-79.55422105], \"marker\": {\"color\": \"#EF553B\", \"size\": [464278.0], \"sizemode\": \"area\", \"sizeref\": 3816.214375}, \"mode\": \"markers\", \"name\": \"Willowridge-Martingrove-Richview\", \"showlegend\": true, \"subplot\": \"mapbox\", \"type\": \"scattermapbox\"}, {\"hovertemplate\": \"neighbourhood=Woburn<br>average_house_value=%{marker.size}<br>lat=%{lat}<br>lon=%{lon}<extra></extra>\", \"lat\": [43.76674024], \"legendgroup\": \"Woburn\", \"lon\": [-79.22858577], \"marker\": {\"color\": \"#00cc96\", \"size\": [298505.75], \"sizemode\": \"area\", \"sizeref\": 3816.214375}, \"mode\": \"markers\", \"name\": \"Woburn\", \"showlegend\": true, \"subplot\": \"mapbox\", \"type\": \"scattermapbox\"}, {\"hovertemplate\": \"neighbourhood=Woodbine Corridor<br>average_house_value=%{marker.size}<br>lat=%{lat}<br>lon=%{lon}<extra></extra>\", \"lat\": [43.67677292], \"legendgroup\": \"Woodbine Corridor\", \"lon\": [-79.31540738], \"marker\": {\"color\": \"#ab63fa\", \"size\": [445382.75], \"sizemode\": \"area\", \"sizeref\": 3816.214375}, \"mode\": \"markers\", \"name\": \"Woodbine Corridor\", \"showlegend\": true, \"subplot\": \"mapbox\", \"type\": \"scattermapbox\"}, {\"hovertemplate\": \"neighbourhood=Woodbine-Lumsden<br>average_house_value=%{marker.size}<br>lat=%{lat}<br>lon=%{lon}<extra></extra>\", \"lat\": [43.69410674], \"legendgroup\": \"Woodbine-Lumsden\", \"lon\": [-79.31116353], \"marker\": {\"color\": \"#FFA15A\", \"size\": [369918.5], \"sizemode\": \"area\", \"sizeref\": 3816.214375}, \"mode\": \"markers\", \"name\": \"Woodbine-Lumsden\", \"showlegend\": true, \"subplot\": \"mapbox\", \"type\": \"scattermapbox\"}, {\"hovertemplate\": \"neighbourhood=Wychwood<br>average_house_value=%{marker.size}<br>lat=%{lat}<br>lon=%{lon}<extra></extra>\", \"lat\": [43.67691927], \"legendgroup\": \"Wychwood\", \"lon\": [-79.42551495], \"marker\": {\"color\": \"#19d3f3\", \"size\": [565976.5], \"sizemode\": \"area\", \"sizeref\": 3816.214375}, \"mode\": \"markers\", \"name\": \"Wychwood\", \"showlegend\": true, \"subplot\": \"mapbox\", \"type\": \"scattermapbox\"}, {\"hovertemplate\": \"neighbourhood=Yonge-Eglinton<br>average_house_value=%{marker.size}<br>lat=%{lat}<br>lon=%{lon}<extra></extra>\", \"lat\": [43.70468937], \"legendgroup\": \"Yonge-Eglinton\", \"lon\": [-79.40359017], \"marker\": {\"color\": \"#FF6692\", \"size\": [809745.75], \"sizemode\": \"area\", \"sizeref\": 3816.214375}, \"mode\": \"markers\", \"name\": \"Yonge-Eglinton\", \"showlegend\": true, \"subplot\": \"mapbox\", \"type\": \"scattermapbox\"}, {\"hovertemplate\": \"neighbourhood=Yonge-St.Clair<br>average_house_value=%{marker.size}<br>lat=%{lat}<br>lon=%{lon}<extra></extra>\", \"lat\": [43.68785887], \"legendgroup\": \"Yonge-St.Clair\", \"lon\": [-79.39787077], \"marker\": {\"color\": \"#B6E880\", \"size\": [813220.25], \"sizemode\": \"area\", \"sizeref\": 3816.214375}, \"mode\": \"markers\", \"name\": \"Yonge-St.Clair\", \"showlegend\": true, \"subplot\": \"mapbox\", \"type\": \"scattermapbox\"}, {\"hovertemplate\": \"neighbourhood=York University Heights<br>average_house_value=%{marker.size}<br>lat=%{lat}<br>lon=%{lon}<extra></extra>\", \"lat\": [43.76573649], \"legendgroup\": \"York University Heights\", \"lon\": [-79.48888293], \"marker\": {\"color\": \"#FF97FF\", \"size\": [305899.5], \"sizemode\": \"area\", \"sizeref\": 3816.214375}, \"mode\": \"markers\", \"name\": \"York University Heights\", \"showlegend\": true, \"subplot\": \"mapbox\", \"type\": \"scattermapbox\"}, {\"hovertemplate\": \"neighbourhood=Yorkdale-Glen Park<br>average_house_value=%{marker.size}<br>lat=%{lat}<br>lon=%{lon}<extra></extra>\", \"lat\": [43.71467153], \"legendgroup\": \"Yorkdale-Glen Park\", \"lon\": [-79.45710807], \"marker\": {\"color\": \"#FECB52\", \"size\": [430861.25], \"sizemode\": \"area\", \"sizeref\": 3816.214375}, \"mode\": \"markers\", \"name\": \"Yorkdale-Glen Park\", \"showlegend\": true, \"subplot\": \"mapbox\", \"type\": \"scattermapbox\"}],                        {\"legend\": {\"itemsizing\": \"constant\", \"title\": {\"text\": \"neighbourhood\"}, \"tracegroupgap\": 0}, \"mapbox\": {\"center\": {\"lat\": 43.708840577642846, \"lon\": -79.4001855035}, \"domain\": {\"x\": [0.0, 1.0], \"y\": [0.0, 1.0]}, \"zoom\": 8}, \"template\": {\"data\": {\"bar\": [{\"error_x\": {\"color\": \"#2a3f5f\"}, \"error_y\": {\"color\": \"#2a3f5f\"}, \"marker\": {\"line\": {\"color\": \"#E5ECF6\", \"width\": 0.5}}, \"type\": \"bar\"}], \"barpolar\": [{\"marker\": {\"line\": {\"color\": \"#E5ECF6\", \"width\": 0.5}}, \"type\": \"barpolar\"}], \"carpet\": [{\"aaxis\": {\"endlinecolor\": \"#2a3f5f\", \"gridcolor\": \"white\", \"linecolor\": \"white\", \"minorgridcolor\": \"white\", \"startlinecolor\": \"#2a3f5f\"}, \"baxis\": {\"endlinecolor\": \"#2a3f5f\", \"gridcolor\": \"white\", \"linecolor\": \"white\", \"minorgridcolor\": \"white\", \"startlinecolor\": \"#2a3f5f\"}, \"type\": \"carpet\"}], \"choropleth\": [{\"colorbar\": {\"outlinewidth\": 0, \"ticks\": \"\"}, \"type\": \"choropleth\"}], \"contour\": [{\"colorbar\": {\"outlinewidth\": 0, \"ticks\": \"\"}, \"colorscale\": [[0.0, \"#0d0887\"], [0.1111111111111111, \"#46039f\"], [0.2222222222222222, \"#7201a8\"], [0.3333333333333333, \"#9c179e\"], [0.4444444444444444, \"#bd3786\"], [0.5555555555555556, \"#d8576b\"], [0.6666666666666666, \"#ed7953\"], [0.7777777777777778, \"#fb9f3a\"], [0.8888888888888888, \"#fdca26\"], [1.0, \"#f0f921\"]], \"type\": \"contour\"}], \"contourcarpet\": [{\"colorbar\": {\"outlinewidth\": 0, \"ticks\": \"\"}, \"type\": \"contourcarpet\"}], \"heatmap\": [{\"colorbar\": {\"outlinewidth\": 0, \"ticks\": \"\"}, \"colorscale\": [[0.0, \"#0d0887\"], [0.1111111111111111, \"#46039f\"], [0.2222222222222222, \"#7201a8\"], [0.3333333333333333, \"#9c179e\"], [0.4444444444444444, \"#bd3786\"], [0.5555555555555556, \"#d8576b\"], [0.6666666666666666, \"#ed7953\"], [0.7777777777777778, \"#fb9f3a\"], [0.8888888888888888, \"#fdca26\"], [1.0, \"#f0f921\"]], \"type\": \"heatmap\"}], \"heatmapgl\": [{\"colorbar\": {\"outlinewidth\": 0, \"ticks\": \"\"}, \"colorscale\": [[0.0, \"#0d0887\"], [0.1111111111111111, \"#46039f\"], [0.2222222222222222, \"#7201a8\"], [0.3333333333333333, \"#9c179e\"], [0.4444444444444444, \"#bd3786\"], [0.5555555555555556, \"#d8576b\"], [0.6666666666666666, \"#ed7953\"], [0.7777777777777778, \"#fb9f3a\"], [0.8888888888888888, \"#fdca26\"], [1.0, \"#f0f921\"]], \"type\": \"heatmapgl\"}], \"histogram\": [{\"marker\": {\"colorbar\": {\"outlinewidth\": 0, \"ticks\": \"\"}}, \"type\": \"histogram\"}], \"histogram2d\": [{\"colorbar\": {\"outlinewidth\": 0, \"ticks\": \"\"}, \"colorscale\": [[0.0, \"#0d0887\"], [0.1111111111111111, \"#46039f\"], [0.2222222222222222, \"#7201a8\"], [0.3333333333333333, \"#9c179e\"], [0.4444444444444444, \"#bd3786\"], [0.5555555555555556, \"#d8576b\"], [0.6666666666666666, \"#ed7953\"], [0.7777777777777778, \"#fb9f3a\"], [0.8888888888888888, \"#fdca26\"], [1.0, \"#f0f921\"]], \"type\": \"histogram2d\"}], \"histogram2dcontour\": [{\"colorbar\": {\"outlinewidth\": 0, \"ticks\": \"\"}, \"colorscale\": [[0.0, \"#0d0887\"], [0.1111111111111111, \"#46039f\"], [0.2222222222222222, \"#7201a8\"], [0.3333333333333333, \"#9c179e\"], [0.4444444444444444, \"#bd3786\"], [0.5555555555555556, \"#d8576b\"], [0.6666666666666666, \"#ed7953\"], [0.7777777777777778, \"#fb9f3a\"], [0.8888888888888888, \"#fdca26\"], [1.0, \"#f0f921\"]], \"type\": \"histogram2dcontour\"}], \"mesh3d\": [{\"colorbar\": {\"outlinewidth\": 0, \"ticks\": \"\"}, \"type\": \"mesh3d\"}], \"parcoords\": [{\"line\": {\"colorbar\": {\"outlinewidth\": 0, \"ticks\": \"\"}}, \"type\": \"parcoords\"}], \"pie\": [{\"automargin\": true, \"type\": \"pie\"}], \"scatter\": [{\"marker\": {\"colorbar\": {\"outlinewidth\": 0, \"ticks\": \"\"}}, \"type\": \"scatter\"}], \"scatter3d\": [{\"line\": {\"colorbar\": {\"outlinewidth\": 0, \"ticks\": \"\"}}, \"marker\": {\"colorbar\": {\"outlinewidth\": 0, \"ticks\": \"\"}}, \"type\": \"scatter3d\"}], \"scattercarpet\": [{\"marker\": {\"colorbar\": {\"outlinewidth\": 0, \"ticks\": \"\"}}, \"type\": \"scattercarpet\"}], \"scattergeo\": [{\"marker\": {\"colorbar\": {\"outlinewidth\": 0, \"ticks\": \"\"}}, \"type\": \"scattergeo\"}], \"scattergl\": [{\"marker\": {\"colorbar\": {\"outlinewidth\": 0, \"ticks\": \"\"}}, \"type\": \"scattergl\"}], \"scattermapbox\": [{\"marker\": {\"colorbar\": {\"outlinewidth\": 0, \"ticks\": \"\"}}, \"type\": \"scattermapbox\"}], \"scatterpolar\": [{\"marker\": {\"colorbar\": {\"outlinewidth\": 0, \"ticks\": \"\"}}, \"type\": \"scatterpolar\"}], \"scatterpolargl\": [{\"marker\": {\"colorbar\": {\"outlinewidth\": 0, \"ticks\": \"\"}}, \"type\": \"scatterpolargl\"}], \"scatterternary\": [{\"marker\": {\"colorbar\": {\"outlinewidth\": 0, \"ticks\": \"\"}}, \"type\": \"scatterternary\"}], \"surface\": [{\"colorbar\": {\"outlinewidth\": 0, \"ticks\": \"\"}, \"colorscale\": [[0.0, \"#0d0887\"], [0.1111111111111111, \"#46039f\"], [0.2222222222222222, \"#7201a8\"], [0.3333333333333333, \"#9c179e\"], [0.4444444444444444, \"#bd3786\"], [0.5555555555555556, \"#d8576b\"], [0.6666666666666666, \"#ed7953\"], [0.7777777777777778, \"#fb9f3a\"], [0.8888888888888888, \"#fdca26\"], [1.0, \"#f0f921\"]], \"type\": \"surface\"}], \"table\": [{\"cells\": {\"fill\": {\"color\": \"#EBF0F8\"}, \"line\": {\"color\": \"white\"}}, \"header\": {\"fill\": {\"color\": \"#C8D4E3\"}, \"line\": {\"color\": \"white\"}}, \"type\": \"table\"}]}, \"layout\": {\"annotationdefaults\": {\"arrowcolor\": \"#2a3f5f\", \"arrowhead\": 0, \"arrowwidth\": 1}, \"autotypenumbers\": \"strict\", \"coloraxis\": {\"colorbar\": {\"outlinewidth\": 0, \"ticks\": \"\"}}, \"colorscale\": {\"diverging\": [[0, \"#8e0152\"], [0.1, \"#c51b7d\"], [0.2, \"#de77ae\"], [0.3, \"#f1b6da\"], [0.4, \"#fde0ef\"], [0.5, \"#f7f7f7\"], [0.6, \"#e6f5d0\"], [0.7, \"#b8e186\"], [0.8, \"#7fbc41\"], [0.9, \"#4d9221\"], [1, \"#276419\"]], \"sequential\": [[0.0, \"#0d0887\"], [0.1111111111111111, \"#46039f\"], [0.2222222222222222, \"#7201a8\"], [0.3333333333333333, \"#9c179e\"], [0.4444444444444444, \"#bd3786\"], [0.5555555555555556, \"#d8576b\"], [0.6666666666666666, \"#ed7953\"], [0.7777777777777778, \"#fb9f3a\"], [0.8888888888888888, \"#fdca26\"], [1.0, \"#f0f921\"]], \"sequentialminus\": [[0.0, \"#0d0887\"], [0.1111111111111111, \"#46039f\"], [0.2222222222222222, \"#7201a8\"], [0.3333333333333333, \"#9c179e\"], [0.4444444444444444, \"#bd3786\"], [0.5555555555555556, \"#d8576b\"], [0.6666666666666666, \"#ed7953\"], [0.7777777777777778, \"#fb9f3a\"], [0.8888888888888888, \"#fdca26\"], [1.0, \"#f0f921\"]]}, \"colorway\": [\"#636efa\", \"#EF553B\", \"#00cc96\", \"#ab63fa\", \"#FFA15A\", \"#19d3f3\", \"#FF6692\", \"#B6E880\", \"#FF97FF\", \"#FECB52\"], \"font\": {\"color\": \"#2a3f5f\"}, \"geo\": {\"bgcolor\": \"white\", \"lakecolor\": \"white\", \"landcolor\": \"#E5ECF6\", \"showlakes\": true, \"showland\": true, \"subunitcolor\": \"white\"}, \"hoverlabel\": {\"align\": \"left\"}, \"hovermode\": \"closest\", \"mapbox\": {\"style\": \"light\"}, \"paper_bgcolor\": \"white\", \"plot_bgcolor\": \"#E5ECF6\", \"polar\": {\"angularaxis\": {\"gridcolor\": \"white\", \"linecolor\": \"white\", \"ticks\": \"\"}, \"bgcolor\": \"#E5ECF6\", \"radialaxis\": {\"gridcolor\": \"white\", \"linecolor\": \"white\", \"ticks\": \"\"}}, \"scene\": {\"xaxis\": {\"backgroundcolor\": \"#E5ECF6\", \"gridcolor\": \"white\", \"gridwidth\": 2, \"linecolor\": \"white\", \"showbackground\": true, \"ticks\": \"\", \"zerolinecolor\": \"white\"}, \"yaxis\": {\"backgroundcolor\": \"#E5ECF6\", \"gridcolor\": \"white\", \"gridwidth\": 2, \"linecolor\": \"white\", \"showbackground\": true, \"ticks\": \"\", \"zerolinecolor\": \"white\"}, \"zaxis\": {\"backgroundcolor\": \"#E5ECF6\", \"gridcolor\": \"white\", \"gridwidth\": 2, \"linecolor\": \"white\", \"showbackground\": true, \"ticks\": \"\", \"zerolinecolor\": \"white\"}}, \"shapedefaults\": {\"line\": {\"color\": \"#2a3f5f\"}}, \"ternary\": {\"aaxis\": {\"gridcolor\": \"white\", \"linecolor\": \"white\", \"ticks\": \"\"}, \"baxis\": {\"gridcolor\": \"white\", \"linecolor\": \"white\", \"ticks\": \"\"}, \"bgcolor\": \"#E5ECF6\", \"caxis\": {\"gridcolor\": \"white\", \"linecolor\": \"white\", \"ticks\": \"\"}}, \"title\": {\"x\": 0.05}, \"xaxis\": {\"automargin\": true, \"gridcolor\": \"white\", \"linecolor\": \"white\", \"ticks\": \"\", \"title\": {\"standoff\": 15}, \"zerolinecolor\": \"white\", \"zerolinewidth\": 2}, \"yaxis\": {\"automargin\": true, \"gridcolor\": \"white\", \"linecolor\": \"white\", \"ticks\": \"\", \"title\": {\"standoff\": 15}, \"zerolinecolor\": \"white\", \"zerolinewidth\": 2}}}, \"title\": {\"text\": \"Average House Values in Toronto\"}},                        {\"responsive\": true}                    ).then(function(){\n",
       "                            \n",
       "var gd = document.getElementById('466e07f4-e7b0-4599-b778-96a224c387a1');\n",
       "var x = new MutationObserver(function (mutations, observer) {{\n",
       "        var display = window.getComputedStyle(gd).display;\n",
       "        if (!display || display === 'none') {{\n",
       "            console.log([gd, 'removed!']);\n",
       "            Plotly.purge(gd);\n",
       "            observer.disconnect();\n",
       "        }}\n",
       "}});\n",
       "\n",
       "// Listen for the removal of the full notebook cells\n",
       "var notebookContainer = gd.closest('#notebook-container');\n",
       "if (notebookContainer) {{\n",
       "    x.observe(notebookContainer, {childList: true});\n",
       "}}\n",
       "\n",
       "// Listen for the clearing of the current output cell\n",
       "var outputEl = gd.closest('.output');\n",
       "if (outputEl) {{\n",
       "    x.observe(outputEl, {childList: true});\n",
       "}}\n",
       "\n",
       "                        })                };                });            </script>        </div>"
      ]
     },
     "metadata": {},
     "output_type": "display_data"
    }
   ],
   "source": [
    "# MapBox Visualization\n",
    "# Create a scatter mapbox to analyze neighbourhood info\n",
    "Locations_And_Values = Locations_And_Values.reset_index()\n",
    "px.scatter_mapbox(\n",
    "    Locations_And_Values, \n",
    "    lat=\"lat\", \n",
    "    lon='lon', \n",
    "    size ='average_house_value', \n",
    "    color=\"neighbourhood\",\n",
    "    title= \"Average House Values in Toronto\")"
   ]
  },
  {
   "cell_type": "code",
   "execution_count": 33,
   "id": "ed0ba0b5-93d9-4e92-9764-6093cd13a451",
   "metadata": {},
   "outputs": [],
   "source": [
    "Locations_And_Values_Map= px.scatter_mapbox(\n",
    "    Locations_And_Values, \n",
    "    lat=\"lat\", \n",
    "    lon='lon', \n",
    "    size ='average_house_value', \n",
    "    color=\"neighbourhood\",\n",
    "    title= \"Average House Values in Toronto\")"
   ]
  },
  {
   "cell_type": "code",
   "execution_count": null,
   "id": "cae9344e-316f-41de-b633-f68a237c3a32",
   "metadata": {},
   "outputs": [],
   "source": []
  }
 ],
 "metadata": {
  "kernelspec": {
   "display_name": "Python 3",
   "language": "python",
   "name": "python3"
  },
  "language_info": {
   "codemirror_mode": {
    "name": "ipython",
    "version": 3
   },
   "file_extension": ".py",
   "mimetype": "text/x-python",
   "name": "python",
   "nbconvert_exporter": "python",
   "pygments_lexer": "ipython3",
   "version": "3.8.5"
  }
 },
 "nbformat": 4,
 "nbformat_minor": 5
}
